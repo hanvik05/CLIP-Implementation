{
  "cells": [
    {
      "cell_type": "code",
      "execution_count": null,
      "metadata": {
        "colab": {
          "base_uri": "https://localhost:8080/"
        },
        "id": "0iD9FACHWYvR",
        "outputId": "61d81555-a59a-42c5-b879-fa7205ef38da"
      },
      "outputs": [
        {
          "output_type": "stream",
          "name": "stdout",
          "text": [
            "Requirement already satisfied: kaggle in /usr/local/lib/python3.10/dist-packages (1.5.16)\n",
            "Requirement already satisfied: six>=1.10 in /usr/local/lib/python3.10/dist-packages (from kaggle) (1.16.0)\n",
            "Requirement already satisfied: certifi in /usr/local/lib/python3.10/dist-packages (from kaggle) (2023.7.22)\n",
            "Requirement already satisfied: python-dateutil in /usr/local/lib/python3.10/dist-packages (from kaggle) (2.8.2)\n",
            "Requirement already satisfied: requests in /usr/local/lib/python3.10/dist-packages (from kaggle) (2.27.1)\n",
            "Requirement already satisfied: tqdm in /usr/local/lib/python3.10/dist-packages (from kaggle) (4.65.0)\n",
            "Requirement already satisfied: python-slugify in /usr/local/lib/python3.10/dist-packages (from kaggle) (8.0.1)\n",
            "Requirement already satisfied: urllib3 in /usr/local/lib/python3.10/dist-packages (from kaggle) (1.26.16)\n",
            "Requirement already satisfied: bleach in /usr/local/lib/python3.10/dist-packages (from kaggle) (6.0.0)\n",
            "Requirement already satisfied: webencodings in /usr/local/lib/python3.10/dist-packages (from bleach->kaggle) (0.5.1)\n",
            "Requirement already satisfied: text-unidecode>=1.3 in /usr/local/lib/python3.10/dist-packages (from python-slugify->kaggle) (1.3)\n",
            "Requirement already satisfied: charset-normalizer~=2.0.0 in /usr/local/lib/python3.10/dist-packages (from requests->kaggle) (2.0.12)\n",
            "Requirement already satisfied: idna<4,>=2.5 in /usr/local/lib/python3.10/dist-packages (from requests->kaggle) (3.4)\n"
          ]
        }
      ],
      "source": [
        "# importing libraries\n",
        "!pip install kaggle\n",
        "from google.colab import files\n",
        "import numpy as np\n",
        "import pandas as pd\n",
        "import os\n",
        "\n",
        "import requests\n",
        "from PIL import Image\n",
        "from io import BytesIO\n",
        "\n",
        "import torch\n",
        "import torch.nn as nn\n",
        "from torchvision import transforms\n",
        "import torch.nn.functional as F\n",
        "import torch.optim as optim\n",
        "\n",
        "\n",
        "import matplotlib.pyplot as plt"
      ]
    },
    {
      "cell_type": "code",
      "execution_count": null,
      "metadata": {
        "colab": {
          "base_uri": "https://localhost:8080/"
        },
        "id": "7eCrzNM4holu",
        "outputId": "e205238f-591b-41a6-980c-be6c8004b404"
      },
      "outputs": [
        {
          "output_type": "stream",
          "name": "stdout",
          "text": [
            "Mounted at /content/drive\n",
            "cp: cannot create regular file '/root/.kaggle/kaggle.json': No such file or directory\n",
            "chmod: cannot access '/root/.kaggle/kaggle.json': No such file or directory\n",
            "Downloading guie-laion5b-dataset.zip to /content\n",
            " 51% 25.0M/49.4M [00:00<00:00, 72.2MB/s]\n",
            "100% 49.4M/49.4M [00:00<00:00, 114MB/s] \n",
            "Archive:  guie-laion5b-dataset.zip\n",
            "  inflating: GUIE_laion5b_dataset_en.json  \n"
          ]
        }
      ],
      "source": [
        "#Bringing the dataset\n",
        "from google.colab import drive\n",
        "drive.mount('/content/drive')\n",
        "#! mkdir ~/.kaggle\n",
        "os.environ['KAGGLE_USERNAME'] = \"hanviksuruboyina\"\n",
        "os.environ['KAGGLE_KEY'] = \"b8f48ef46400e2f5a559ada21f2cc402\"\n",
        "!cp /content/drive/MyDrive/ML/kaggle.json ~/.kaggle/kaggle.json\n",
        "! chmod 600 ~/.kaggle/kaggle.json\n",
        "! kaggle datasets download vitaliykinakh/guie-laion5b-dataset\n",
        "! unzip guie-laion5b-dataset.zip"
      ]
    },
    {
      "cell_type": "code",
      "execution_count": null,
      "metadata": {
        "id": "5rNdwWoQj-Ax",
        "colab": {
          "base_uri": "https://localhost:8080/"
        },
        "outputId": "d89a1116-e008-496f-9891-700cb0e8daa1"
      },
      "outputs": [
        {
          "output_type": "stream",
          "name": "stdout",
          "text": [
            "                                             caption  \\\n",
            "0                                         gladiatore   \n",
            "1  Gladiator is listed (or ranked) 4 on the list ...   \n",
            "2             are-you-not-entertained-w-text-720x396   \n",
            "3  \"Russell Crowe em \"\"Gladiador\"\" - ©Dreamworks/...   \n",
            "4  Portrait of smiling boy in the temple of Apoll...   \n",
            "\n",
            "                                                 url          id  similarity  \\\n",
            "0  https://libreriamo.it/wp-content/uploads/2020/...  4748272869    0.516147   \n",
            "1  https://imgix.ranker.com/user_node_img/54/1075...  2784821276    0.513879   \n",
            "2  https://traditionalpolytheist.files.wordpress....  2386885741    0.508544   \n",
            "3  https://conteudo.imguol.com.br/c/entreteniment...   841845904    0.507340   \n",
            "4  https://thumbs.dreamstime.com/b/portrait-smili...  1892934610    0.506108   \n",
            "\n",
            "                            prompt category  \\\n",
            "0  meme \"Are you not entertained?\"     meme   \n",
            "1  meme \"Are you not entertained?\"     meme   \n",
            "2  meme \"Are you not entertained?\"     meme   \n",
            "3  meme \"Are you not entertained?\"     meme   \n",
            "4  meme \"Are you not entertained?\"     meme   \n",
            "\n",
            "                                          caption_en  \n",
            "0                                          gladiator  \n",
            "1  Gladiator is listed (or ranked) 4 on the list ...  \n",
            "2             are-you-not-entertained-w-text-720x396  \n",
            "3  \"Russell Crowe em \"\"Gladiador\"\" - ©Dreamworks/...  \n",
            "4  Portrait of smiling boy in the temple of Apoll...  \n"
          ]
        }
      ],
      "source": [
        "#json to csv\n",
        "data_json = pd.read_json('GUIE_laion5b_dataset_en.json')\n",
        "data_json.to_csv('data.csv', index=False)\n",
        "data = pd.read_csv('data.csv')\n",
        "print(data.head(5))"
      ]
    },
    {
      "cell_type": "code",
      "execution_count": null,
      "metadata": {
        "colab": {
          "base_uri": "https://localhost:8080/"
        },
        "id": "GL0rPhgZiVap",
        "outputId": "491c3d8a-ba5f-462d-cb64-717f01215a89"
      },
      "outputs": [
        {
          "output_type": "stream",
          "name": "stdout",
          "text": [
            "['meme', 'toys', 'furniture', 'car', 'food and packaged goods', 'clothes', 'storefronts', 'paintings', 'landmark']\n",
            "['meme \"Are you not entertained?\"', 'meme Scumbag Steve', 'meme Demotivational posters', 'meme \"All Your Base Are Belong to Us\"', 'meme Chuck Norris Facts', 'meme \"Thanks, Obama\"', 'meme Success Kid', 'meme \"Fuck it, we\\'ll do it live!\"', 'Keep Calm and Carry On', 'meme Numa Numa', 'meme The Most Interesting Man', 'meme \"Khaaaaaaaaaan!!!!\"', 'meme \"Imma let you finish\"', 'meme Michael Jackson eating popcorn', 'meme Harambe', 'meme Keyboard Cat', 'meme James Van Der Beek crying', 'meme Ceiling Cat', 'meme #Winning', 'meme woman yelling at a cat', 'meme \"Netflix and chill\"', 'meme pepe frog', 'meme \"Gangnam Style\"', 'meme Shirtless Putin', 'meme Kermit', 'meme Doge', 'meme Smash Mouth\\'s \"All Star\"', 'meme Distracted Boyfriend', 'meme Nigerian prince', 'meme The Honey Badger', 'meme trollface', 'meme Bert Is Evil', 'meme Trollface', 'meme LOLcats', 'meme Keep Calm', 'meme OBEY', 'meme \"That\\'s what she said\"', 'meme \"More cowbell!\"', 'meme Rebecca Black\\'s \"Friday\"', 'meme Derp', 'meme Dat Boi', 'meme Sad Keanu', 'meme \"Hey girl\"Sensitive Gosling', 'meme Rickrolling', 'meme Ancient Aliens', 'meme \"Don\\'t tase me, bro!\"', 'meme Grumpy Cat (RIP)', 'meme Condescending Sarcastic Willy Wonka', 'meme American Chopper argument', 'meme Dabbing', 'meme #FirstWorldProblems', 'meme Ermahgerd', 'meme Philosoraptor', 'meme Obama\\'s \"Hope\" poster', 'meme Double rainbow', 'meme Nyan Cat', 'meme \"Bye, Felicia\"', 'memes', 'memes pepe frog', 'meme Crying Michael Jordan', 'toy doll', 'toy ball', 'toy barbie', 'basketball ball', 'toy football ball', 'toy car', 'toys', 'toys blocks lego', 'toy train', 'toys blocks', 'toy football ', 'board game', 'toy teddy bear', 'toy boat', 'toy plane', 'box of toys', 'toy musical instruments', 'bookcase', 'Attic home decor', 'Drawer furniture', 'dining room', 'shelf', 'sink', 'bench furniture', 'pillow', 'window', 'Curtains furniture', 'Coffeemaker', 'kitchen', 'armchair', 'mirror furniture', 'carpet furniture', 'kitchen oven', 'washing machine', 'refrigerator', 'Cabinet furniture', 'living room', 'stool furniture', 'sheets', 'couch', 'kettle', 'chest furniture', 'lamp furniture', 'bed furniture', 'chair furniture', 'Shower bathroom', 'bedroom', 'desk furniture', 'bathtub', 'Toyota RAV4', 'car Toyota Tacoma', 'car Toyota RAV4 2020', 'car Chevrolet Silverado', 'car Ford F-150 2020', 'car Ram 1500', 'car GMC Sierra', 'car Toyota Tacoma 2020', 'car Chevrolet Silverado 2020', 'car Ford F-Series', 'car Ram 1500 2020', 'car Honda Civic', 'car Toyota Camry', 'car GMC Sierra 2020', 'car  Toyota Highlander', 'cartoon of juice', 'fried chicken', 'multipack of snacks', 'box of fruits', 'pizza', 'can of fanta', 'blister pack of medicine', 'can of pepsi', 'multipack of yogurts activia', 'can of soda', 'a bottle of milk', 'cup of tea', 'a jug of water', 'barbecue', 'kebab', 'fish disches', 'crepes', 'jar of honey', 'bar of snikers', 'bar of soap', 'piece of cheese', 'soup', 'pack of cigarettes marlboro', 'Multipack', 'pack of cigarettes lucky strike', 'sandwich', 'bottle of dr pepper', 'bottle of beer coors', 'shopping cart', 'box of candies', 'bottle of vine', 'irish breakfast', 'packet', 'pack of cigarettes winston', 'french fries', 'can of beer', 'bottle of beer budweiser', 'bottle of water', 'blister pack of candies', 'fried egg', 'hamburger', 'pack of cigarettes camel', 'sausages', 'bottle of beer corona extra', 'slice of bread', 'pack of cigarettes', 'bottle of sprite', 'box of napkins', 'ribs', 'can of beans', 'sushi', 'bottle of Coke', 'hotdog', 'bar of kitkat', 'box of food', 'a glass of water', 'packet of clothes', 'multipack of cookies', 'shopping basket', 'chicken nuggets', 'Blister pack', 'cheving gum opbit', 'multipack of yogurts', 'wrap', 'carton of milk', 'steak', 'Matchbox', 'bar of chocolate', 'rice', 'loaf of bread', 'cereals', 'bar of nuts chocolate', 'box ', 'can of Coke', 'bottle of fanta', 'blister pack of snaks', 'multipack of candies', 'can of tuna', 'bottle of pepsi', 'multipack of fruits', 'spaghetti', 'salad', 'can of sprite', 'multipack of chockolates', 'packet of food', 'multipack of chips', \"women's Necklace\", \"children's panties\", 'scarf', \"men's jumper\", \"men's socks_1\", \"women's shorts\", \"children's trousers\", \"men's coat\", \"men's derby hat\", \"children's stockings\", \"men's tee-shirt\", 'shirt', \"children's boots\", 'mittens', 'suit', 'socks_', 'Sneakers female', 'Hair band', \"women's ring\", \"children's umbrella\", \"men's socks\", \"women's purse\", 'jumper', \"children's suit\", \"women's earings\", 'accessories2', \"men's shoes\", 'female jumper', 'cap', 'children t-shirt', \"men's apron\", \"children's bra\", \"men's purse\", 'male jumper', \"women's gloves\", \"women's umbrella\", 'shoes', \"children's jeans\", \"children's shoes\", \"women's jacket\", 'running shoes', 'umbrella', 'sports suit', \"men's suit\", \"men's straw hat\", \"men's shirt\", 'sweater', 'box of clothes', \"children's skirt\", \"children's scarf\", 'child Skirt', \"men's Necklace\", \"women's trainers\", 'Pocket watch', 'hat', \"children's chinos\", 'Hoodie', 'vase', 'helmet', 'tee-shirt', \"men's ring\", 'trousers', 'male vest', 'Beret', \"women's Sunglasses\", \"children's trainers\", 'derby hat', 'jeans', \"women's trousers\", 'tie', \"children's hat\", 'jumper2', \"women's boots\", \"children's Necklace\", \"men's stockings\", 'beanie', \"men's sneakers\", \"men's jeans\", \"men's dress\", \"men's watch\", 'shorts', 'dress', \"women's mittens\", \"children's Watch\", 'male Hoodie', \"women's cap\", \"children's jacket\", \"men's cap\", 'earings', \"women's chinos\", 'male t-shirt', \"women's helmet\", \"children's earings\", 'coat', 'female t-shirt', \"women's bra\", \"men's shorts\", \"men's leather jacket\", \"men's jacket\", 'Necklace', 'female Skirt', \"women's jumper\", \"men's helmet\", 'apparel_and_accessories', \"children's mittens\", 'chinos', \"children's shirt\", 'vest', 'parts', 'Bikini', 'hoodie', 'child jumper', \"women's shoes\", \"children's pants\", \"men's pants\", 'apparel', \"women's hoodie\", 'Sneakers', 'female Hoodie', \"woman's dress\", 'Safety pin', \"children's dress\", \"women's earmuffs\", \"women's beanie\", \"women's jeans\", \"men's trainers\", \"children's shorts\", 'Sunglasses', \"women's sneakers\", \"men's skirt\", \"men's beret\", \"men's trousers\", \"women's panties\", 'gloves', 'helmet_', \"men's mittens\", 'ring', \"men's boots\", 'bowtie', 'trainers', 'female vest', \"men's gloves\", \"women's socks\", \"men's accessories\", 'child Hoodie', 'bobby pin', 'leather jacket', \"men's bra\", \"women's hat\", 'jacket', \"men's earings\", \"men's hat\", \"children's jumper\", \"children's Sunglasses\", \"children's socks\", \"women's tie\", \"men's Sunglasses\", 'purse', \"women's apron\", 'boots', \"children's tie\", \"children's earmuffs\", \"men's beanie\", \"children's gloves\", 'Sneakers male', \"women's beret\", \"men's panties\", \"women's leather jacket\", \"women's scarf\", \"men's earmuffs\", 'Apron', \"children's cap\", \"women's straw hat\", 'accessories', 'clothes', \"men's scarf\", 'straw hat', \"men's hoodie\", 'necktie', \"children's apron\", \"women's tee-shirt\", 'hoodie_kids', \"men's umbrella\", \"children's purse\", 'female Bikini', \"women's shirt\", \"children's coat\", 'Watch', 'Earmuffs', \"women's skirt\", \"women's pants\", \"children's hoodie\", \"women's derby hat\", 'Stockings', 'skirt', 'bra', \"women's Watch\", 'panties', \"women's suit\", 'Skirt', \"children's sneakers\", 'sneakers', 'child vest', \"women's coat\", 't-shirt', \"women's accessories\", \"men's tie\", \"men's chinos\", 'socks', 'storefront auchan', 'storefronts Lidl', 'storefront Aldi', 'storefront cafe', 'storefronts photos', 'storefront wolmart', 'Las Meninas Diego Velazquez painting', 'The Happy Accidents Of The Swing Jean-Honore Fragonard painting', 'The Birth Of Venus Alexandre Cabanel painting', 'The Wanderer Above The Sea Of Fog Caspar David Friedrich picture', 'mona lisa', 'artwork', 'Olympia Edouard Manet picture', 'the girl with a pearl earring painting', 'Luncheon Of The Boating Party Pierre-Auguste Renoir painting', 'the arnolfini portrait painting', 'American Gothic Grant Wood painting', 'A Cotton Office In New Orleans Edgar Degas picture', 'A Friend In Need Cassius Marcellus Coolidge painting', 'the scream artwork', 'Impression Sunrise Claude Monet painting', 'The Birth Of Venus Sandro Botticelli painting', 'The Third Of May 1808 Francisco Goya picture', 'The Creation Of Adam Michelangelo painting', 'Charles I In Three Positions Anthony van Dyck picture', 'The Grand Odalisque Jean Auguste Dominique Ingres painting', 'the starry night', 'the kiss painting', 'The Gleaners Jean-Francois Millet picture', 'Primavera Sandro Botticelli picture', 'The Last Supper Leonardo Da Vinci painting', 'The Liberty Leading The People Eugene Delacroix painting', 'The Triumph Of Galatea Raphael painting', 'The Garden Of Earthly Delights - Central Panel Hieronymus Bosch painting', 'View Of Toledo El Greco picture', 'Pollice Verso Jean-Leon Gerome painting', 'Bacchus And Ariadne Titian picture', 'Musicians Caravaggio painting', 'The Lady With The Ermine Leonardo Da Vinci painting', 'Napoleon Crossing The Alps Jacques-Louis David painting', 'The Tower Of Babel Pieter Bruegel the Elder picture', 'The Sleeping Gypsy Henri Rousseau painting', 'the night watch artwork', 'Sunday Afternoon On The Island Of La Grande Jatte Georges Seurat painting', 'landmark Golden Gate Bridge', 'landmark Bondi Beach', 'landmark Peggy’s Point Lighthouse', 'landmark The Palace of Versailles', 'toilet', 'landmark St Paul’s Cathedral', 'landmark Niagara Falls', 'landmark Cliffs of Moher', 'landmark The Shard', 'landmark Spanish Steps', 'landmark Pompeii', 'landmark The Demilitarised Zone Korea', 'landmark La Sagrada Familia', 'landmark Mount Rushmore', 'landmark Taj Mahal', 'landmark 30 St Mary Axe or The Gherkin', 'landmark Buckingham Palace', 'landmark Guggenheim Bilbao', 'landmark The Alhambra', 'landmark Burj Khalifa', 'landmark Gardens by the Bay', 'landmark Potala Palace', 'landmark The Bund', 'landmark Wembley Stadium', 'new york Statue of Liberty', 'landmark Berlin TV Tower', 'landmark The O2', 'landmark Notre Dame de Paris', 'landmark Mount Fuji', 'landmark Giant’s Causeway', 'landmark The Eiffel Tower, France', 'landmark CN Tower', 'landmark St Peter’s Basilica', 'landmark Westminster Abbey', 'landmark Seoul Tower', 'landmark Chichen Itza', 'landmark Itsukushima Shrine', 'landmark The Twelve Apostles', 'landmark Tower of London', 'landmark Petronas Towers', 'landmark Pena National Palace', 'landmark The Great Wall of China', 'landmark Marina Bay Sands', 'landmark Machu Picchu', 'landmark Hagia Sophia of Thessalonica Church', 'landmark Christ the Redeemer Statue', 'landmark Big Ben', 'landmark One Canada Square', 'landmark Bungle Bungle Range', 'landmark Leaning Tower of Pisa', 'landmark Titanic Museum and Quarter', 'landmark Hoover Dam', 'landmark Seattle Space Needle', 'landmark Arc de Triomphe', 'landmark Halong Bay', 'landmark Stonehenge', 'landmark Fairmont Le Château Frontenac', 'landmark The Berlin Wall', 'landmark Petra, Jordan', 'landmark The Forbidden City', 'landmark Empire State Building', 'landmark The Colosseum, Italy', 'landmark Tian Tan Buddha', 'landmark Sydney Harbour Bridge', 'landmark Sacré-Cœur Basilica', 'landmark Washington Monument', 'landmark Mexico City Cathedral', 'landmark Las Rambla', 'landmark  Great Pyramid of Cholula', 'landmark The London Eye', 'eiffel tower', 'landmark Shwedagon Pagoda', 'landmark Sydney Opera House', 'landmark Statue of Liberty', 'Big Ben london', 'landmark Rialto Bridge', 'landmark Saint Mark’s Basilica', 'landmark Niagara Falls_', 'landmark The Trevi Fountain', 'Gyeongbokgung and Changgyeon Palaces', 'landmark The Grand Canyon', 'landmark Hiroshima Peace Memorial Park', 'landmark The Terracotta Army Museum', 'landmark Pyramids of Giza', 'landmark Angkor Wat', 'landmark The Hollywood Sign', 'landmark Taipei 101', 'landmark The Great Mosque of Cordoba', 'landmark Ring of Kerry', 'Mont Saint-Michel', 'landmark Brandenburg Gate', 'landmark Dom Luis Bridge', 'landmark Windsor Castle', 'landmark The Louvre Museum', 'landmark Uluru', 'landmark The Imperial Palace', 'landmark Tower Bridge', 'landmark Banff National Park', 'landmark Neuschwanstein Castle', 'landmark Great Barrier Reef', 'landmark The Acropolis', 'landmark Mount Everest']\n",
            "61556\n",
            "212274\n",
            "1260\n",
            "2200\n",
            "61556\n",
            "5874\n",
            "14975\n",
            "377\n",
            "1667\n",
            "197909\n",
            "['meme', 'toys', 'furniture', 'car', 'food and packaged goods', 'clothes', 'storefronts', 'paintings', 'landmark']\n"
          ]
        }
      ],
      "source": [
        "# to find the names of categories\n",
        "def categories(category):\n",
        "  column_values = data[category]\n",
        "  unique_values = column_values.unique()\n",
        "  unique_column_names = [col.split(':')[0] for col in unique_values]\n",
        "  #print(unique_column_names)\n",
        "  #print(len(unique_column_names))\n",
        "  return unique_column_names\n",
        "\n",
        "print(categories('category'))\n",
        "print(categories('prompt'))\n",
        "\n",
        "def number_rows_category(word, category):\n",
        "  matching_rows = data[data[category].str.contains(word, case=False)]\n",
        "  num_rows = matching_rows.shape[0]\n",
        "  print(num_rows)\n",
        "\n",
        "number_rows_category('car', 'category')\n",
        "\n",
        "for i in range (0,9):\n",
        "  number_rows_category(categories('category')[i], 'category')\n",
        "print(categories('category'))"
      ]
    },
    {
      "cell_type": "code",
      "execution_count": null,
      "metadata": {
        "id": "gsV2EISz1zIj"
      },
      "outputs": [],
      "source": [
        "data = data.drop('id', axis=1) # to remove the id column as it is not useful\n",
        "data = data.drop('caption', axis=1) # to remove the caption column as it is not useful\n",
        "data = data.drop('caption_en', axis=1)\n",
        "data = data.drop('similarity', axis=1)"
      ]
    },
    {
      "cell_type": "code",
      "execution_count": null,
      "metadata": {
        "colab": {
          "base_uri": "https://localhost:8080/",
          "height": 423
        },
        "id": "Yae65f54ATcv",
        "outputId": "d8dca3ea-7719-423d-b1c7-f76daf360773"
      },
      "outputs": [
        {
          "output_type": "execute_result",
          "data": {
            "text/plain": [
              "                                                      url  \\\n",
              "0       https://libreriamo.it/wp-content/uploads/2020/...   \n",
              "1       https://imgix.ranker.com/user_node_img/54/1075...   \n",
              "2       https://traditionalpolytheist.files.wordpress....   \n",
              "3       https://conteudo.imguol.com.br/c/entreteniment...   \n",
              "4       https://thumbs.dreamstime.com/b/portrait-smili...   \n",
              "...                                                   ...   \n",
              "498087  https://static2.tripoto.com/media/filter/nt/im...   \n",
              "498088  https://images.pond5.com/peaks-near-gorak-shep...   \n",
              "498089  https://i1.vpoxod.ru/route-photo/38/c7/54/fb/4...   \n",
              "498090  https://images.centrometeoitaliano.it/wp-conte...   \n",
              "498091  https://i2.wp.com/www.vidyudabhi.com/wp-conten...   \n",
              "\n",
              "                                 prompt  category  \n",
              "0       meme \"Are you not entertained?\"      meme  \n",
              "1       meme \"Are you not entertained?\"      meme  \n",
              "2       meme \"Are you not entertained?\"      meme  \n",
              "3       meme \"Are you not entertained?\"      meme  \n",
              "4       meme \"Are you not entertained?\"      meme  \n",
              "...                                 ...       ...  \n",
              "498087           landmark Mount Everest  landmark  \n",
              "498088           landmark Mount Everest  landmark  \n",
              "498089           landmark Mount Everest  landmark  \n",
              "498090           landmark Mount Everest  landmark  \n",
              "498091           landmark Mount Everest  landmark  \n",
              "\n",
              "[498092 rows x 3 columns]"
            ],
            "text/html": [
              "\n",
              "\n",
              "  <div id=\"df-bf9496e2-35c6-445e-87e3-a390c78dd2dd\">\n",
              "    <div class=\"colab-df-container\">\n",
              "      <div>\n",
              "<style scoped>\n",
              "    .dataframe tbody tr th:only-of-type {\n",
              "        vertical-align: middle;\n",
              "    }\n",
              "\n",
              "    .dataframe tbody tr th {\n",
              "        vertical-align: top;\n",
              "    }\n",
              "\n",
              "    .dataframe thead th {\n",
              "        text-align: right;\n",
              "    }\n",
              "</style>\n",
              "<table border=\"1\" class=\"dataframe\">\n",
              "  <thead>\n",
              "    <tr style=\"text-align: right;\">\n",
              "      <th></th>\n",
              "      <th>url</th>\n",
              "      <th>prompt</th>\n",
              "      <th>category</th>\n",
              "    </tr>\n",
              "  </thead>\n",
              "  <tbody>\n",
              "    <tr>\n",
              "      <th>0</th>\n",
              "      <td>https://libreriamo.it/wp-content/uploads/2020/...</td>\n",
              "      <td>meme \"Are you not entertained?\"</td>\n",
              "      <td>meme</td>\n",
              "    </tr>\n",
              "    <tr>\n",
              "      <th>1</th>\n",
              "      <td>https://imgix.ranker.com/user_node_img/54/1075...</td>\n",
              "      <td>meme \"Are you not entertained?\"</td>\n",
              "      <td>meme</td>\n",
              "    </tr>\n",
              "    <tr>\n",
              "      <th>2</th>\n",
              "      <td>https://traditionalpolytheist.files.wordpress....</td>\n",
              "      <td>meme \"Are you not entertained?\"</td>\n",
              "      <td>meme</td>\n",
              "    </tr>\n",
              "    <tr>\n",
              "      <th>3</th>\n",
              "      <td>https://conteudo.imguol.com.br/c/entreteniment...</td>\n",
              "      <td>meme \"Are you not entertained?\"</td>\n",
              "      <td>meme</td>\n",
              "    </tr>\n",
              "    <tr>\n",
              "      <th>4</th>\n",
              "      <td>https://thumbs.dreamstime.com/b/portrait-smili...</td>\n",
              "      <td>meme \"Are you not entertained?\"</td>\n",
              "      <td>meme</td>\n",
              "    </tr>\n",
              "    <tr>\n",
              "      <th>...</th>\n",
              "      <td>...</td>\n",
              "      <td>...</td>\n",
              "      <td>...</td>\n",
              "    </tr>\n",
              "    <tr>\n",
              "      <th>498087</th>\n",
              "      <td>https://static2.tripoto.com/media/filter/nt/im...</td>\n",
              "      <td>landmark Mount Everest</td>\n",
              "      <td>landmark</td>\n",
              "    </tr>\n",
              "    <tr>\n",
              "      <th>498088</th>\n",
              "      <td>https://images.pond5.com/peaks-near-gorak-shep...</td>\n",
              "      <td>landmark Mount Everest</td>\n",
              "      <td>landmark</td>\n",
              "    </tr>\n",
              "    <tr>\n",
              "      <th>498089</th>\n",
              "      <td>https://i1.vpoxod.ru/route-photo/38/c7/54/fb/4...</td>\n",
              "      <td>landmark Mount Everest</td>\n",
              "      <td>landmark</td>\n",
              "    </tr>\n",
              "    <tr>\n",
              "      <th>498090</th>\n",
              "      <td>https://images.centrometeoitaliano.it/wp-conte...</td>\n",
              "      <td>landmark Mount Everest</td>\n",
              "      <td>landmark</td>\n",
              "    </tr>\n",
              "    <tr>\n",
              "      <th>498091</th>\n",
              "      <td>https://i2.wp.com/www.vidyudabhi.com/wp-conten...</td>\n",
              "      <td>landmark Mount Everest</td>\n",
              "      <td>landmark</td>\n",
              "    </tr>\n",
              "  </tbody>\n",
              "</table>\n",
              "<p>498092 rows × 3 columns</p>\n",
              "</div>\n",
              "      <button class=\"colab-df-convert\" onclick=\"convertToInteractive('df-bf9496e2-35c6-445e-87e3-a390c78dd2dd')\"\n",
              "              title=\"Convert this dataframe to an interactive table.\"\n",
              "              style=\"display:none;\">\n",
              "\n",
              "  <svg xmlns=\"http://www.w3.org/2000/svg\" height=\"24px\"viewBox=\"0 0 24 24\"\n",
              "       width=\"24px\">\n",
              "    <path d=\"M0 0h24v24H0V0z\" fill=\"none\"/>\n",
              "    <path d=\"M18.56 5.44l.94 2.06.94-2.06 2.06-.94-2.06-.94-.94-2.06-.94 2.06-2.06.94zm-11 1L8.5 8.5l.94-2.06 2.06-.94-2.06-.94L8.5 2.5l-.94 2.06-2.06.94zm10 10l.94 2.06.94-2.06 2.06-.94-2.06-.94-.94-2.06-.94 2.06-2.06.94z\"/><path d=\"M17.41 7.96l-1.37-1.37c-.4-.4-.92-.59-1.43-.59-.52 0-1.04.2-1.43.59L10.3 9.45l-7.72 7.72c-.78.78-.78 2.05 0 2.83L4 21.41c.39.39.9.59 1.41.59.51 0 1.02-.2 1.41-.59l7.78-7.78 2.81-2.81c.8-.78.8-2.07 0-2.86zM5.41 20L4 18.59l7.72-7.72 1.47 1.35L5.41 20z\"/>\n",
              "  </svg>\n",
              "      </button>\n",
              "\n",
              "\n",
              "\n",
              "    <div id=\"df-69c2e4d5-52f6-484a-af87-e3995f303ae7\">\n",
              "      <button class=\"colab-df-quickchart\" onclick=\"quickchart('df-69c2e4d5-52f6-484a-af87-e3995f303ae7')\"\n",
              "              title=\"Suggest charts.\"\n",
              "              style=\"display:none;\">\n",
              "\n",
              "<svg xmlns=\"http://www.w3.org/2000/svg\" height=\"24px\"viewBox=\"0 0 24 24\"\n",
              "     width=\"24px\">\n",
              "    <g>\n",
              "        <path d=\"M19 3H5c-1.1 0-2 .9-2 2v14c0 1.1.9 2 2 2h14c1.1 0 2-.9 2-2V5c0-1.1-.9-2-2-2zM9 17H7v-7h2v7zm4 0h-2V7h2v10zm4 0h-2v-4h2v4z\"/>\n",
              "    </g>\n",
              "</svg>\n",
              "      </button>\n",
              "    </div>\n",
              "\n",
              "<style>\n",
              "  .colab-df-quickchart {\n",
              "    background-color: #E8F0FE;\n",
              "    border: none;\n",
              "    border-radius: 50%;\n",
              "    cursor: pointer;\n",
              "    display: none;\n",
              "    fill: #1967D2;\n",
              "    height: 32px;\n",
              "    padding: 0 0 0 0;\n",
              "    width: 32px;\n",
              "  }\n",
              "\n",
              "  .colab-df-quickchart:hover {\n",
              "    background-color: #E2EBFA;\n",
              "    box-shadow: 0px 1px 2px rgba(60, 64, 67, 0.3), 0px 1px 3px 1px rgba(60, 64, 67, 0.15);\n",
              "    fill: #174EA6;\n",
              "  }\n",
              "\n",
              "  [theme=dark] .colab-df-quickchart {\n",
              "    background-color: #3B4455;\n",
              "    fill: #D2E3FC;\n",
              "  }\n",
              "\n",
              "  [theme=dark] .colab-df-quickchart:hover {\n",
              "    background-color: #434B5C;\n",
              "    box-shadow: 0px 1px 3px 1px rgba(0, 0, 0, 0.15);\n",
              "    filter: drop-shadow(0px 1px 2px rgba(0, 0, 0, 0.3));\n",
              "    fill: #FFFFFF;\n",
              "  }\n",
              "</style>\n",
              "\n",
              "    <script>\n",
              "      async function quickchart(key) {\n",
              "        const containerElement = document.querySelector('#' + key);\n",
              "        const charts = await google.colab.kernel.invokeFunction(\n",
              "            'suggestCharts', [key], {});\n",
              "      }\n",
              "    </script>\n",
              "\n",
              "      <script>\n",
              "\n",
              "function displayQuickchartButton(domScope) {\n",
              "  let quickchartButtonEl =\n",
              "    domScope.querySelector('#df-69c2e4d5-52f6-484a-af87-e3995f303ae7 button.colab-df-quickchart');\n",
              "  quickchartButtonEl.style.display =\n",
              "    google.colab.kernel.accessAllowed ? 'block' : 'none';\n",
              "}\n",
              "\n",
              "        displayQuickchartButton(document);\n",
              "      </script>\n",
              "      <style>\n",
              "    .colab-df-container {\n",
              "      display:flex;\n",
              "      flex-wrap:wrap;\n",
              "      gap: 12px;\n",
              "    }\n",
              "\n",
              "    .colab-df-convert {\n",
              "      background-color: #E8F0FE;\n",
              "      border: none;\n",
              "      border-radius: 50%;\n",
              "      cursor: pointer;\n",
              "      display: none;\n",
              "      fill: #1967D2;\n",
              "      height: 32px;\n",
              "      padding: 0 0 0 0;\n",
              "      width: 32px;\n",
              "    }\n",
              "\n",
              "    .colab-df-convert:hover {\n",
              "      background-color: #E2EBFA;\n",
              "      box-shadow: 0px 1px 2px rgba(60, 64, 67, 0.3), 0px 1px 3px 1px rgba(60, 64, 67, 0.15);\n",
              "      fill: #174EA6;\n",
              "    }\n",
              "\n",
              "    [theme=dark] .colab-df-convert {\n",
              "      background-color: #3B4455;\n",
              "      fill: #D2E3FC;\n",
              "    }\n",
              "\n",
              "    [theme=dark] .colab-df-convert:hover {\n",
              "      background-color: #434B5C;\n",
              "      box-shadow: 0px 1px 3px 1px rgba(0, 0, 0, 0.15);\n",
              "      filter: drop-shadow(0px 1px 2px rgba(0, 0, 0, 0.3));\n",
              "      fill: #FFFFFF;\n",
              "    }\n",
              "  </style>\n",
              "\n",
              "      <script>\n",
              "        const buttonEl =\n",
              "          document.querySelector('#df-bf9496e2-35c6-445e-87e3-a390c78dd2dd button.colab-df-convert');\n",
              "        buttonEl.style.display =\n",
              "          google.colab.kernel.accessAllowed ? 'block' : 'none';\n",
              "\n",
              "        async function convertToInteractive(key) {\n",
              "          const element = document.querySelector('#df-bf9496e2-35c6-445e-87e3-a390c78dd2dd');\n",
              "          const dataTable =\n",
              "            await google.colab.kernel.invokeFunction('convertToInteractive',\n",
              "                                                     [key], {});\n",
              "          if (!dataTable) return;\n",
              "\n",
              "          const docLinkHtml = 'Like what you see? Visit the ' +\n",
              "            '<a target=\"_blank\" href=https://colab.research.google.com/notebooks/data_table.ipynb>data table notebook</a>'\n",
              "            + ' to learn more about interactive tables.';\n",
              "          element.innerHTML = '';\n",
              "          dataTable['output_type'] = 'display_data';\n",
              "          await google.colab.output.renderOutput(dataTable, element);\n",
              "          const docLink = document.createElement('div');\n",
              "          docLink.innerHTML = docLinkHtml;\n",
              "          element.appendChild(docLink);\n",
              "        }\n",
              "      </script>\n",
              "    </div>\n",
              "  </div>\n"
            ]
          },
          "metadata": {},
          "execution_count": 6
        }
      ],
      "source": [
        "data"
      ]
    },
    {
      "cell_type": "code",
      "execution_count": null,
      "metadata": {
        "id": "CwNdwcG4Or6C"
      },
      "outputs": [],
      "source": [
        "df = pd.DataFrame()"
      ]
    },
    {
      "cell_type": "code",
      "execution_count": null,
      "metadata": {
        "id": "-ku2S62mDH5e",
        "colab": {
          "base_uri": "https://localhost:8080/"
        },
        "outputId": "2b7a1133-ef82-44f1-8462-cc5e36b9ba53"
      },
      "outputs": [
        {
          "output_type": "stream",
          "name": "stdout",
          "text": [
            "0\n",
            "1\n"
          ]
        },
        {
          "output_type": "stream",
          "name": "stderr",
          "text": [
            "<ipython-input-8-022ee89892df>:6: FutureWarning: The frame.append method is deprecated and will be removed from pandas in a future version. Use pandas.concat instead.\n",
            "  df = df.append(items_with_specific_label)\n",
            "<ipython-input-8-022ee89892df>:6: FutureWarning: The frame.append method is deprecated and will be removed from pandas in a future version. Use pandas.concat instead.\n",
            "  df = df.append(items_with_specific_label)\n",
            "<ipython-input-8-022ee89892df>:6: FutureWarning: The frame.append method is deprecated and will be removed from pandas in a future version. Use pandas.concat instead.\n",
            "  df = df.append(items_with_specific_label)\n"
          ]
        },
        {
          "output_type": "stream",
          "name": "stdout",
          "text": [
            "2\n",
            "3\n",
            "4\n"
          ]
        },
        {
          "output_type": "stream",
          "name": "stderr",
          "text": [
            "<ipython-input-8-022ee89892df>:6: FutureWarning: The frame.append method is deprecated and will be removed from pandas in a future version. Use pandas.concat instead.\n",
            "  df = df.append(items_with_specific_label)\n",
            "<ipython-input-8-022ee89892df>:6: FutureWarning: The frame.append method is deprecated and will be removed from pandas in a future version. Use pandas.concat instead.\n",
            "  df = df.append(items_with_specific_label)\n",
            "<ipython-input-8-022ee89892df>:6: FutureWarning: The frame.append method is deprecated and will be removed from pandas in a future version. Use pandas.concat instead.\n",
            "  df = df.append(items_with_specific_label)\n"
          ]
        },
        {
          "output_type": "stream",
          "name": "stdout",
          "text": [
            "5\n",
            "6\n",
            "7\n"
          ]
        },
        {
          "output_type": "stream",
          "name": "stderr",
          "text": [
            "<ipython-input-8-022ee89892df>:6: FutureWarning: The frame.append method is deprecated and will be removed from pandas in a future version. Use pandas.concat instead.\n",
            "  df = df.append(items_with_specific_label)\n",
            "<ipython-input-8-022ee89892df>:6: FutureWarning: The frame.append method is deprecated and will be removed from pandas in a future version. Use pandas.concat instead.\n",
            "  df = df.append(items_with_specific_label)\n"
          ]
        },
        {
          "output_type": "stream",
          "name": "stdout",
          "text": [
            "8\n"
          ]
        },
        {
          "output_type": "stream",
          "name": "stderr",
          "text": [
            "<ipython-input-8-022ee89892df>:6: FutureWarning: The frame.append method is deprecated and will be removed from pandas in a future version. Use pandas.concat instead.\n",
            "  df = df.append(items_with_specific_label)\n"
          ]
        }
      ],
      "source": [
        "for i in range (len(categories('category'))):\n",
        "  print(i)\n",
        "  items_with_specific_label = data[data['category'] == categories('category')[i]]\n",
        "  items_with_specific_label = items_with_specific_label.sample(frac=1, random_state=42)\n",
        "  items_with_specific_label = items_with_specific_label.head(10)\n",
        "  df = df.append(items_with_specific_label)\n",
        "df = df.reset_index(drop=True)"
      ]
    },
    {
      "cell_type": "code",
      "execution_count": null,
      "metadata": {
        "colab": {
          "base_uri": "https://localhost:8080/",
          "height": 423
        },
        "id": "e4LAEz6DdJBL",
        "outputId": "690c0e0e-a886-45ac-b873-60aa1ddeeeef"
      },
      "outputs": [
        {
          "output_type": "execute_result",
          "data": {
            "text/plain": [
              "                                                  url  \\\n",
              "0   https://static.wixstatic.com/media/039af8_8b6f...   \n",
              "1                    https://i.imgflip.com/2vo3mr.jpg   \n",
              "2   https://wiki.blogs.com/photos/uncategorized/20...   \n",
              "3   https://i.pinimg.com/200x150/36/c9/d5/36c9d5bb...   \n",
              "4   http://cdn.salemweb.net/godtube/2011/09/16/337...   \n",
              "..                                                ...   \n",
              "85  https://freedomdestinations.co.uk/wp-content/u...   \n",
              "86  https://cdn.vox-cdn.com/thumbor/ZUQmkwGVccNDMY...   \n",
              "87  https://pic.pimg.tw/jcp1223/1387283539-2192754...   \n",
              "88  https://thumbs.dreamstime.com/t/%D0%B1%D0%B0%D...   \n",
              "89  https://cdn.shopify.com/s/files/1/0071/9136/36...   \n",
              "\n",
              "                                    prompt  category  \n",
              "0                        meme Bert Is Evil      meme  \n",
              "1                 meme #FirstWorldProblems      meme  \n",
              "2                 meme \"Khaaaaaaaaaan!!!!\"      meme  \n",
              "3                           meme Keep Calm      meme  \n",
              "4        meme \"Fuck it, we'll do it live!\"      meme  \n",
              "..                                     ...       ...  \n",
              "85  landmark Fairmont Le Château Frontenac  landmark  \n",
              "86          landmark Mexico City Cathedral  landmark  \n",
              "87                     landmark Taipei 101  landmark  \n",
              "88                       landmark CN Tower  landmark  \n",
              "89              landmark Westminster Abbey  landmark  \n",
              "\n",
              "[90 rows x 3 columns]"
            ],
            "text/html": [
              "\n",
              "\n",
              "  <div id=\"df-37f6b6fc-2b74-471a-9242-adf9f62d73a3\">\n",
              "    <div class=\"colab-df-container\">\n",
              "      <div>\n",
              "<style scoped>\n",
              "    .dataframe tbody tr th:only-of-type {\n",
              "        vertical-align: middle;\n",
              "    }\n",
              "\n",
              "    .dataframe tbody tr th {\n",
              "        vertical-align: top;\n",
              "    }\n",
              "\n",
              "    .dataframe thead th {\n",
              "        text-align: right;\n",
              "    }\n",
              "</style>\n",
              "<table border=\"1\" class=\"dataframe\">\n",
              "  <thead>\n",
              "    <tr style=\"text-align: right;\">\n",
              "      <th></th>\n",
              "      <th>url</th>\n",
              "      <th>prompt</th>\n",
              "      <th>category</th>\n",
              "    </tr>\n",
              "  </thead>\n",
              "  <tbody>\n",
              "    <tr>\n",
              "      <th>0</th>\n",
              "      <td>https://static.wixstatic.com/media/039af8_8b6f...</td>\n",
              "      <td>meme Bert Is Evil</td>\n",
              "      <td>meme</td>\n",
              "    </tr>\n",
              "    <tr>\n",
              "      <th>1</th>\n",
              "      <td>https://i.imgflip.com/2vo3mr.jpg</td>\n",
              "      <td>meme #FirstWorldProblems</td>\n",
              "      <td>meme</td>\n",
              "    </tr>\n",
              "    <tr>\n",
              "      <th>2</th>\n",
              "      <td>https://wiki.blogs.com/photos/uncategorized/20...</td>\n",
              "      <td>meme \"Khaaaaaaaaaan!!!!\"</td>\n",
              "      <td>meme</td>\n",
              "    </tr>\n",
              "    <tr>\n",
              "      <th>3</th>\n",
              "      <td>https://i.pinimg.com/200x150/36/c9/d5/36c9d5bb...</td>\n",
              "      <td>meme Keep Calm</td>\n",
              "      <td>meme</td>\n",
              "    </tr>\n",
              "    <tr>\n",
              "      <th>4</th>\n",
              "      <td>http://cdn.salemweb.net/godtube/2011/09/16/337...</td>\n",
              "      <td>meme \"Fuck it, we'll do it live!\"</td>\n",
              "      <td>meme</td>\n",
              "    </tr>\n",
              "    <tr>\n",
              "      <th>...</th>\n",
              "      <td>...</td>\n",
              "      <td>...</td>\n",
              "      <td>...</td>\n",
              "    </tr>\n",
              "    <tr>\n",
              "      <th>85</th>\n",
              "      <td>https://freedomdestinations.co.uk/wp-content/u...</td>\n",
              "      <td>landmark Fairmont Le Château Frontenac</td>\n",
              "      <td>landmark</td>\n",
              "    </tr>\n",
              "    <tr>\n",
              "      <th>86</th>\n",
              "      <td>https://cdn.vox-cdn.com/thumbor/ZUQmkwGVccNDMY...</td>\n",
              "      <td>landmark Mexico City Cathedral</td>\n",
              "      <td>landmark</td>\n",
              "    </tr>\n",
              "    <tr>\n",
              "      <th>87</th>\n",
              "      <td>https://pic.pimg.tw/jcp1223/1387283539-2192754...</td>\n",
              "      <td>landmark Taipei 101</td>\n",
              "      <td>landmark</td>\n",
              "    </tr>\n",
              "    <tr>\n",
              "      <th>88</th>\n",
              "      <td>https://thumbs.dreamstime.com/t/%D0%B1%D0%B0%D...</td>\n",
              "      <td>landmark CN Tower</td>\n",
              "      <td>landmark</td>\n",
              "    </tr>\n",
              "    <tr>\n",
              "      <th>89</th>\n",
              "      <td>https://cdn.shopify.com/s/files/1/0071/9136/36...</td>\n",
              "      <td>landmark Westminster Abbey</td>\n",
              "      <td>landmark</td>\n",
              "    </tr>\n",
              "  </tbody>\n",
              "</table>\n",
              "<p>90 rows × 3 columns</p>\n",
              "</div>\n",
              "      <button class=\"colab-df-convert\" onclick=\"convertToInteractive('df-37f6b6fc-2b74-471a-9242-adf9f62d73a3')\"\n",
              "              title=\"Convert this dataframe to an interactive table.\"\n",
              "              style=\"display:none;\">\n",
              "\n",
              "  <svg xmlns=\"http://www.w3.org/2000/svg\" height=\"24px\"viewBox=\"0 0 24 24\"\n",
              "       width=\"24px\">\n",
              "    <path d=\"M0 0h24v24H0V0z\" fill=\"none\"/>\n",
              "    <path d=\"M18.56 5.44l.94 2.06.94-2.06 2.06-.94-2.06-.94-.94-2.06-.94 2.06-2.06.94zm-11 1L8.5 8.5l.94-2.06 2.06-.94-2.06-.94L8.5 2.5l-.94 2.06-2.06.94zm10 10l.94 2.06.94-2.06 2.06-.94-2.06-.94-.94-2.06-.94 2.06-2.06.94z\"/><path d=\"M17.41 7.96l-1.37-1.37c-.4-.4-.92-.59-1.43-.59-.52 0-1.04.2-1.43.59L10.3 9.45l-7.72 7.72c-.78.78-.78 2.05 0 2.83L4 21.41c.39.39.9.59 1.41.59.51 0 1.02-.2 1.41-.59l7.78-7.78 2.81-2.81c.8-.78.8-2.07 0-2.86zM5.41 20L4 18.59l7.72-7.72 1.47 1.35L5.41 20z\"/>\n",
              "  </svg>\n",
              "      </button>\n",
              "\n",
              "\n",
              "\n",
              "    <div id=\"df-f3016a25-8c6a-4d01-9fc5-264dd335eb21\">\n",
              "      <button class=\"colab-df-quickchart\" onclick=\"quickchart('df-f3016a25-8c6a-4d01-9fc5-264dd335eb21')\"\n",
              "              title=\"Suggest charts.\"\n",
              "              style=\"display:none;\">\n",
              "\n",
              "<svg xmlns=\"http://www.w3.org/2000/svg\" height=\"24px\"viewBox=\"0 0 24 24\"\n",
              "     width=\"24px\">\n",
              "    <g>\n",
              "        <path d=\"M19 3H5c-1.1 0-2 .9-2 2v14c0 1.1.9 2 2 2h14c1.1 0 2-.9 2-2V5c0-1.1-.9-2-2-2zM9 17H7v-7h2v7zm4 0h-2V7h2v10zm4 0h-2v-4h2v4z\"/>\n",
              "    </g>\n",
              "</svg>\n",
              "      </button>\n",
              "    </div>\n",
              "\n",
              "<style>\n",
              "  .colab-df-quickchart {\n",
              "    background-color: #E8F0FE;\n",
              "    border: none;\n",
              "    border-radius: 50%;\n",
              "    cursor: pointer;\n",
              "    display: none;\n",
              "    fill: #1967D2;\n",
              "    height: 32px;\n",
              "    padding: 0 0 0 0;\n",
              "    width: 32px;\n",
              "  }\n",
              "\n",
              "  .colab-df-quickchart:hover {\n",
              "    background-color: #E2EBFA;\n",
              "    box-shadow: 0px 1px 2px rgba(60, 64, 67, 0.3), 0px 1px 3px 1px rgba(60, 64, 67, 0.15);\n",
              "    fill: #174EA6;\n",
              "  }\n",
              "\n",
              "  [theme=dark] .colab-df-quickchart {\n",
              "    background-color: #3B4455;\n",
              "    fill: #D2E3FC;\n",
              "  }\n",
              "\n",
              "  [theme=dark] .colab-df-quickchart:hover {\n",
              "    background-color: #434B5C;\n",
              "    box-shadow: 0px 1px 3px 1px rgba(0, 0, 0, 0.15);\n",
              "    filter: drop-shadow(0px 1px 2px rgba(0, 0, 0, 0.3));\n",
              "    fill: #FFFFFF;\n",
              "  }\n",
              "</style>\n",
              "\n",
              "    <script>\n",
              "      async function quickchart(key) {\n",
              "        const containerElement = document.querySelector('#' + key);\n",
              "        const charts = await google.colab.kernel.invokeFunction(\n",
              "            'suggestCharts', [key], {});\n",
              "      }\n",
              "    </script>\n",
              "\n",
              "      <script>\n",
              "\n",
              "function displayQuickchartButton(domScope) {\n",
              "  let quickchartButtonEl =\n",
              "    domScope.querySelector('#df-f3016a25-8c6a-4d01-9fc5-264dd335eb21 button.colab-df-quickchart');\n",
              "  quickchartButtonEl.style.display =\n",
              "    google.colab.kernel.accessAllowed ? 'block' : 'none';\n",
              "}\n",
              "\n",
              "        displayQuickchartButton(document);\n",
              "      </script>\n",
              "      <style>\n",
              "    .colab-df-container {\n",
              "      display:flex;\n",
              "      flex-wrap:wrap;\n",
              "      gap: 12px;\n",
              "    }\n",
              "\n",
              "    .colab-df-convert {\n",
              "      background-color: #E8F0FE;\n",
              "      border: none;\n",
              "      border-radius: 50%;\n",
              "      cursor: pointer;\n",
              "      display: none;\n",
              "      fill: #1967D2;\n",
              "      height: 32px;\n",
              "      padding: 0 0 0 0;\n",
              "      width: 32px;\n",
              "    }\n",
              "\n",
              "    .colab-df-convert:hover {\n",
              "      background-color: #E2EBFA;\n",
              "      box-shadow: 0px 1px 2px rgba(60, 64, 67, 0.3), 0px 1px 3px 1px rgba(60, 64, 67, 0.15);\n",
              "      fill: #174EA6;\n",
              "    }\n",
              "\n",
              "    [theme=dark] .colab-df-convert {\n",
              "      background-color: #3B4455;\n",
              "      fill: #D2E3FC;\n",
              "    }\n",
              "\n",
              "    [theme=dark] .colab-df-convert:hover {\n",
              "      background-color: #434B5C;\n",
              "      box-shadow: 0px 1px 3px 1px rgba(0, 0, 0, 0.15);\n",
              "      filter: drop-shadow(0px 1px 2px rgba(0, 0, 0, 0.3));\n",
              "      fill: #FFFFFF;\n",
              "    }\n",
              "  </style>\n",
              "\n",
              "      <script>\n",
              "        const buttonEl =\n",
              "          document.querySelector('#df-37f6b6fc-2b74-471a-9242-adf9f62d73a3 button.colab-df-convert');\n",
              "        buttonEl.style.display =\n",
              "          google.colab.kernel.accessAllowed ? 'block' : 'none';\n",
              "\n",
              "        async function convertToInteractive(key) {\n",
              "          const element = document.querySelector('#df-37f6b6fc-2b74-471a-9242-adf9f62d73a3');\n",
              "          const dataTable =\n",
              "            await google.colab.kernel.invokeFunction('convertToInteractive',\n",
              "                                                     [key], {});\n",
              "          if (!dataTable) return;\n",
              "\n",
              "          const docLinkHtml = 'Like what you see? Visit the ' +\n",
              "            '<a target=\"_blank\" href=https://colab.research.google.com/notebooks/data_table.ipynb>data table notebook</a>'\n",
              "            + ' to learn more about interactive tables.';\n",
              "          element.innerHTML = '';\n",
              "          dataTable['output_type'] = 'display_data';\n",
              "          await google.colab.output.renderOutput(dataTable, element);\n",
              "          const docLink = document.createElement('div');\n",
              "          docLink.innerHTML = docLinkHtml;\n",
              "          element.appendChild(docLink);\n",
              "        }\n",
              "      </script>\n",
              "    </div>\n",
              "  </div>\n"
            ]
          },
          "metadata": {},
          "execution_count": 9
        }
      ],
      "source": [
        "df"
      ]
    },
    {
      "cell_type": "code",
      "execution_count": null,
      "metadata": {
        "colab": {
          "base_uri": "https://localhost:8080/"
        },
        "id": "tqVqnA67ebSB",
        "outputId": "a1bf31b8-0cba-4e2b-92ac-46275cdf2bba"
      },
      "outputs": [
        {
          "output_type": "execute_result",
          "data": {
            "text/plain": [
              "(90,)"
            ]
          },
          "metadata": {},
          "execution_count": 10
        }
      ],
      "source": [
        "size = df.shape[0]\n",
        "image_array = np.zeros((size,), dtype=object)  # Use object dtype to store arrays of varying sizes\n",
        "image_array.shape"
      ]
    },
    {
      "cell_type": "code",
      "execution_count": null,
      "metadata": {
        "colab": {
          "base_uri": "https://localhost:8080/"
        },
        "id": "oyV90FMNb59Z",
        "outputId": "7d50c245-b634-4ec9-b60e-93ad7a623df6"
      },
      "outputs": [
        {
          "output_type": "stream",
          "name": "stdout",
          "text": [
            "0\n",
            "1\n",
            "2\n",
            "Error occurred for URL https://wiki.blogs.com/photos/uncategorized/2007/04/15/cheeeese.jpg: 403 Client Error: Forbidden for url: https://wiki.blogs.com/photos/uncategorized/2007/04/15/cheeeese.jpg\n",
            "3\n",
            "4\n",
            "5\n",
            "6\n",
            "7\n",
            "8\n",
            "9\n",
            "10\n",
            "11\n",
            "Error occurred for URL https://www.darice.com/Content/Images/ProductImages/XL/Main/9163-46.jpg: HTTPSConnectionPool(host='www.darice.com', port=443): Max retries exceeded with url: /Content/Images/ProductImages/XL/Main/9163-46.jpg (Caused by NewConnectionError('<urllib3.connection.HTTPSConnection object at 0x7dcbd0970f40>: Failed to establish a new connection: [Errno -2] Name or service not known'))\n",
            "12\n",
            "13\n",
            "Error occurred for URL https://www.tobar.fr/media/catalog/product/cache/3/small_image/450x450/9df78eab33525d08d6e5fb8d27136e95/E46113_800.jpg: 404 Client Error: Not Found for url: https://www.tobar.fr/media/catalog/product/cache/3/small_image/450x450/9df78eab33525d08d6e5fb8d27136e95/E46113_800.jpg\n",
            "14\n",
            "15\n",
            "16\n",
            "Error occurred for URL https://cdn1.tedsby.com/tb/medium/storage/3/9/2/392662/collectible-teddy-bear-sam-by-taya.jpg: 403 Client Error: Forbidden for url: https://cdn1.tedsby.com/tb/medium/storage/3/9/2/392662/collectible-teddy-bear-sam-by-taya.jpg\n",
            "17\n",
            "Error occurred for URL https://tereza-shop.com.ua/assets/cache/images/462775b7cf7b901ed83a5b543951d75b.jpg: 403 Client Error: Forbidden for url: https://tereza-shop.com.ua/assets/cache/images/462775b7cf7b901ed83a5b543951d75b.jpg\n",
            "18\n",
            "19\n",
            "20\n",
            "21\n",
            "22\n",
            "23\n",
            "24\n",
            "25\n",
            "26\n",
            "27\n",
            "28\n",
            "29\n",
            "Error occurred for URL https://cdn-img-2.wanelo.com/p/2f7/74e/9d4/12d3e63fae6d2bbe67af04b/x200-q90.jpg: 404 Client Error: Not Found for url: https://cdn-img-2.wanelo.com/p/2f7/74e/9d4/12d3e63fae6d2bbe67af04b/x200-q90.jpg\n",
            "30\n",
            "31\n",
            "32\n",
            "33\n",
            "34\n",
            "35\n",
            "36\n",
            "Error occurred for URL https://derestricted.com/wp-content/uploads/2016/05/1462545410-300x225.jpg: 404 Client Error: Not Found for url: https://derestricted.com/wp-content/uploads/2016/05/1462545410-300x225.jpg\n",
            "37\n",
            "38\n",
            "39\n",
            "40\n",
            "41\n",
            "42\n",
            "43\n",
            "44\n",
            "45\n",
            "46\n",
            "47\n",
            "Error occurred for URL https://images.yaoota.com/XRUmEmuy_eXc4eEMxwkDSLwj7xg=/trim/fit-in/200x200/filters:quality(80)/yaootaweb-production-sa/media/crawledproductimages/66ee082f347a7c95600c314afbcc352ab7b0b38a.jpg: HTTPSConnectionPool(host='images.yaoota.com', port=443): Max retries exceeded with url: /XRUmEmuy_eXc4eEMxwkDSLwj7xg=/trim/fit-in/200x200/filters:quality(80)/yaootaweb-production-sa/media/crawledproductimages/66ee082f347a7c95600c314afbcc352ab7b0b38a.jpg (Caused by SSLError(SSLCertVerificationError(1, '[SSL: CERTIFICATE_VERIFY_FAILED] certificate verify failed: unable to get local issuer certificate (_ssl.c:1007)')))\n",
            "48\n",
            "Error occurred for URL https://cdn.shopify.com/s/files/1/0023/7004/4004/products/clean-soap-1_1024x1024.jpg?v=1595741745: 404 Client Error: Not Found for url: https://cdn.shopify.com/s/files/1/0023/7004/4004/products/clean-soap-1_1024x1024.jpg?v=1595741745\n",
            "49\n",
            "50\n",
            "Error occurred for URL https://cdn.shopify.com/s/files/1/0373/4260/9548/products/BOTANISTS_DIARY_TIE_TLIB136_300x300.jpg?v=1590015340: 404 Client Error: Not Found for url: https://cdn.shopify.com/s/files/1/0373/4260/9548/products/BOTANISTS_DIARY_TIE_TLIB136_300x300.jpg?v=1590015340\n",
            "51\n",
            "Error occurred for URL https://imagescdn.simons.ca/images/160-51716-70-A1_2/twisted-knit-mittens.jpg?__=3: 403 Client Error: Forbidden for url: https://imagescdn.simons.ca/images/160-51716-70-A1_2/twisted-knit-mittens.jpg?__=3\n",
            "52\n",
            "53\n",
            "54\n",
            "55\n",
            "56\n",
            "57\n",
            "58\n",
            "59\n",
            "60\n",
            "61\n",
            "62\n",
            "Error occurred for URL http://img.lovpho.com/anh/width248/2015/17-12/pancakes-amp-coffee-nicole-franzen-sunday-morning-sweet-breakfast-coffee-fruit-pancakes-good-morning-breakfast-food-coffee-breakfast.jpg: HTTPConnectionPool(host='img.lovpho.com', port=80): Max retries exceeded with url: /anh/width248/2015/17-12/pancakes-amp-coffee-nicole-franzen-sunday-morning-sweet-breakfast-coffee-fruit-pancakes-good-morning-breakfast-food-coffee-breakfast.jpg (Caused by NewConnectionError('<urllib3.connection.HTTPConnection object at 0x7dcb68eff8b0>: Failed to establish a new connection: [Errno -2] Name or service not known'))\n",
            "63\n",
            "64\n",
            "65\n",
            "66\n",
            "Error occurred for URL http://d3l2rivt3pqnj2.cloudfront.net/i/prints/rw/en_easyart/sm/4/2/The-Italian-Baker-Janet-Hill-427923.jpg: HTTPConnectionPool(host='d3l2rivt3pqnj2.cloudfront.net', port=80): Max retries exceeded with url: /i/prints/rw/en_easyart/sm/4/2/The-Italian-Baker-Janet-Hill-427923.jpg (Caused by NewConnectionError('<urllib3.connection.HTTPConnection object at 0x7dcb68eff190>: Failed to establish a new connection: [Errno -5] No address associated with hostname'))\n",
            "67\n",
            "68\n",
            "69\n",
            "70\n",
            "Error occurred for URL https://smashinghub.com/wp-content/uploads/2012/01/wall-stricker-26.jpg: 403 Client Error: Forbidden for url: https://smashinghub.com/wp-content/uploads/2012/01/wall-stricker-26.jpg\n",
            "71\n",
            "72\n",
            "73\n",
            "74\n",
            "75\n",
            "76\n",
            "77\n",
            "78\n",
            "79\n",
            "80\n",
            "81\n",
            "82\n",
            "83\n",
            "84\n",
            "85\n",
            "86\n",
            "87\n",
            "88\n",
            "89\n"
          ]
        }
      ],
      "source": [
        "count = 0\n",
        "for i in range(size):\n",
        "    urls = df.loc[i, 'url']\n",
        "\n",
        "    try:\n",
        "        print(i)\n",
        "        response = requests.get(urls)\n",
        "        response.raise_for_status()  # Check for any HTTP request errors\n",
        "\n",
        "        # Read the image data from the response content\n",
        "        image_data = response.content\n",
        "\n",
        "        # Create a PIL image object from the image data\n",
        "        image = Image.open(BytesIO(image_data))\n",
        "        image = image.resize((224, 224))\n",
        "\n",
        "        # Convert the PIL image to a NumPy array\n",
        "        image_np = np.array(image)\n",
        "\n",
        "        # Assign the NumPy array to the appropriate index in image_array\n",
        "        image_array[count] = image_np\n",
        "        count = count + 1\n",
        "\n",
        "    except requests.exceptions.RequestException as err:\n",
        "        df = df.drop(i)\n",
        "        print(f\"Error occurred for URL {urls}: {err}\")\n",
        "\n",
        "    except (IOError, ValueError) as err:\n",
        "        df = df.drop(i)\n",
        "        print(f\"Error occurred while processing image {i}: {err}\")\n"
      ]
    },
    {
      "cell_type": "code",
      "execution_count": null,
      "metadata": {
        "id": "LbudCBGcXu52"
      },
      "outputs": [],
      "source": [
        "df = df.reset_index(drop=True)\n",
        "image_array = image_array[:count]\n",
        "df['image_array'] = image_array"
      ]
    },
    {
      "cell_type": "code",
      "execution_count": null,
      "metadata": {
        "colab": {
          "base_uri": "https://localhost:8080/",
          "height": 423
        },
        "id": "2oZAdxPQPuBV",
        "outputId": "e77cf9c2-7622-408d-e1c7-6f9d742e76a3"
      },
      "outputs": [
        {
          "output_type": "execute_result",
          "data": {
            "text/plain": [
              "                                                  url  \\\n",
              "0   https://static.wixstatic.com/media/039af8_8b6f...   \n",
              "1                    https://i.imgflip.com/2vo3mr.jpg   \n",
              "2   https://i.pinimg.com/200x150/36/c9/d5/36c9d5bb...   \n",
              "3   http://cdn.salemweb.net/godtube/2011/09/16/337...   \n",
              "4   https://thumbs.dreamstime.com/t/le-mari-et-l-%...   \n",
              "..                                                ...   \n",
              "71  https://freedomdestinations.co.uk/wp-content/u...   \n",
              "72  https://cdn.vox-cdn.com/thumbor/ZUQmkwGVccNDMY...   \n",
              "73  https://pic.pimg.tw/jcp1223/1387283539-2192754...   \n",
              "74  https://thumbs.dreamstime.com/t/%D0%B1%D0%B0%D...   \n",
              "75  https://cdn.shopify.com/s/files/1/0071/9136/36...   \n",
              "\n",
              "                                    prompt  category  \\\n",
              "0                        meme Bert Is Evil      meme   \n",
              "1                 meme #FirstWorldProblems      meme   \n",
              "2                           meme Keep Calm      meme   \n",
              "3        meme \"Fuck it, we'll do it live!\"      meme   \n",
              "4        meme \"Fuck it, we'll do it live!\"      meme   \n",
              "..                                     ...       ...   \n",
              "71  landmark Fairmont Le Château Frontenac  landmark   \n",
              "72          landmark Mexico City Cathedral  landmark   \n",
              "73                     landmark Taipei 101  landmark   \n",
              "74                       landmark CN Tower  landmark   \n",
              "75              landmark Westminster Abbey  landmark   \n",
              "\n",
              "                                          image_array  \n",
              "0   [[[241, 241, 232], [245, 243, 234], [235, 231,...  \n",
              "1   [[[194, 192, 171], [194, 192, 171], [193, 192,...  \n",
              "2   [[[57, 27, 3], [63, 33, 9], [63, 32, 7], [57, ...  \n",
              "3   [[[128, 161, 178], [154, 188, 205], [156, 188,...  \n",
              "4   [[[133, 111, 97], [132, 114, 99], [131, 117, 1...  \n",
              "..                                                ...  \n",
              "71  [[[175, 156, 126], [175, 158, 129], [178, 161,...  \n",
              "72  [[[29, 19, 8], [29, 16, 8], [25, 9, 4], [31, 1...  \n",
              "73  [[[114, 76, 11], [104, 68, 9], [93, 58, 10], [...  \n",
              "74  [[[81, 159, 221], [81, 159, 221], [81, 159, 22...  \n",
              "75  [[[253, 253, 253], [253, 253, 253], [253, 253,...  \n",
              "\n",
              "[76 rows x 4 columns]"
            ],
            "text/html": [
              "\n",
              "\n",
              "  <div id=\"df-30237f3c-e821-4792-bce8-e68980fcd190\">\n",
              "    <div class=\"colab-df-container\">\n",
              "      <div>\n",
              "<style scoped>\n",
              "    .dataframe tbody tr th:only-of-type {\n",
              "        vertical-align: middle;\n",
              "    }\n",
              "\n",
              "    .dataframe tbody tr th {\n",
              "        vertical-align: top;\n",
              "    }\n",
              "\n",
              "    .dataframe thead th {\n",
              "        text-align: right;\n",
              "    }\n",
              "</style>\n",
              "<table border=\"1\" class=\"dataframe\">\n",
              "  <thead>\n",
              "    <tr style=\"text-align: right;\">\n",
              "      <th></th>\n",
              "      <th>url</th>\n",
              "      <th>prompt</th>\n",
              "      <th>category</th>\n",
              "      <th>image_array</th>\n",
              "    </tr>\n",
              "  </thead>\n",
              "  <tbody>\n",
              "    <tr>\n",
              "      <th>0</th>\n",
              "      <td>https://static.wixstatic.com/media/039af8_8b6f...</td>\n",
              "      <td>meme Bert Is Evil</td>\n",
              "      <td>meme</td>\n",
              "      <td>[[[241, 241, 232], [245, 243, 234], [235, 231,...</td>\n",
              "    </tr>\n",
              "    <tr>\n",
              "      <th>1</th>\n",
              "      <td>https://i.imgflip.com/2vo3mr.jpg</td>\n",
              "      <td>meme #FirstWorldProblems</td>\n",
              "      <td>meme</td>\n",
              "      <td>[[[194, 192, 171], [194, 192, 171], [193, 192,...</td>\n",
              "    </tr>\n",
              "    <tr>\n",
              "      <th>2</th>\n",
              "      <td>https://i.pinimg.com/200x150/36/c9/d5/36c9d5bb...</td>\n",
              "      <td>meme Keep Calm</td>\n",
              "      <td>meme</td>\n",
              "      <td>[[[57, 27, 3], [63, 33, 9], [63, 32, 7], [57, ...</td>\n",
              "    </tr>\n",
              "    <tr>\n",
              "      <th>3</th>\n",
              "      <td>http://cdn.salemweb.net/godtube/2011/09/16/337...</td>\n",
              "      <td>meme \"Fuck it, we'll do it live!\"</td>\n",
              "      <td>meme</td>\n",
              "      <td>[[[128, 161, 178], [154, 188, 205], [156, 188,...</td>\n",
              "    </tr>\n",
              "    <tr>\n",
              "      <th>4</th>\n",
              "      <td>https://thumbs.dreamstime.com/t/le-mari-et-l-%...</td>\n",
              "      <td>meme \"Fuck it, we'll do it live!\"</td>\n",
              "      <td>meme</td>\n",
              "      <td>[[[133, 111, 97], [132, 114, 99], [131, 117, 1...</td>\n",
              "    </tr>\n",
              "    <tr>\n",
              "      <th>...</th>\n",
              "      <td>...</td>\n",
              "      <td>...</td>\n",
              "      <td>...</td>\n",
              "      <td>...</td>\n",
              "    </tr>\n",
              "    <tr>\n",
              "      <th>71</th>\n",
              "      <td>https://freedomdestinations.co.uk/wp-content/u...</td>\n",
              "      <td>landmark Fairmont Le Château Frontenac</td>\n",
              "      <td>landmark</td>\n",
              "      <td>[[[175, 156, 126], [175, 158, 129], [178, 161,...</td>\n",
              "    </tr>\n",
              "    <tr>\n",
              "      <th>72</th>\n",
              "      <td>https://cdn.vox-cdn.com/thumbor/ZUQmkwGVccNDMY...</td>\n",
              "      <td>landmark Mexico City Cathedral</td>\n",
              "      <td>landmark</td>\n",
              "      <td>[[[29, 19, 8], [29, 16, 8], [25, 9, 4], [31, 1...</td>\n",
              "    </tr>\n",
              "    <tr>\n",
              "      <th>73</th>\n",
              "      <td>https://pic.pimg.tw/jcp1223/1387283539-2192754...</td>\n",
              "      <td>landmark Taipei 101</td>\n",
              "      <td>landmark</td>\n",
              "      <td>[[[114, 76, 11], [104, 68, 9], [93, 58, 10], [...</td>\n",
              "    </tr>\n",
              "    <tr>\n",
              "      <th>74</th>\n",
              "      <td>https://thumbs.dreamstime.com/t/%D0%B1%D0%B0%D...</td>\n",
              "      <td>landmark CN Tower</td>\n",
              "      <td>landmark</td>\n",
              "      <td>[[[81, 159, 221], [81, 159, 221], [81, 159, 22...</td>\n",
              "    </tr>\n",
              "    <tr>\n",
              "      <th>75</th>\n",
              "      <td>https://cdn.shopify.com/s/files/1/0071/9136/36...</td>\n",
              "      <td>landmark Westminster Abbey</td>\n",
              "      <td>landmark</td>\n",
              "      <td>[[[253, 253, 253], [253, 253, 253], [253, 253,...</td>\n",
              "    </tr>\n",
              "  </tbody>\n",
              "</table>\n",
              "<p>76 rows × 4 columns</p>\n",
              "</div>\n",
              "      <button class=\"colab-df-convert\" onclick=\"convertToInteractive('df-30237f3c-e821-4792-bce8-e68980fcd190')\"\n",
              "              title=\"Convert this dataframe to an interactive table.\"\n",
              "              style=\"display:none;\">\n",
              "\n",
              "  <svg xmlns=\"http://www.w3.org/2000/svg\" height=\"24px\"viewBox=\"0 0 24 24\"\n",
              "       width=\"24px\">\n",
              "    <path d=\"M0 0h24v24H0V0z\" fill=\"none\"/>\n",
              "    <path d=\"M18.56 5.44l.94 2.06.94-2.06 2.06-.94-2.06-.94-.94-2.06-.94 2.06-2.06.94zm-11 1L8.5 8.5l.94-2.06 2.06-.94-2.06-.94L8.5 2.5l-.94 2.06-2.06.94zm10 10l.94 2.06.94-2.06 2.06-.94-2.06-.94-.94-2.06-.94 2.06-2.06.94z\"/><path d=\"M17.41 7.96l-1.37-1.37c-.4-.4-.92-.59-1.43-.59-.52 0-1.04.2-1.43.59L10.3 9.45l-7.72 7.72c-.78.78-.78 2.05 0 2.83L4 21.41c.39.39.9.59 1.41.59.51 0 1.02-.2 1.41-.59l7.78-7.78 2.81-2.81c.8-.78.8-2.07 0-2.86zM5.41 20L4 18.59l7.72-7.72 1.47 1.35L5.41 20z\"/>\n",
              "  </svg>\n",
              "      </button>\n",
              "\n",
              "\n",
              "\n",
              "    <div id=\"df-360594a9-c8f6-4539-8c2f-e5009383c3f7\">\n",
              "      <button class=\"colab-df-quickchart\" onclick=\"quickchart('df-360594a9-c8f6-4539-8c2f-e5009383c3f7')\"\n",
              "              title=\"Suggest charts.\"\n",
              "              style=\"display:none;\">\n",
              "\n",
              "<svg xmlns=\"http://www.w3.org/2000/svg\" height=\"24px\"viewBox=\"0 0 24 24\"\n",
              "     width=\"24px\">\n",
              "    <g>\n",
              "        <path d=\"M19 3H5c-1.1 0-2 .9-2 2v14c0 1.1.9 2 2 2h14c1.1 0 2-.9 2-2V5c0-1.1-.9-2-2-2zM9 17H7v-7h2v7zm4 0h-2V7h2v10zm4 0h-2v-4h2v4z\"/>\n",
              "    </g>\n",
              "</svg>\n",
              "      </button>\n",
              "    </div>\n",
              "\n",
              "<style>\n",
              "  .colab-df-quickchart {\n",
              "    background-color: #E8F0FE;\n",
              "    border: none;\n",
              "    border-radius: 50%;\n",
              "    cursor: pointer;\n",
              "    display: none;\n",
              "    fill: #1967D2;\n",
              "    height: 32px;\n",
              "    padding: 0 0 0 0;\n",
              "    width: 32px;\n",
              "  }\n",
              "\n",
              "  .colab-df-quickchart:hover {\n",
              "    background-color: #E2EBFA;\n",
              "    box-shadow: 0px 1px 2px rgba(60, 64, 67, 0.3), 0px 1px 3px 1px rgba(60, 64, 67, 0.15);\n",
              "    fill: #174EA6;\n",
              "  }\n",
              "\n",
              "  [theme=dark] .colab-df-quickchart {\n",
              "    background-color: #3B4455;\n",
              "    fill: #D2E3FC;\n",
              "  }\n",
              "\n",
              "  [theme=dark] .colab-df-quickchart:hover {\n",
              "    background-color: #434B5C;\n",
              "    box-shadow: 0px 1px 3px 1px rgba(0, 0, 0, 0.15);\n",
              "    filter: drop-shadow(0px 1px 2px rgba(0, 0, 0, 0.3));\n",
              "    fill: #FFFFFF;\n",
              "  }\n",
              "</style>\n",
              "\n",
              "    <script>\n",
              "      async function quickchart(key) {\n",
              "        const containerElement = document.querySelector('#' + key);\n",
              "        const charts = await google.colab.kernel.invokeFunction(\n",
              "            'suggestCharts', [key], {});\n",
              "      }\n",
              "    </script>\n",
              "\n",
              "      <script>\n",
              "\n",
              "function displayQuickchartButton(domScope) {\n",
              "  let quickchartButtonEl =\n",
              "    domScope.querySelector('#df-360594a9-c8f6-4539-8c2f-e5009383c3f7 button.colab-df-quickchart');\n",
              "  quickchartButtonEl.style.display =\n",
              "    google.colab.kernel.accessAllowed ? 'block' : 'none';\n",
              "}\n",
              "\n",
              "        displayQuickchartButton(document);\n",
              "      </script>\n",
              "      <style>\n",
              "    .colab-df-container {\n",
              "      display:flex;\n",
              "      flex-wrap:wrap;\n",
              "      gap: 12px;\n",
              "    }\n",
              "\n",
              "    .colab-df-convert {\n",
              "      background-color: #E8F0FE;\n",
              "      border: none;\n",
              "      border-radius: 50%;\n",
              "      cursor: pointer;\n",
              "      display: none;\n",
              "      fill: #1967D2;\n",
              "      height: 32px;\n",
              "      padding: 0 0 0 0;\n",
              "      width: 32px;\n",
              "    }\n",
              "\n",
              "    .colab-df-convert:hover {\n",
              "      background-color: #E2EBFA;\n",
              "      box-shadow: 0px 1px 2px rgba(60, 64, 67, 0.3), 0px 1px 3px 1px rgba(60, 64, 67, 0.15);\n",
              "      fill: #174EA6;\n",
              "    }\n",
              "\n",
              "    [theme=dark] .colab-df-convert {\n",
              "      background-color: #3B4455;\n",
              "      fill: #D2E3FC;\n",
              "    }\n",
              "\n",
              "    [theme=dark] .colab-df-convert:hover {\n",
              "      background-color: #434B5C;\n",
              "      box-shadow: 0px 1px 3px 1px rgba(0, 0, 0, 0.15);\n",
              "      filter: drop-shadow(0px 1px 2px rgba(0, 0, 0, 0.3));\n",
              "      fill: #FFFFFF;\n",
              "    }\n",
              "  </style>\n",
              "\n",
              "      <script>\n",
              "        const buttonEl =\n",
              "          document.querySelector('#df-30237f3c-e821-4792-bce8-e68980fcd190 button.colab-df-convert');\n",
              "        buttonEl.style.display =\n",
              "          google.colab.kernel.accessAllowed ? 'block' : 'none';\n",
              "\n",
              "        async function convertToInteractive(key) {\n",
              "          const element = document.querySelector('#df-30237f3c-e821-4792-bce8-e68980fcd190');\n",
              "          const dataTable =\n",
              "            await google.colab.kernel.invokeFunction('convertToInteractive',\n",
              "                                                     [key], {});\n",
              "          if (!dataTable) return;\n",
              "\n",
              "          const docLinkHtml = 'Like what you see? Visit the ' +\n",
              "            '<a target=\"_blank\" href=https://colab.research.google.com/notebooks/data_table.ipynb>data table notebook</a>'\n",
              "            + ' to learn more about interactive tables.';\n",
              "          element.innerHTML = '';\n",
              "          dataTable['output_type'] = 'display_data';\n",
              "          await google.colab.output.renderOutput(dataTable, element);\n",
              "          const docLink = document.createElement('div');\n",
              "          docLink.innerHTML = docLinkHtml;\n",
              "          element.appendChild(docLink);\n",
              "        }\n",
              "      </script>\n",
              "    </div>\n",
              "  </div>\n"
            ]
          },
          "metadata": {},
          "execution_count": 13
        }
      ],
      "source": [
        "df"
      ]
    },
    {
      "cell_type": "code",
      "execution_count": null,
      "metadata": {
        "id": "j2kz51sniYmv"
      },
      "outputs": [],
      "source": [
        "num_rows = df.shape[0]"
      ]
    },
    {
      "cell_type": "code",
      "execution_count": null,
      "metadata": {
        "colab": {
          "base_uri": "https://localhost:8080/",
          "height": 434
        },
        "id": "wmXl5sjliaf0",
        "outputId": "34003b46-fe6e-4f54-93e7-2a6d31160d78"
      },
      "outputs": [
        {
          "output_type": "display_data",
          "data": {
            "text/plain": [
              "<Figure size 640x480 with 1 Axes>"
            ],
            "image/png": "[encoded data removed]"
          },
          "metadata": {}
        }
      ],
      "source": [
        "\n",
        "import matplotlib.pyplot as plt\n",
        "plt.imshow(image_array[3], cmap='viridis')\n",
        "#plt.colorbar()\n",
        "\n",
        "# Display the plot\n",
        "plt.show()"
      ]
    },
    {
      "cell_type": "code",
      "execution_count": null,
      "metadata": {
        "colab": {
          "base_uri": "https://localhost:8080/",
          "height": 423
        },
        "id": "R3dXmizSA_iS",
        "outputId": "ac9edae3-8ca1-45f7-8977-1e28cb5dc079"
      },
      "outputs": [
        {
          "output_type": "execute_result",
          "data": {
            "text/plain": [
              "                                                  url  \\\n",
              "0   https://static.wixstatic.com/media/039af8_8b6f...   \n",
              "1                    https://i.imgflip.com/2vo3mr.jpg   \n",
              "2   https://i.pinimg.com/200x150/36/c9/d5/36c9d5bb...   \n",
              "3   http://cdn.salemweb.net/godtube/2011/09/16/337...   \n",
              "4   https://thumbs.dreamstime.com/t/le-mari-et-l-%...   \n",
              "..                                                ...   \n",
              "71  https://freedomdestinations.co.uk/wp-content/u...   \n",
              "72  https://cdn.vox-cdn.com/thumbor/ZUQmkwGVccNDMY...   \n",
              "73  https://pic.pimg.tw/jcp1223/1387283539-2192754...   \n",
              "74  https://thumbs.dreamstime.com/t/%D0%B1%D0%B0%D...   \n",
              "75  https://cdn.shopify.com/s/files/1/0071/9136/36...   \n",
              "\n",
              "                                    prompt  category  \\\n",
              "0                        meme Bert Is Evil      meme   \n",
              "1                 meme #FirstWorldProblems      meme   \n",
              "2                           meme Keep Calm      meme   \n",
              "3        meme \"Fuck it, we'll do it live!\"      meme   \n",
              "4        meme \"Fuck it, we'll do it live!\"      meme   \n",
              "..                                     ...       ...   \n",
              "71  landmark Fairmont Le Château Frontenac  landmark   \n",
              "72          landmark Mexico City Cathedral  landmark   \n",
              "73                     landmark Taipei 101  landmark   \n",
              "74                       landmark CN Tower  landmark   \n",
              "75              landmark Westminster Abbey  landmark   \n",
              "\n",
              "                                          image_array  \n",
              "0   [[[241, 241, 232], [245, 243, 234], [235, 231,...  \n",
              "1   [[[194, 192, 171], [194, 192, 171], [193, 192,...  \n",
              "2   [[[57, 27, 3], [63, 33, 9], [63, 32, 7], [57, ...  \n",
              "3   [[[128, 161, 178], [154, 188, 205], [156, 188,...  \n",
              "4   [[[133, 111, 97], [132, 114, 99], [131, 117, 1...  \n",
              "..                                                ...  \n",
              "71  [[[175, 156, 126], [175, 158, 129], [178, 161,...  \n",
              "72  [[[29, 19, 8], [29, 16, 8], [25, 9, 4], [31, 1...  \n",
              "73  [[[114, 76, 11], [104, 68, 9], [93, 58, 10], [...  \n",
              "74  [[[81, 159, 221], [81, 159, 221], [81, 159, 22...  \n",
              "75  [[[253, 253, 253], [253, 253, 253], [253, 253,...  \n",
              "\n",
              "[76 rows x 4 columns]"
            ],
            "text/html": [
              "\n",
              "\n",
              "  <div id=\"df-bc9fe2d3-e9fb-4e8c-a08e-772629a9d287\">\n",
              "    <div class=\"colab-df-container\">\n",
              "      <div>\n",
              "<style scoped>\n",
              "    .dataframe tbody tr th:only-of-type {\n",
              "        vertical-align: middle;\n",
              "    }\n",
              "\n",
              "    .dataframe tbody tr th {\n",
              "        vertical-align: top;\n",
              "    }\n",
              "\n",
              "    .dataframe thead th {\n",
              "        text-align: right;\n",
              "    }\n",
              "</style>\n",
              "<table border=\"1\" class=\"dataframe\">\n",
              "  <thead>\n",
              "    <tr style=\"text-align: right;\">\n",
              "      <th></th>\n",
              "      <th>url</th>\n",
              "      <th>prompt</th>\n",
              "      <th>category</th>\n",
              "      <th>image_array</th>\n",
              "    </tr>\n",
              "  </thead>\n",
              "  <tbody>\n",
              "    <tr>\n",
              "      <th>0</th>\n",
              "      <td>https://static.wixstatic.com/media/039af8_8b6f...</td>\n",
              "      <td>meme Bert Is Evil</td>\n",
              "      <td>meme</td>\n",
              "      <td>[[[241, 241, 232], [245, 243, 234], [235, 231,...</td>\n",
              "    </tr>\n",
              "    <tr>\n",
              "      <th>1</th>\n",
              "      <td>https://i.imgflip.com/2vo3mr.jpg</td>\n",
              "      <td>meme #FirstWorldProblems</td>\n",
              "      <td>meme</td>\n",
              "      <td>[[[194, 192, 171], [194, 192, 171], [193, 192,...</td>\n",
              "    </tr>\n",
              "    <tr>\n",
              "      <th>2</th>\n",
              "      <td>https://i.pinimg.com/200x150/36/c9/d5/36c9d5bb...</td>\n",
              "      <td>meme Keep Calm</td>\n",
              "      <td>meme</td>\n",
              "      <td>[[[57, 27, 3], [63, 33, 9], [63, 32, 7], [57, ...</td>\n",
              "    </tr>\n",
              "    <tr>\n",
              "      <th>3</th>\n",
              "      <td>http://cdn.salemweb.net/godtube/2011/09/16/337...</td>\n",
              "      <td>meme \"Fuck it, we'll do it live!\"</td>\n",
              "      <td>meme</td>\n",
              "      <td>[[[128, 161, 178], [154, 188, 205], [156, 188,...</td>\n",
              "    </tr>\n",
              "    <tr>\n",
              "      <th>4</th>\n",
              "      <td>https://thumbs.dreamstime.com/t/le-mari-et-l-%...</td>\n",
              "      <td>meme \"Fuck it, we'll do it live!\"</td>\n",
              "      <td>meme</td>\n",
              "      <td>[[[133, 111, 97], [132, 114, 99], [131, 117, 1...</td>\n",
              "    </tr>\n",
              "    <tr>\n",
              "      <th>...</th>\n",
              "      <td>...</td>\n",
              "      <td>...</td>\n",
              "      <td>...</td>\n",
              "      <td>...</td>\n",
              "    </tr>\n",
              "    <tr>\n",
              "      <th>71</th>\n",
              "      <td>https://freedomdestinations.co.uk/wp-content/u...</td>\n",
              "      <td>landmark Fairmont Le Château Frontenac</td>\n",
              "      <td>landmark</td>\n",
              "      <td>[[[175, 156, 126], [175, 158, 129], [178, 161,...</td>\n",
              "    </tr>\n",
              "    <tr>\n",
              "      <th>72</th>\n",
              "      <td>https://cdn.vox-cdn.com/thumbor/ZUQmkwGVccNDMY...</td>\n",
              "      <td>landmark Mexico City Cathedral</td>\n",
              "      <td>landmark</td>\n",
              "      <td>[[[29, 19, 8], [29, 16, 8], [25, 9, 4], [31, 1...</td>\n",
              "    </tr>\n",
              "    <tr>\n",
              "      <th>73</th>\n",
              "      <td>https://pic.pimg.tw/jcp1223/1387283539-2192754...</td>\n",
              "      <td>landmark Taipei 101</td>\n",
              "      <td>landmark</td>\n",
              "      <td>[[[114, 76, 11], [104, 68, 9], [93, 58, 10], [...</td>\n",
              "    </tr>\n",
              "    <tr>\n",
              "      <th>74</th>\n",
              "      <td>https://thumbs.dreamstime.com/t/%D0%B1%D0%B0%D...</td>\n",
              "      <td>landmark CN Tower</td>\n",
              "      <td>landmark</td>\n",
              "      <td>[[[81, 159, 221], [81, 159, 221], [81, 159, 22...</td>\n",
              "    </tr>\n",
              "    <tr>\n",
              "      <th>75</th>\n",
              "      <td>https://cdn.shopify.com/s/files/1/0071/9136/36...</td>\n",
              "      <td>landmark Westminster Abbey</td>\n",
              "      <td>landmark</td>\n",
              "      <td>[[[253, 253, 253], [253, 253, 253], [253, 253,...</td>\n",
              "    </tr>\n",
              "  </tbody>\n",
              "</table>\n",
              "<p>76 rows × 4 columns</p>\n",
              "</div>\n",
              "      <button class=\"colab-df-convert\" onclick=\"convertToInteractive('df-bc9fe2d3-e9fb-4e8c-a08e-772629a9d287')\"\n",
              "              title=\"Convert this dataframe to an interactive table.\"\n",
              "              style=\"display:none;\">\n",
              "\n",
              "  <svg xmlns=\"http://www.w3.org/2000/svg\" height=\"24px\"viewBox=\"0 0 24 24\"\n",
              "       width=\"24px\">\n",
              "    <path d=\"M0 0h24v24H0V0z\" fill=\"none\"/>\n",
              "    <path d=\"M18.56 5.44l.94 2.06.94-2.06 2.06-.94-2.06-.94-.94-2.06-.94 2.06-2.06.94zm-11 1L8.5 8.5l.94-2.06 2.06-.94-2.06-.94L8.5 2.5l-.94 2.06-2.06.94zm10 10l.94 2.06.94-2.06 2.06-.94-2.06-.94-.94-2.06-.94 2.06-2.06.94z\"/><path d=\"M17.41 7.96l-1.37-1.37c-.4-.4-.92-.59-1.43-.59-.52 0-1.04.2-1.43.59L10.3 9.45l-7.72 7.72c-.78.78-.78 2.05 0 2.83L4 21.41c.39.39.9.59 1.41.59.51 0 1.02-.2 1.41-.59l7.78-7.78 2.81-2.81c.8-.78.8-2.07 0-2.86zM5.41 20L4 18.59l7.72-7.72 1.47 1.35L5.41 20z\"/>\n",
              "  </svg>\n",
              "      </button>\n",
              "\n",
              "\n",
              "\n",
              "    <div id=\"df-7ddd2254-9a24-4487-b02f-93537a9291d0\">\n",
              "      <button class=\"colab-df-quickchart\" onclick=\"quickchart('df-7ddd2254-9a24-4487-b02f-93537a9291d0')\"\n",
              "              title=\"Suggest charts.\"\n",
              "              style=\"display:none;\">\n",
              "\n",
              "<svg xmlns=\"http://www.w3.org/2000/svg\" height=\"24px\"viewBox=\"0 0 24 24\"\n",
              "     width=\"24px\">\n",
              "    <g>\n",
              "        <path d=\"M19 3H5c-1.1 0-2 .9-2 2v14c0 1.1.9 2 2 2h14c1.1 0 2-.9 2-2V5c0-1.1-.9-2-2-2zM9 17H7v-7h2v7zm4 0h-2V7h2v10zm4 0h-2v-4h2v4z\"/>\n",
              "    </g>\n",
              "</svg>\n",
              "      </button>\n",
              "    </div>\n",
              "\n",
              "<style>\n",
              "  .colab-df-quickchart {\n",
              "    background-color: #E8F0FE;\n",
              "    border: none;\n",
              "    border-radius: 50%;\n",
              "    cursor: pointer;\n",
              "    display: none;\n",
              "    fill: #1967D2;\n",
              "    height: 32px;\n",
              "    padding: 0 0 0 0;\n",
              "    width: 32px;\n",
              "  }\n",
              "\n",
              "  .colab-df-quickchart:hover {\n",
              "    background-color: #E2EBFA;\n",
              "    box-shadow: 0px 1px 2px rgba(60, 64, 67, 0.3), 0px 1px 3px 1px rgba(60, 64, 67, 0.15);\n",
              "    fill: #174EA6;\n",
              "  }\n",
              "\n",
              "  [theme=dark] .colab-df-quickchart {\n",
              "    background-color: #3B4455;\n",
              "    fill: #D2E3FC;\n",
              "  }\n",
              "\n",
              "  [theme=dark] .colab-df-quickchart:hover {\n",
              "    background-color: #434B5C;\n",
              "    box-shadow: 0px 1px 3px 1px rgba(0, 0, 0, 0.15);\n",
              "    filter: drop-shadow(0px 1px 2px rgba(0, 0, 0, 0.3));\n",
              "    fill: #FFFFFF;\n",
              "  }\n",
              "</style>\n",
              "\n",
              "    <script>\n",
              "      async function quickchart(key) {\n",
              "        const containerElement = document.querySelector('#' + key);\n",
              "        const charts = await google.colab.kernel.invokeFunction(\n",
              "            'suggestCharts', [key], {});\n",
              "      }\n",
              "    </script>\n",
              "\n",
              "      <script>\n",
              "\n",
              "function displayQuickchartButton(domScope) {\n",
              "  let quickchartButtonEl =\n",
              "    domScope.querySelector('#df-7ddd2254-9a24-4487-b02f-93537a9291d0 button.colab-df-quickchart');\n",
              "  quickchartButtonEl.style.display =\n",
              "    google.colab.kernel.accessAllowed ? 'block' : 'none';\n",
              "}\n",
              "\n",
              "        displayQuickchartButton(document);\n",
              "      </script>\n",
              "      <style>\n",
              "    .colab-df-container {\n",
              "      display:flex;\n",
              "      flex-wrap:wrap;\n",
              "      gap: 12px;\n",
              "    }\n",
              "\n",
              "    .colab-df-convert {\n",
              "      background-color: #E8F0FE;\n",
              "      border: none;\n",
              "      border-radius: 50%;\n",
              "      cursor: pointer;\n",
              "      display: none;\n",
              "      fill: #1967D2;\n",
              "      height: 32px;\n",
              "      padding: 0 0 0 0;\n",
              "      width: 32px;\n",
              "    }\n",
              "\n",
              "    .colab-df-convert:hover {\n",
              "      background-color: #E2EBFA;\n",
              "      box-shadow: 0px 1px 2px rgba(60, 64, 67, 0.3), 0px 1px 3px 1px rgba(60, 64, 67, 0.15);\n",
              "      fill: #174EA6;\n",
              "    }\n",
              "\n",
              "    [theme=dark] .colab-df-convert {\n",
              "      background-color: #3B4455;\n",
              "      fill: #D2E3FC;\n",
              "    }\n",
              "\n",
              "    [theme=dark] .colab-df-convert:hover {\n",
              "      background-color: #434B5C;\n",
              "      box-shadow: 0px 1px 3px 1px rgba(0, 0, 0, 0.15);\n",
              "      filter: drop-shadow(0px 1px 2px rgba(0, 0, 0, 0.3));\n",
              "      fill: #FFFFFF;\n",
              "    }\n",
              "  </style>\n",
              "\n",
              "      <script>\n",
              "        const buttonEl =\n",
              "          document.querySelector('#df-bc9fe2d3-e9fb-4e8c-a08e-772629a9d287 button.colab-df-convert');\n",
              "        buttonEl.style.display =\n",
              "          google.colab.kernel.accessAllowed ? 'block' : 'none';\n",
              "\n",
              "        async function convertToInteractive(key) {\n",
              "          const element = document.querySelector('#df-bc9fe2d3-e9fb-4e8c-a08e-772629a9d287');\n",
              "          const dataTable =\n",
              "            await google.colab.kernel.invokeFunction('convertToInteractive',\n",
              "                                                     [key], {});\n",
              "          if (!dataTable) return;\n",
              "\n",
              "          const docLinkHtml = 'Like what you see? Visit the ' +\n",
              "            '<a target=\"_blank\" href=https://colab.research.google.com/notebooks/data_table.ipynb>data table notebook</a>'\n",
              "            + ' to learn more about interactive tables.';\n",
              "          element.innerHTML = '';\n",
              "          dataTable['output_type'] = 'display_data';\n",
              "          await google.colab.output.renderOutput(dataTable, element);\n",
              "          const docLink = document.createElement('div');\n",
              "          docLink.innerHTML = docLinkHtml;\n",
              "          element.appendChild(docLink);\n",
              "        }\n",
              "      </script>\n",
              "    </div>\n",
              "  </div>\n"
            ]
          },
          "metadata": {},
          "execution_count": 16
        }
      ],
      "source": [
        "df"
      ]
    },
    {
      "cell_type": "code",
      "execution_count": null,
      "metadata": {
        "colab": {
          "base_uri": "https://localhost:8080/"
        },
        "id": "EHKObkrNrwk5",
        "outputId": "8b77d09c-41b3-47fe-dd13-5ee2b569e1c0"
      },
      "outputs": [
        {
          "output_type": "stream",
          "name": "stdout",
          "text": [
            "['sierra', 'peggy’s', 'fairmont', 'paintings', 'live!\"', 'football', 'westminster', 'clothes', 'seoul', 'adam', 'toys', 'rice', 'meme', 'pillow', '1500', 'egg', 'silverado', \"men's\", 'ball', 'tower', 'beans', 'le', 'kettle', 'point', '101', 'is', 'taipei', 'with', 'cat', 'girl', 'frontenac', 'beach', 'cabinet', 'ring', 'auchan', 'lamp', 'ram', 'michelangelo', 'bondi', 'city', 'cafe', 'lego', 'do', 'chopper', 'chevrolet', '2020', 'abbey', 'square', 'picture', 'curtains', 'stool', 'this', 'canada', 'wolmart', 'it', 'tacoma', 'toy', 'snacks', 'painting', 'suit', 'keep', 'bert', 'the', 'artwork', 'olympia', 'argument', 'night', '\"fuck', 'cn', '#firstworldproblems', 'gmc', 'a', 'lisa', 'mona', 'tv', 'happy', '#winning', 'sandro', 'blocks', 'hotdog', 'arnolfini', 'of', 'lidl', 'cathedral', 'umbrella', 'pearl', 'jacket', 'packaged', 'and', 'car', 'pepsi', 'mittens', 'kitchen', 'purse', 'storefronts', 'civic', 'photos', 'creation', 'evil', 'storefront', 'wrap', 'mexico', 'primavera', 'sausages', 'landmark', 'doll', 'earring', \"we'll\", 'bed', 'goods', 'accidents', 'jean-honore', 'one', 'male', 'watch', 'swing', 'fragonard', 'bottle', 'can', 'portrait', 'botticelli', 'château', 'fried', 'american', 'toyota', 'rickrolling', 'edouard', 'honda', 'lighthouse', 'aldi', 'berlin', 'it,', 'manet', 'rav4', 'calm', 'furniture', 'ceiling', 't-shirt', 'oven', 'sneakers', 'multipack', 'food']\n"
          ]
        }
      ],
      "source": [
        "#TOKENIZER\n",
        "\n",
        "\n",
        "token_words = ['this', 'is', 'a', 'picture', 'of', 'a']\n",
        "len_token = len(token_words)\n",
        "\n",
        "def tokenizer(words):\n",
        "    unique_tokens = set(words)\n",
        "    return list(unique_tokens)\n",
        "\n",
        "for k in range (0, num_rows):\n",
        "  prompt = df.loc[k, 'prompt']\n",
        "  prompt = prompt.lower()\n",
        "  #print(prompt)\n",
        "  x = prompt.split()\n",
        "  token_words.extend(x)\n",
        "  #token_words.append(prompt)\n",
        "  token_words = tokenizer(token_words)\n",
        "\n",
        "for k in range (0, num_rows):\n",
        "  prompt = df.loc[k, 'category']\n",
        "  prompt = prompt.lower()\n",
        "  #print(prompt)\n",
        "  x = prompt.split()\n",
        "  token_words.extend(x)\n",
        "  #token_words.append(prompt)\n",
        "  token_words = tokenizer(token_words)\n",
        "\n",
        "print(token_words)"
      ]
    },
    {
      "cell_type": "code",
      "source": [],
      "metadata": {
        "id": "zJhDE-Mj1jFr"
      },
      "execution_count": null,
      "outputs": []
    },
    {
      "cell_type": "code",
      "source": [],
      "metadata": {
        "id": "1OkxWV3j1jMD"
      },
      "execution_count": null,
      "outputs": []
    },
    {
      "cell_type": "code",
      "source": [],
      "metadata": {
        "id": "wRiulGJC1jQ6"
      },
      "execution_count": null,
      "outputs": []
    },
    {
      "cell_type": "code",
      "source": [],
      "metadata": {
        "id": "B3ADT1MT1jUb"
      },
      "execution_count": null,
      "outputs": []
    },
    {
      "cell_type": "code",
      "execution_count": null,
      "metadata": {
        "colab": {
          "base_uri": "https://localhost:8080/"
        },
        "id": "BdBl_GSrsBHi",
        "outputId": "87afa755-8b20-4d47-f00b-2f928de2a791"
      },
      "outputs": [
        {
          "output_type": "execute_result",
          "data": {
            "text/plain": [
              "142"
            ]
          },
          "metadata": {},
          "execution_count": 18
        }
      ],
      "source": [
        "len(token_words)"
      ]
    },
    {
      "cell_type": "code",
      "execution_count": null,
      "metadata": {
        "id": "UbLGZtomsfQa"
      },
      "outputs": [],
      "source": [
        "values = []\n",
        "for i in range (1, len(token_words)+1):\n",
        "  values.append(i)\n"
      ]
    },
    {
      "cell_type": "code",
      "execution_count": null,
      "metadata": {
        "id": "MhQwWIzI2Lpj"
      },
      "outputs": [],
      "source": []
    },
    {
      "cell_type": "code",
      "execution_count": null,
      "metadata": {
        "id": "_PgnNNZPs8gf"
      },
      "outputs": [],
      "source": [
        "def token(i):\n",
        "  prompt = df.loc[i, 'prompt']\n",
        "  prompt = prompt.lower()\n",
        "  x = prompt.split()\n",
        "  token_words.extend(x)\n",
        "  return tokenizer(token_words)"
      ]
    },
    {
      "cell_type": "code",
      "source": [
        "text_paths = df['prompt'].head(10).tolist()"
      ],
      "metadata": {
        "id": "kerqZ9NC1iBh"
      },
      "execution_count": null,
      "outputs": []
    },
    {
      "cell_type": "code",
      "source": [],
      "metadata": {
        "id": "T4VHN9hG1iE8"
      },
      "execution_count": null,
      "outputs": []
    },
    {
      "cell_type": "code",
      "source": [
        "(text_paths)\n"
      ],
      "metadata": {
        "colab": {
          "base_uri": "https://localhost:8080/"
        },
        "id": "5pHvwxJIUiOT",
        "outputId": "d96ab2b7-04a9-42f2-bc3f-c6fda7acd841"
      },
      "execution_count": null,
      "outputs": [
        {
          "output_type": "execute_result",
          "data": {
            "text/plain": [
              "['meme Bert Is Evil',\n",
              " 'meme #FirstWorldProblems',\n",
              " 'meme Keep Calm',\n",
              " 'meme \"Fuck it, we\\'ll do it live!\"',\n",
              " 'meme \"Fuck it, we\\'ll do it live!\"',\n",
              " 'meme Rickrolling',\n",
              " 'meme American Chopper argument',\n",
              " 'meme #Winning',\n",
              " 'meme Ceiling Cat',\n",
              " 'toy doll']"
            ]
          },
          "metadata": {},
          "execution_count": 99
        }
      ]
    },
    {
      "cell_type": "code",
      "source": [
        "text_paths = [word.lower() for word in text_paths]"
      ],
      "metadata": {
        "id": "SPI4Fo563GRc"
      },
      "execution_count": null,
      "outputs": []
    },
    {
      "cell_type": "code",
      "source": [
        "dataset = text_paths"
      ],
      "metadata": {
        "id": "_G4Fc0l5WQwi"
      },
      "execution_count": null,
      "outputs": []
    },
    {
      "cell_type": "code",
      "source": [],
      "metadata": {
        "id": "Q53B-0rkOUne"
      },
      "execution_count": null,
      "outputs": []
    },
    {
      "cell_type": "code",
      "source": [],
      "metadata": {
        "id": "dTD8BNgpOXNY"
      },
      "execution_count": null,
      "outputs": []
    },
    {
      "cell_type": "code",
      "source": [
        "# Example vocabulary mapping with \"<PAD>\" token\n",
        "vocab = {}\n",
        "for i in range(len(token_words)):\n",
        "    key = token_words[i]\n",
        "    value = values[i]\n",
        "    vocab[key] = value\n",
        "\n",
        "# Add the \"<PAD>\" token to the vocab\n",
        "vocab[\"<PAD>\"] = 0\n",
        "\n",
        "sentences_list = text_paths\n",
        "\n",
        "# Initialize an empty list to store tokenized sentences\n",
        "tokenized_sentences = []\n",
        "max_sentence_length = 20\n",
        "tokenized_sentences_with_padding = []\n",
        "\n",
        "# Loop through each sentence in the sentences_list\n",
        "for sentence in sentences_list:\n",
        "    # Split the sentence into words\n",
        "    words = sentence.split()\n",
        "    # Initialize an empty list to store tokens for this sentence\n",
        "    tokenized_sentence = []\n",
        "    # Loop through each word in the words list\n",
        "    for word in words:\n",
        "        # Convert the word to lowercase\n",
        "        lowercase_word = word.lower()\n",
        "        # Check if the lowercase word exists in the vocab dictionary\n",
        "        if lowercase_word in vocab:\n",
        "            # If it exists, append its corresponding token to the tokenized_sentence list\n",
        "            tokenized_sentence.append(vocab[lowercase_word])\n",
        "    # Add padding to the tokenized_sentence to make its length 25\n",
        "    tokenized_sentence += [vocab['<PAD>']] * (max_sentence_length - len(tokenized_sentence))\n",
        "    # Truncate the sentence to the maximum length (in case it's longer than 25)\n",
        "    tokenized_sentence = tokenized_sentence[:max_sentence_length]\n",
        "    # Append the tokenized_sentence list to the tokenized_sentences_with_padding list\n",
        "    tokenized_sentences_with_padding.append(tokenized_sentence)\n",
        "\n",
        "print(tokenized_sentences_with_padding)\n",
        "input_tensor = torch.tensor(tokenized_sentences_with_padding, dtype=torch.long)\n",
        "print(input_tensor.shape)\n",
        "\n",
        "\n",
        "# Add any missing words from the dataset to the vocab\n",
        "#for sentence in text_paths:\n",
        "#    for word in sentence:\n",
        "#        if word not in vocab:\n",
        "#            vocab[word] = len(vocab)\n",
        "\n",
        "# Now convert the dataset to numerical_dataset\n",
        "#numerical_dataset = [[vocab[word] for word in sentence] for sentence in dataset]\n",
        "\n",
        "#max_sequence_length = max(len(sentence) for sentence in numerical_dataset)\n",
        "#padded_numerical_dataset = [sentence + [vocab[\"<PAD>\"]] * (max_sequence_length - len(sentence)) for sentence in numerical_dataset]\n",
        "\n",
        "#input_tensor = torch.tensor(padded_numerical_dataset, dtype=torch.long)\n",
        "#print(input_tensor.shape)\n",
        "\n",
        "mask = (input_tensor != vocab[\"<PAD>\"]).unsqueeze(1).unsqueeze(2)\n",
        "print(mask.shape)\n"
      ],
      "metadata": {
        "colab": {
          "base_uri": "https://localhost:8080/"
        },
        "id": "ROWhFnq_VXit",
        "outputId": "78d9983f-57d0-4844-e136-d62e4f9d73bf"
      },
      "execution_count": null,
      "outputs": [
        {
          "output_type": "stream",
          "name": "stdout",
          "text": [
            "[[13, 62, 26, 99, 0, 0, 0, 0, 0, 0, 0, 0, 0, 0, 0, 0, 0, 0, 0, 0], [13, 70, 0, 0, 0, 0, 0, 0, 0, 0, 0, 0, 0, 0, 0, 0, 0, 0, 0, 0], [13, 61, 135, 0, 0, 0, 0, 0, 0, 0, 0, 0, 0, 0, 0, 0, 0, 0, 0, 0], [13, 68, 132, 108, 43, 55, 5, 0, 0, 0, 0, 0, 0, 0, 0, 0, 0, 0, 0, 0], [13, 68, 132, 108, 43, 55, 5, 0, 0, 0, 0, 0, 0, 0, 0, 0, 0, 0, 0, 0], [13, 126, 0, 0, 0, 0, 0, 0, 0, 0, 0, 0, 0, 0, 0, 0, 0, 0, 0, 0], [13, 124, 44, 66, 0, 0, 0, 0, 0, 0, 0, 0, 0, 0, 0, 0, 0, 0, 0, 0], [13, 77, 0, 0, 0, 0, 0, 0, 0, 0, 0, 0, 0, 0, 0, 0, 0, 0, 0, 0], [13, 137, 29, 0, 0, 0, 0, 0, 0, 0, 0, 0, 0, 0, 0, 0, 0, 0, 0, 0], [57, 106, 0, 0, 0, 0, 0, 0, 0, 0, 0, 0, 0, 0, 0, 0, 0, 0, 0, 0]]\n",
            "torch.Size([10, 20])\n",
            "torch.Size([10, 1, 1, 20])\n"
          ]
        }
      ]
    },
    {
      "cell_type": "code",
      "source": [
        "mask = mask.float()"
      ],
      "metadata": {
        "id": "XDyORpyePZVq"
      },
      "execution_count": null,
      "outputs": []
    },
    {
      "cell_type": "code",
      "source": [],
      "metadata": {
        "colab": {
          "base_uri": "https://localhost:8080/"
        },
        "id": "1_zR73gVPb-H",
        "outputId": "68deb576-7e1b-46fb-f694-7a6c8806277b"
      },
      "execution_count": null,
      "outputs": [
        {
          "output_type": "execute_result",
          "data": {
            "text/plain": [
              "tensor([[[[1., 1., 1., 1., 0., 0., 0., 0., 0., 0., 0., 0., 0., 0., 0., 0., 0.,\n",
              "           0., 0., 0.]]],\n",
              "\n",
              "\n",
              "        [[[1., 1., 0., 0., 0., 0., 0., 0., 0., 0., 0., 0., 0., 0., 0., 0., 0.,\n",
              "           0., 0., 0.]]],\n",
              "\n",
              "\n",
              "        [[[1., 1., 1., 0., 0., 0., 0., 0., 0., 0., 0., 0., 0., 0., 0., 0., 0.,\n",
              "           0., 0., 0.]]],\n",
              "\n",
              "\n",
              "        [[[1., 1., 1., 1., 1., 1., 1., 0., 0., 0., 0., 0., 0., 0., 0., 0., 0.,\n",
              "           0., 0., 0.]]],\n",
              "\n",
              "\n",
              "        [[[1., 1., 1., 1., 1., 1., 1., 0., 0., 0., 0., 0., 0., 0., 0., 0., 0.,\n",
              "           0., 0., 0.]]],\n",
              "\n",
              "\n",
              "        [[[1., 1., 0., 0., 0., 0., 0., 0., 0., 0., 0., 0., 0., 0., 0., 0., 0.,\n",
              "           0., 0., 0.]]],\n",
              "\n",
              "\n",
              "        [[[1., 1., 1., 1., 0., 0., 0., 0., 0., 0., 0., 0., 0., 0., 0., 0., 0.,\n",
              "           0., 0., 0.]]],\n",
              "\n",
              "\n",
              "        [[[1., 1., 0., 0., 0., 0., 0., 0., 0., 0., 0., 0., 0., 0., 0., 0., 0.,\n",
              "           0., 0., 0.]]],\n",
              "\n",
              "\n",
              "        [[[1., 1., 1., 0., 0., 0., 0., 0., 0., 0., 0., 0., 0., 0., 0., 0., 0.,\n",
              "           0., 0., 0.]]],\n",
              "\n",
              "\n",
              "        [[[1., 1., 0., 0., 0., 0., 0., 0., 0., 0., 0., 0., 0., 0., 0., 0., 0.,\n",
              "           0., 0., 0.]]]])"
            ]
          },
          "metadata": {},
          "execution_count": 109
        }
      ]
    },
    {
      "cell_type": "code",
      "execution_count": null,
      "metadata": {
        "id": "FBwHqqjGYxOQ"
      },
      "outputs": [],
      "source": [
        "import torch\n",
        "import torch.nn as nn\n",
        "\n",
        "\n",
        "class SelfAttention(nn.Module):\n",
        "    def __init__(self, embed_size, heads):\n",
        "        super(SelfAttention, self).__init__()\n",
        "        self.embed_size = embed_size\n",
        "        self.heads = heads\n",
        "        self.head_dim = embed_size // heads\n",
        "\n",
        "        assert (\n",
        "            self.head_dim * heads == embed_size\n",
        "        ), \"Embedding size needs to be divisible by heads\"\n",
        "\n",
        "        self.values = nn.Linear(embed_size, embed_size)\n",
        "        self.keys = nn.Linear(embed_size, embed_size)\n",
        "        self.queries = nn.Linear(embed_size, embed_size)\n",
        "        self.fc_out = nn.Linear(embed_size, embed_size)\n",
        "\n",
        "    def forward(self, values, keys, query, mask):\n",
        "        # Get number of training examples\n",
        "        N = query.shape[0]\n",
        "\n",
        "        value_len, key_len, query_len = values.shape[1], keys.shape[1], query.shape[1]\n",
        "\n",
        "        values = self.values(values)  # (N, value_len, embed_size)\n",
        "        keys = self.keys(keys)  # (N, key_len, embed_size)\n",
        "        queries = self.queries(query)  # (N, query_len, embed_size)\n",
        "\n",
        "        # Split the embedding into self.heads different pieces\n",
        "        values = values.reshape(N, value_len, self.heads, self.head_dim)\n",
        "        keys = keys.reshape(N, key_len, self.heads, self.head_dim)\n",
        "        queries = queries.reshape(N, query_len, self.heads, self.head_dim)\n",
        "\n",
        "        energy = torch.einsum(\"nqhd,nkhd->nhqk\", [queries, keys])\n",
        "        # queries shape: (N, query_len, heads, heads_dim),\n",
        "        # keys shape: (N, key_len, heads, heads_dim)\n",
        "        # energy: (N, heads, query_len, key_len)\n",
        "\n",
        "        if mask is not None:\n",
        "            energy = energy.masked_fill(mask == 0, float(\"-1e20\"))\n",
        "\n",
        "        attention = torch.softmax(energy / (self.embed_size ** (1 / 2)), dim=3)\n",
        "        # attention shape: (N, heads, query_len, key_len)\n",
        "\n",
        "        out = torch.einsum(\"nhql,nlhd->nqhd\", [attention, values]).reshape(\n",
        "            N, query_len, self.heads * self.head_dim\n",
        "        )\n",
        "\n",
        "        out = self.fc_out(out)\n",
        "\n",
        "\n",
        "        return out\n",
        "\n",
        "\n",
        "class TransformerBlock(nn.Module):\n",
        "    def __init__(self, embed_size, heads, dropout, forward_expansion):\n",
        "        super(TransformerBlock, self).__init__()\n",
        "        self.attention = SelfAttention(embed_size, heads)\n",
        "        self.norm1 = nn.LayerNorm(embed_size)\n",
        "        self.norm2 = nn.LayerNorm(embed_size)\n",
        "\n",
        "        self.feed_forward = nn.Sequential(\n",
        "            nn.Linear(embed_size, forward_expansion * embed_size),\n",
        "            nn.ReLU(),\n",
        "            nn.Linear(forward_expansion * embed_size, embed_size),\n",
        "        )\n",
        "\n",
        "        self.dropout = nn.Dropout(dropout)\n",
        "\n",
        "    def forward(self, value, key, query, mask):\n",
        "        attention = self.attention(value, key, query, mask)\n",
        "\n",
        "        # Add skip connection, run through normalization and finally dropout\n",
        "        x = self.dropout(self.norm1(attention + query))\n",
        "        forward = self.feed_forward(x)\n",
        "        out = self.dropout(self.norm2(forward + x))\n",
        "        return out\n",
        "\n",
        "\n",
        "class Encoder(nn.Module):\n",
        "    def __init__(\n",
        "        self,\n",
        "        src_vocab_size,\n",
        "        embed_size,\n",
        "        num_layers,\n",
        "        heads,\n",
        "        device,\n",
        "        forward_expansion,\n",
        "        dropout,\n",
        "        max_length,\n",
        "    ):\n",
        "\n",
        "        super(Encoder, self).__init__()\n",
        "        self.embed_size = embed_size\n",
        "        self.device = device\n",
        "        self.word_embedding = nn.Embedding(src_vocab_size, embed_size)\n",
        "        self.position_embedding = nn.Embedding(max_length, embed_size)\n",
        "\n",
        "        self.layers = nn.ModuleList(\n",
        "            [\n",
        "                TransformerBlock(\n",
        "                    embed_size,\n",
        "                    heads,\n",
        "                    dropout=dropout,\n",
        "                    forward_expansion=forward_expansion,\n",
        "                )\n",
        "                for _ in range(num_layers)\n",
        "            ]\n",
        "        )\n",
        "\n",
        "        self.dropout = nn.Dropout(dropout)\n",
        "\n",
        "    def forward(self, x, mask):\n",
        "        N, seq_length = x.shape\n",
        "        positions = torch.arange(0, seq_length).expand(N, seq_length).to(self.device)\n",
        "        out = self.dropout(\n",
        "            (self.word_embedding(x) + self.position_embedding(positions))\n",
        "        )\n",
        "\n",
        "        # In the Encoder the query, key, value are all the same, it's in the\n",
        "        # decoder this will change. This might look a bit odd in this case.\n",
        "        for layer in self.layers:\n",
        "            out = layer(out, out, out, mask)\n",
        "\n",
        "        return out\n",
        "\n"
      ]
    },
    {
      "cell_type": "code",
      "source": [],
      "metadata": {
        "id": "-RT-NQoNO4nB"
      },
      "execution_count": null,
      "outputs": []
    },
    {
      "cell_type": "code",
      "source": [],
      "metadata": {
        "id": "JyNo0dJpO4zD"
      },
      "execution_count": null,
      "outputs": []
    },
    {
      "cell_type": "code",
      "execution_count": null,
      "metadata": {
        "id": "HiQPZD6SYxQe"
      },
      "outputs": [],
      "source": [
        "src_vocab_size = 1000  # Assuming there are 10,000 unique words in the source vocabulary\n",
        "#embed_size = 128        # Dimension of word embeddings is 256\n",
        "embed_size = 196*2\n",
        "num_layers = 6          # Using 6 Transformer blocks (layers)\n",
        "heads = 8               # 8 attention heads\n",
        "forward_expansion = 4   # Factor by which the hidden dimension is expanded in the feed-forward network is 4\n",
        "dropout = 0.1           # Dropout rate of 0.1 (10%)\n",
        "max_length = 150\n",
        "device = torch.device(\"cuda\" if torch.cuda.is_available() else \"cpu\")  # Use GPU if available\n",
        "\n",
        "#encoder = Encoder(src_vocab_size, embed_size, num_layers, heads, device, forward_expansion, dropout, max_length)"
      ]
    },
    {
      "cell_type": "code",
      "execution_count": null,
      "metadata": {
        "id": "y_gJ8cqJMQ3h"
      },
      "outputs": [],
      "source": [
        "encoder = Encoder(src_vocab_size, embed_size, num_layers, heads, device, forward_expansion, dropout, max_length)"
      ]
    },
    {
      "cell_type": "code",
      "execution_count": null,
      "metadata": {
        "id": "RxiZTe-gcJ4K"
      },
      "outputs": [],
      "source": [
        "text_output_tensor = encoder(input_tensor, mask)"
      ]
    },
    {
      "cell_type": "code",
      "execution_count": null,
      "metadata": {
        "colab": {
          "base_uri": "https://localhost:8080/"
        },
        "id": "vpYhwuGkcJ8p",
        "outputId": "6d859373-14e3-4f1a-ab24-8bf4abe95bd5"
      },
      "outputs": [
        {
          "output_type": "execute_result",
          "data": {
            "text/plain": [
              "torch.Size([10, 20, 392])"
            ]
          },
          "metadata": {},
          "execution_count": 114
        }
      ],
      "source": [
        "text_output_tensor.shape"
      ]
    },
    {
      "cell_type": "code",
      "execution_count": null,
      "metadata": {
        "id": "-1leq-qCUWLd",
        "colab": {
          "base_uri": "https://localhost:8080/"
        },
        "outputId": "9d101e7a-da91-49b9-819b-a5aecb34c326"
      },
      "outputs": [
        {
          "output_type": "execute_result",
          "data": {
            "text/plain": [
              "tensor([[[ 4.8373e-01, -4.0865e-01,  1.8290e-01,  ..., -9.3966e-01,\n",
              "          -6.3647e-01,  3.6896e-01],\n",
              "         [-2.2570e-01,  5.4389e-02, -9.6935e-01,  ...,  1.4189e-01,\n",
              "          -6.0111e-01,  5.5331e-02],\n",
              "         [ 2.6655e+00,  1.9713e+00, -0.0000e+00,  ..., -3.8898e-01,\n",
              "          -1.8935e-01, -2.1133e-02],\n",
              "         ...,\n",
              "         [-1.8207e-01,  2.2909e+00,  8.4090e-01,  ..., -8.2671e-01,\n",
              "           1.5485e-01, -3.7554e-01],\n",
              "         [ 9.9135e-02,  3.0946e-01,  3.5237e-01,  ..., -1.4797e-01,\n",
              "           2.9978e-01, -2.4990e-01],\n",
              "         [ 5.3351e-01,  2.9888e-01, -2.5749e-01,  ..., -8.0302e-01,\n",
              "          -1.9537e-01, -8.8437e-01]],\n",
              "\n",
              "        [[-2.9763e+00, -3.8492e-01, -3.2973e-01,  ...,  1.5482e-01,\n",
              "          -1.4199e+00,  0.0000e+00],\n",
              "         [ 9.8967e-01,  2.1981e+00,  3.1751e-01,  ..., -1.8700e+00,\n",
              "           2.5706e-02, -2.4527e-01],\n",
              "         [ 0.0000e+00,  2.8851e+00,  4.9566e-01,  ...,  3.6260e-01,\n",
              "          -1.7338e-04,  0.0000e+00],\n",
              "         ...,\n",
              "         [ 1.0050e+00, -1.9457e-01, -5.6011e-01,  ...,  3.0190e-02,\n",
              "          -1.6643e+00,  1.1085e+00],\n",
              "         [ 4.5992e+00,  0.0000e+00, -3.4926e-01,  ...,  4.0406e-01,\n",
              "          -1.9229e+00, -1.0227e-01],\n",
              "         [-0.0000e+00, -9.9209e-01, -6.6189e-02,  ..., -0.0000e+00,\n",
              "          -2.2630e+00, -1.1129e-01]],\n",
              "\n",
              "        [[ 5.5374e-02,  6.8074e-01,  5.9177e-02,  ..., -6.5803e-01,\n",
              "          -5.3337e-01,  1.5228e+00],\n",
              "         [-1.0177e+00,  3.4825e+00,  1.4915e-01,  ...,  0.0000e+00,\n",
              "          -0.0000e+00, -4.9773e-01],\n",
              "         [-1.6620e-02,  1.3955e+00, -6.3371e-01,  ..., -1.9422e-01,\n",
              "          -5.5824e-01,  2.5594e+00],\n",
              "         ...,\n",
              "         [ 1.0027e+00,  7.3793e-02,  1.0224e+00,  ...,  8.2434e-02,\n",
              "          -2.5484e-01,  2.6229e+00],\n",
              "         [ 2.4113e+00, -4.6537e-03, -3.5274e-01,  ...,  3.0970e-01,\n",
              "          -0.0000e+00,  2.0950e-01],\n",
              "         [ 0.0000e+00,  1.8318e-01, -2.6166e-01,  ..., -4.4075e-01,\n",
              "          -3.5894e-02,  8.3246e-01]],\n",
              "\n",
              "        ...,\n",
              "\n",
              "        [[ 8.1489e-01, -4.6460e-01,  9.4730e-01,  ...,  2.4888e+00,\n",
              "           2.9141e-01, -1.0535e+00],\n",
              "         [ 1.2392e+00,  2.9179e-01,  1.7834e-01,  ...,  0.0000e+00,\n",
              "          -3.3514e-01,  3.1852e-01],\n",
              "         [ 1.0798e+00, -1.1663e+00,  1.1783e+00,  ...,  1.8504e+00,\n",
              "          -4.6721e-01, -3.6731e-01],\n",
              "         ...,\n",
              "         [ 1.4057e+00, -6.3528e-01, -4.3615e-01,  ...,  1.5681e+00,\n",
              "          -5.6478e-01, -3.0669e-01],\n",
              "         [ 1.2540e-01,  2.7734e+00, -1.7021e+00,  ...,  2.6862e+00,\n",
              "          -0.0000e+00, -1.2191e+00],\n",
              "         [ 9.3399e-01,  6.4967e-01,  4.5390e-01,  ...,  3.0940e+00,\n",
              "           2.5581e-02, -2.8862e+00]],\n",
              "\n",
              "        [[ 4.6199e-01, -5.1340e-01,  3.8005e-01,  ..., -7.0135e-02,\n",
              "          -1.5212e+00,  8.6018e-02],\n",
              "         [ 5.5703e-01,  3.7414e+00,  7.5812e-01,  ...,  7.1323e-01,\n",
              "          -8.3415e-01,  5.7620e-01],\n",
              "         [ 2.8244e-02,  2.2938e-01,  9.5640e-01,  ..., -8.1638e-02,\n",
              "          -6.9071e-01, -0.0000e+00],\n",
              "         ...,\n",
              "         [ 0.0000e+00,  3.7455e-01,  4.3838e-01,  ..., -4.0311e-01,\n",
              "          -1.6781e-01, -3.8667e-02],\n",
              "         [ 1.8051e-01,  4.8411e-01, -1.6366e-01,  ...,  1.3522e-01,\n",
              "          -7.2171e-01,  1.5645e-01],\n",
              "         [-2.5865e-01,  6.2967e-01,  1.4624e+00,  ...,  5.1745e-01,\n",
              "           1.4016e-01,  0.0000e+00]],\n",
              "\n",
              "        [[ 0.0000e+00,  5.0924e-01,  4.1421e-01,  ...,  1.8980e+00,\n",
              "          -9.2620e-01, -1.2456e-01],\n",
              "         [-2.9115e-01, -2.1731e-01,  1.0119e+00,  ..., -6.7870e-02,\n",
              "           0.0000e+00,  0.0000e+00],\n",
              "         [ 3.4263e-01,  1.1998e+00,  5.8004e-01,  ...,  1.3122e-01,\n",
              "          -0.0000e+00, -1.2879e-01],\n",
              "         ...,\n",
              "         [ 8.5322e-01,  2.9436e+00,  1.0656e+00,  ...,  1.1087e+00,\n",
              "          -1.2608e+00,  8.3279e-01],\n",
              "         [ 4.4071e+00,  4.0453e+00, -2.6144e-01,  ...,  0.0000e+00,\n",
              "           4.0902e-02,  1.0696e+00],\n",
              "         [ 9.5102e-01,  5.4228e-01,  8.3723e-01,  ...,  5.1187e-01,\n",
              "          -8.8983e-01,  7.8805e-01]]], grad_fn=<MulBackward0>)"
            ]
          },
          "metadata": {},
          "execution_count": 115
        }
      ],
      "source": [
        "text_output_tensor"
      ]
    },
    {
      "cell_type": "code",
      "execution_count": null,
      "metadata": {
        "id": "LELScRPWUWOU"
      },
      "outputs": [],
      "source": [
        "import torch\n",
        "import torch.nn as nn\n",
        "\n",
        "class PatchEmbedding(nn.Module):\n",
        "    def __init__(self, img_size, patch_size, in_channels, embed_size):\n",
        "        super(PatchEmbedding, self).__init__()\n",
        "        self.img_size = img_size\n",
        "        self.patch_size = patch_size\n",
        "        self.in_channels = in_channels\n",
        "        self.embed_size = embed_size\n",
        "        self.num_patches = (img_size // patch_size) ** 2\n",
        "\n",
        "        self.projection = nn.Conv2d(in_channels, embed_size, kernel_size=patch_size, stride=patch_size)\n",
        "\n",
        "    def forward(self, x):\n",
        "        x = self.projection(x)  # (batch_size, embed_size, num_patches, num_patches)\n",
        "        x = x.flatten(2).transpose(1, 2)  # (batch_size, num_patches*num_patches, embed_size)\n",
        "        return x\n",
        "\n",
        "\n",
        "class VisionTransformer(nn.Module):\n",
        "    def __init__(\n",
        "        self,\n",
        "        img_size,\n",
        "        patch_size,\n",
        "        in_channels,\n",
        "        embed_size,\n",
        "        num_layers,\n",
        "        heads,\n",
        "        device,\n",
        "        forward_expansion,\n",
        "        dropout,\n",
        "        num_classes,\n",
        "        max_length,\n",
        "    ):\n",
        "        super(VisionTransformer, self).__init__()\n",
        "        self.patch_embedding = PatchEmbedding(img_size, patch_size, in_channels, embed_size)\n",
        "        self.position_embedding = nn.Embedding(max_length, embed_size)\n",
        "\n",
        "        self.layers = nn.ModuleList(\n",
        "            [\n",
        "                TransformerBlock(\n",
        "                    embed_size,\n",
        "                    heads,\n",
        "                    dropout=dropout,\n",
        "                    forward_expansion=forward_expansion,\n",
        "                )\n",
        "                for _ in range(num_layers)\n",
        "            ]\n",
        "        )\n",
        "\n",
        "        self.classification_head = nn.Linear(embed_size, num_classes)\n",
        "        self.dropout = nn.Dropout(dropout)\n",
        "        self.device = device\n",
        "\n",
        "    def forward(self, x, mask=None):\n",
        "        x = self.patch_embedding(x)\n",
        "        N, num_patches, _ = x.shape\n",
        "\n",
        "        positions = torch.arange(0, num_patches).expand(N, num_patches).to(self.device)\n",
        "        x += self.position_embedding(positions)\n",
        "\n",
        "        for layer in self.layers:\n",
        "            x = layer(x, x, x, mask)\n",
        "        #print(x.shape)\n",
        "        #print(x[:, 0].shape)\n",
        "        # Take only the first token (CLS token) and pass it through the classification head\n",
        "        #cls_token = x[:, 0]\n",
        "        cls_token = x\n",
        "        cls_token = self.dropout(cls_token)\n",
        "        logits = self.classification_head(cls_token)\n",
        "\n",
        "        return logits\n"
      ]
    },
    {
      "cell_type": "code",
      "execution_count": null,
      "metadata": {
        "id": "-NYZGRs_aCYB"
      },
      "outputs": [],
      "source": [
        "dftemp = df.head(10)"
      ]
    },
    {
      "cell_type": "code",
      "execution_count": null,
      "metadata": {
        "colab": {
          "base_uri": "https://localhost:8080/",
          "height": 363
        },
        "id": "Rlb3Oy6uaCWt",
        "outputId": "90154f3b-30ac-48f5-b1d5-9091897e90dc"
      },
      "outputs": [
        {
          "output_type": "execute_result",
          "data": {
            "text/plain": [
              "                                                 url  \\\n",
              "0  https://static.wixstatic.com/media/039af8_8b6f...   \n",
              "1                   https://i.imgflip.com/2vo3mr.jpg   \n",
              "2  https://i.pinimg.com/200x150/36/c9/d5/36c9d5bb...   \n",
              "3  http://cdn.salemweb.net/godtube/2011/09/16/337...   \n",
              "4  https://thumbs.dreamstime.com/t/le-mari-et-l-%...   \n",
              "5  http://wheresmysammich.com/images/thumbs/47937...   \n",
              "6  https://thumbs.dreamstime.com/z/gor%C4%85ce-ro...   \n",
              "7  https://postila.ru/resize?w=460&src=%2Fdata%2F...   \n",
              "8  https://thumbs.dreamstime.com/z/toskana-k%C3%B...   \n",
              "9  https://cdn.shopify.com/s/files/1/1377/4645/pr...   \n",
              "\n",
              "                              prompt category  \\\n",
              "0                  meme Bert Is Evil     meme   \n",
              "1           meme #FirstWorldProblems     meme   \n",
              "2                     meme Keep Calm     meme   \n",
              "3  meme \"Fuck it, we'll do it live!\"     meme   \n",
              "4  meme \"Fuck it, we'll do it live!\"     meme   \n",
              "5                   meme Rickrolling     meme   \n",
              "6     meme American Chopper argument     meme   \n",
              "7                      meme #Winning     meme   \n",
              "8                   meme Ceiling Cat     meme   \n",
              "9                           toy doll     toys   \n",
              "\n",
              "                                         image_array  \n",
              "0  [[[241, 241, 232], [245, 243, 234], [235, 231,...  \n",
              "1  [[[194, 192, 171], [194, 192, 171], [193, 192,...  \n",
              "2  [[[57, 27, 3], [63, 33, 9], [63, 32, 7], [57, ...  \n",
              "3  [[[128, 161, 178], [154, 188, 205], [156, 188,...  \n",
              "4  [[[133, 111, 97], [132, 114, 99], [131, 117, 1...  \n",
              "5  [[[43, 43, 43], [42, 42, 42], [41, 41, 41], [4...  \n",
              "6  [[[186, 89, 18], [182, 85, 14], [183, 85, 14],...  \n",
              "7  [[[254, 254, 254], [254, 254, 254], [254, 254,...  \n",
              "8  [[[201, 191, 181], [199, 189, 179], [199, 189,...  \n",
              "9  [[[236, 230, 226], [237, 231, 225], [239, 231,...  "
            ],
            "text/html": [
              "\n",
              "\n",
              "  <div id=\"df-3b919d93-250a-42d9-b5e7-ea388ebee894\">\n",
              "    <div class=\"colab-df-container\">\n",
              "      <div>\n",
              "<style scoped>\n",
              "    .dataframe tbody tr th:only-of-type {\n",
              "        vertical-align: middle;\n",
              "    }\n",
              "\n",
              "    .dataframe tbody tr th {\n",
              "        vertical-align: top;\n",
              "    }\n",
              "\n",
              "    .dataframe thead th {\n",
              "        text-align: right;\n",
              "    }\n",
              "</style>\n",
              "<table border=\"1\" class=\"dataframe\">\n",
              "  <thead>\n",
              "    <tr style=\"text-align: right;\">\n",
              "      <th></th>\n",
              "      <th>url</th>\n",
              "      <th>prompt</th>\n",
              "      <th>category</th>\n",
              "      <th>image_array</th>\n",
              "    </tr>\n",
              "  </thead>\n",
              "  <tbody>\n",
              "    <tr>\n",
              "      <th>0</th>\n",
              "      <td>https://static.wixstatic.com/media/039af8_8b6f...</td>\n",
              "      <td>meme Bert Is Evil</td>\n",
              "      <td>meme</td>\n",
              "      <td>[[[241, 241, 232], [245, 243, 234], [235, 231,...</td>\n",
              "    </tr>\n",
              "    <tr>\n",
              "      <th>1</th>\n",
              "      <td>https://i.imgflip.com/2vo3mr.jpg</td>\n",
              "      <td>meme #FirstWorldProblems</td>\n",
              "      <td>meme</td>\n",
              "      <td>[[[194, 192, 171], [194, 192, 171], [193, 192,...</td>\n",
              "    </tr>\n",
              "    <tr>\n",
              "      <th>2</th>\n",
              "      <td>https://i.pinimg.com/200x150/36/c9/d5/36c9d5bb...</td>\n",
              "      <td>meme Keep Calm</td>\n",
              "      <td>meme</td>\n",
              "      <td>[[[57, 27, 3], [63, 33, 9], [63, 32, 7], [57, ...</td>\n",
              "    </tr>\n",
              "    <tr>\n",
              "      <th>3</th>\n",
              "      <td>http://cdn.salemweb.net/godtube/2011/09/16/337...</td>\n",
              "      <td>meme \"Fuck it, we'll do it live!\"</td>\n",
              "      <td>meme</td>\n",
              "      <td>[[[128, 161, 178], [154, 188, 205], [156, 188,...</td>\n",
              "    </tr>\n",
              "    <tr>\n",
              "      <th>4</th>\n",
              "      <td>https://thumbs.dreamstime.com/t/le-mari-et-l-%...</td>\n",
              "      <td>meme \"Fuck it, we'll do it live!\"</td>\n",
              "      <td>meme</td>\n",
              "      <td>[[[133, 111, 97], [132, 114, 99], [131, 117, 1...</td>\n",
              "    </tr>\n",
              "    <tr>\n",
              "      <th>5</th>\n",
              "      <td>http://wheresmysammich.com/images/thumbs/47937...</td>\n",
              "      <td>meme Rickrolling</td>\n",
              "      <td>meme</td>\n",
              "      <td>[[[43, 43, 43], [42, 42, 42], [41, 41, 41], [4...</td>\n",
              "    </tr>\n",
              "    <tr>\n",
              "      <th>6</th>\n",
              "      <td>https://thumbs.dreamstime.com/z/gor%C4%85ce-ro...</td>\n",
              "      <td>meme American Chopper argument</td>\n",
              "      <td>meme</td>\n",
              "      <td>[[[186, 89, 18], [182, 85, 14], [183, 85, 14],...</td>\n",
              "    </tr>\n",
              "    <tr>\n",
              "      <th>7</th>\n",
              "      <td>https://postila.ru/resize?w=460&amp;src=%2Fdata%2F...</td>\n",
              "      <td>meme #Winning</td>\n",
              "      <td>meme</td>\n",
              "      <td>[[[254, 254, 254], [254, 254, 254], [254, 254,...</td>\n",
              "    </tr>\n",
              "    <tr>\n",
              "      <th>8</th>\n",
              "      <td>https://thumbs.dreamstime.com/z/toskana-k%C3%B...</td>\n",
              "      <td>meme Ceiling Cat</td>\n",
              "      <td>meme</td>\n",
              "      <td>[[[201, 191, 181], [199, 189, 179], [199, 189,...</td>\n",
              "    </tr>\n",
              "    <tr>\n",
              "      <th>9</th>\n",
              "      <td>https://cdn.shopify.com/s/files/1/1377/4645/pr...</td>\n",
              "      <td>toy doll</td>\n",
              "      <td>toys</td>\n",
              "      <td>[[[236, 230, 226], [237, 231, 225], [239, 231,...</td>\n",
              "    </tr>\n",
              "  </tbody>\n",
              "</table>\n",
              "</div>\n",
              "      <button class=\"colab-df-convert\" onclick=\"convertToInteractive('df-3b919d93-250a-42d9-b5e7-ea388ebee894')\"\n",
              "              title=\"Convert this dataframe to an interactive table.\"\n",
              "              style=\"display:none;\">\n",
              "\n",
              "  <svg xmlns=\"http://www.w3.org/2000/svg\" height=\"24px\"viewBox=\"0 0 24 24\"\n",
              "       width=\"24px\">\n",
              "    <path d=\"M0 0h24v24H0V0z\" fill=\"none\"/>\n",
              "    <path d=\"M18.56 5.44l.94 2.06.94-2.06 2.06-.94-2.06-.94-.94-2.06-.94 2.06-2.06.94zm-11 1L8.5 8.5l.94-2.06 2.06-.94-2.06-.94L8.5 2.5l-.94 2.06-2.06.94zm10 10l.94 2.06.94-2.06 2.06-.94-2.06-.94-.94-2.06-.94 2.06-2.06.94z\"/><path d=\"M17.41 7.96l-1.37-1.37c-.4-.4-.92-.59-1.43-.59-.52 0-1.04.2-1.43.59L10.3 9.45l-7.72 7.72c-.78.78-.78 2.05 0 2.83L4 21.41c.39.39.9.59 1.41.59.51 0 1.02-.2 1.41-.59l7.78-7.78 2.81-2.81c.8-.78.8-2.07 0-2.86zM5.41 20L4 18.59l7.72-7.72 1.47 1.35L5.41 20z\"/>\n",
              "  </svg>\n",
              "      </button>\n",
              "\n",
              "\n",
              "\n",
              "    <div id=\"df-1fcba321-8a27-48c1-a3d9-5915cad3a5ba\">\n",
              "      <button class=\"colab-df-quickchart\" onclick=\"quickchart('df-1fcba321-8a27-48c1-a3d9-5915cad3a5ba')\"\n",
              "              title=\"Suggest charts.\"\n",
              "              style=\"display:none;\">\n",
              "\n",
              "<svg xmlns=\"http://www.w3.org/2000/svg\" height=\"24px\"viewBox=\"0 0 24 24\"\n",
              "     width=\"24px\">\n",
              "    <g>\n",
              "        <path d=\"M19 3H5c-1.1 0-2 .9-2 2v14c0 1.1.9 2 2 2h14c1.1 0 2-.9 2-2V5c0-1.1-.9-2-2-2zM9 17H7v-7h2v7zm4 0h-2V7h2v10zm4 0h-2v-4h2v4z\"/>\n",
              "    </g>\n",
              "</svg>\n",
              "      </button>\n",
              "    </div>\n",
              "\n",
              "<style>\n",
              "  .colab-df-quickchart {\n",
              "    background-color: #E8F0FE;\n",
              "    border: none;\n",
              "    border-radius: 50%;\n",
              "    cursor: pointer;\n",
              "    display: none;\n",
              "    fill: #1967D2;\n",
              "    height: 32px;\n",
              "    padding: 0 0 0 0;\n",
              "    width: 32px;\n",
              "  }\n",
              "\n",
              "  .colab-df-quickchart:hover {\n",
              "    background-color: #E2EBFA;\n",
              "    box-shadow: 0px 1px 2px rgba(60, 64, 67, 0.3), 0px 1px 3px 1px rgba(60, 64, 67, 0.15);\n",
              "    fill: #174EA6;\n",
              "  }\n",
              "\n",
              "  [theme=dark] .colab-df-quickchart {\n",
              "    background-color: #3B4455;\n",
              "    fill: #D2E3FC;\n",
              "  }\n",
              "\n",
              "  [theme=dark] .colab-df-quickchart:hover {\n",
              "    background-color: #434B5C;\n",
              "    box-shadow: 0px 1px 3px 1px rgba(0, 0, 0, 0.15);\n",
              "    filter: drop-shadow(0px 1px 2px rgba(0, 0, 0, 0.3));\n",
              "    fill: #FFFFFF;\n",
              "  }\n",
              "</style>\n",
              "\n",
              "    <script>\n",
              "      async function quickchart(key) {\n",
              "        const containerElement = document.querySelector('#' + key);\n",
              "        const charts = await google.colab.kernel.invokeFunction(\n",
              "            'suggestCharts', [key], {});\n",
              "      }\n",
              "    </script>\n",
              "\n",
              "      <script>\n",
              "\n",
              "function displayQuickchartButton(domScope) {\n",
              "  let quickchartButtonEl =\n",
              "    domScope.querySelector('#df-1fcba321-8a27-48c1-a3d9-5915cad3a5ba button.colab-df-quickchart');\n",
              "  quickchartButtonEl.style.display =\n",
              "    google.colab.kernel.accessAllowed ? 'block' : 'none';\n",
              "}\n",
              "\n",
              "        displayQuickchartButton(document);\n",
              "      </script>\n",
              "      <style>\n",
              "    .colab-df-container {\n",
              "      display:flex;\n",
              "      flex-wrap:wrap;\n",
              "      gap: 12px;\n",
              "    }\n",
              "\n",
              "    .colab-df-convert {\n",
              "      background-color: #E8F0FE;\n",
              "      border: none;\n",
              "      border-radius: 50%;\n",
              "      cursor: pointer;\n",
              "      display: none;\n",
              "      fill: #1967D2;\n",
              "      height: 32px;\n",
              "      padding: 0 0 0 0;\n",
              "      width: 32px;\n",
              "    }\n",
              "\n",
              "    .colab-df-convert:hover {\n",
              "      background-color: #E2EBFA;\n",
              "      box-shadow: 0px 1px 2px rgba(60, 64, 67, 0.3), 0px 1px 3px 1px rgba(60, 64, 67, 0.15);\n",
              "      fill: #174EA6;\n",
              "    }\n",
              "\n",
              "    [theme=dark] .colab-df-convert {\n",
              "      background-color: #3B4455;\n",
              "      fill: #D2E3FC;\n",
              "    }\n",
              "\n",
              "    [theme=dark] .colab-df-convert:hover {\n",
              "      background-color: #434B5C;\n",
              "      box-shadow: 0px 1px 3px 1px rgba(0, 0, 0, 0.15);\n",
              "      filter: drop-shadow(0px 1px 2px rgba(0, 0, 0, 0.3));\n",
              "      fill: #FFFFFF;\n",
              "    }\n",
              "  </style>\n",
              "\n",
              "      <script>\n",
              "        const buttonEl =\n",
              "          document.querySelector('#df-3b919d93-250a-42d9-b5e7-ea388ebee894 button.colab-df-convert');\n",
              "        buttonEl.style.display =\n",
              "          google.colab.kernel.accessAllowed ? 'block' : 'none';\n",
              "\n",
              "        async function convertToInteractive(key) {\n",
              "          const element = document.querySelector('#df-3b919d93-250a-42d9-b5e7-ea388ebee894');\n",
              "          const dataTable =\n",
              "            await google.colab.kernel.invokeFunction('convertToInteractive',\n",
              "                                                     [key], {});\n",
              "          if (!dataTable) return;\n",
              "\n",
              "          const docLinkHtml = 'Like what you see? Visit the ' +\n",
              "            '<a target=\"_blank\" href=https://colab.research.google.com/notebooks/data_table.ipynb>data table notebook</a>'\n",
              "            + ' to learn more about interactive tables.';\n",
              "          element.innerHTML = '';\n",
              "          dataTable['output_type'] = 'display_data';\n",
              "          await google.colab.output.renderOutput(dataTable, element);\n",
              "          const docLink = document.createElement('div');\n",
              "          docLink.innerHTML = docLinkHtml;\n",
              "          element.appendChild(docLink);\n",
              "        }\n",
              "      </script>\n",
              "    </div>\n",
              "  </div>\n"
            ]
          },
          "metadata": {},
          "execution_count": 118
        }
      ],
      "source": [
        "dftemp"
      ]
    },
    {
      "cell_type": "code",
      "execution_count": null,
      "metadata": {
        "id": "ipp1JRuyaCVJ"
      },
      "outputs": [],
      "source": [
        "image_paths = dftemp['image_array'].tolist()"
      ]
    },
    {
      "cell_type": "code",
      "execution_count": null,
      "metadata": {
        "id": "wQJ03cvbaCRA"
      },
      "outputs": [],
      "source": [
        "preprocess = transforms.Compose([\n",
        "    #transforms.Resize((256, 256)),  # Resize images to a fixed size (e.g., 256x256)\n",
        "    transforms.ToTensor(),          # Convert images to tensors\n",
        "    transforms.Normalize(mean=[0.485, 0.456, 0.406], std=[0.229, 0.224, 0.225])  # Normalize the tensor\n",
        "])\n",
        "i = 0\n",
        "preprocessed_images = []\n",
        "for image_path in image_paths:\n",
        "    img = image_paths[i]\n",
        "    img = preprocess(img)\n",
        "    preprocessed_images.append(img)\n",
        "    i = i+1\n",
        "\n",
        "\n",
        "stacked_images_tensor = torch.stack(preprocessed_images)"
      ]
    },
    {
      "cell_type": "code",
      "execution_count": null,
      "metadata": {
        "colab": {
          "base_uri": "https://localhost:8080/"
        },
        "id": "B_Yh15Qgxt3q",
        "outputId": "04a12a10-7183-4826-ac7a-85b9c9e1cb32"
      },
      "outputs": [
        {
          "output_type": "execute_result",
          "data": {
            "text/plain": [
              "10"
            ]
          },
          "metadata": {},
          "execution_count": 121
        }
      ],
      "source": [
        "i"
      ]
    },
    {
      "cell_type": "code",
      "execution_count": null,
      "metadata": {
        "colab": {
          "base_uri": "https://localhost:8080/"
        },
        "id": "aQcnx73myaCm",
        "outputId": "8383f4ba-5967-4e53-f664-62c617e91673"
      },
      "outputs": [
        {
          "output_type": "execute_result",
          "data": {
            "text/plain": [
              "torch.Size([10, 3, 224, 224])"
            ]
          },
          "metadata": {},
          "execution_count": 40
        }
      ],
      "source": [
        "stacked_images_tensor.shape"
      ]
    },
    {
      "cell_type": "code",
      "source": [
        "stacked_images_tensor.shape"
      ],
      "metadata": {
        "colab": {
          "base_uri": "https://localhost:8080/"
        },
        "id": "JFcc5YrYHQq1",
        "outputId": "4822343d-8ac9-429f-c1fb-8a95d27e2ceb"
      },
      "execution_count": null,
      "outputs": [
        {
          "output_type": "execute_result",
          "data": {
            "text/plain": [
              "torch.Size([10, 3, 224, 224])"
            ]
          },
          "metadata": {},
          "execution_count": 123
        }
      ]
    },
    {
      "cell_type": "code",
      "execution_count": null,
      "metadata": {
        "colab": {
          "base_uri": "https://localhost:8080/"
        },
        "id": "If2XHm2myaGK",
        "outputId": "61496159-c1bd-4642-841b-9ea7b35ecb74"
      },
      "outputs": [
        {
          "output_type": "stream",
          "name": "stdout",
          "text": [
            "torch.Size([10, 196, 40])\n"
          ]
        }
      ],
      "source": [
        "\n",
        "import torch\n",
        "import torch.nn as nn\n",
        "\n",
        "# Example input image size and patch size\n",
        "img_size = 224\n",
        "patch_size = 16\n",
        "in_channels = 3  # Assuming RGB images\n",
        "\n",
        "# Vision Transformer parameters\n",
        "embed_size = 256\n",
        "num_layers = 6\n",
        "heads = 8\n",
        "dropout = 0.1\n",
        "num_classes = 40  # Replace this with the number of classes in your classification task\n",
        "#num_classes = 142*128\n",
        "max_length = (img_size // patch_size) ** 2 + 1  # +1 for the CLS token\n",
        "\n",
        "# Create 10 random input images as a batch (batch_size=10)\n",
        "batch_size = 10\n",
        "input_images = stacked_images_tensor\n",
        "\n",
        "# Create the VisionTransformer model\n",
        "model = VisionTransformer(\n",
        "    img_size=img_size,\n",
        "    patch_size=patch_size,\n",
        "    in_channels=in_channels,\n",
        "    embed_size=embed_size,\n",
        "    num_layers=num_layers,\n",
        "    heads=heads,\n",
        "    device='cuda' if torch.cuda.is_available() else 'cpu',\n",
        "    forward_expansion=4,  # You can adjust this value if needed\n",
        "    dropout=dropout,\n",
        "    num_classes=num_classes,\n",
        "    max_length=max_length,\n",
        ")\n",
        "\n",
        "\n",
        "# Move the model to the appropriate device (CPU or GPU)\n",
        "device = torch.device('cuda' if torch.cuda.is_available() else 'cpu')\n",
        "model = model.to(device)\n",
        "\n",
        "# Forward pass to get the output tensor\n",
        "with torch.no_grad():\n",
        "    model.eval()\n",
        "    input_images = input_images.to(device)\n",
        "    image_output_tensor = model(input_images)\n",
        "\n",
        "print(image_output_tensor.shape)"
      ]
    },
    {
      "cell_type": "code",
      "execution_count": null,
      "metadata": {
        "id": "Luy8sqPPBNA7",
        "colab": {
          "base_uri": "https://localhost:8080/"
        },
        "outputId": "8cda88d2-1c60-452e-9d50-c0e2bef4ce71"
      },
      "outputs": [
        {
          "output_type": "stream",
          "name": "stdout",
          "text": [
            "tensor([[[-0.7285, -0.8557,  1.0983,  ...,  0.1058, -0.0040,  1.4328],\n",
            "         [-0.4563, -0.4228, -0.5972,  ...,  0.1845, -0.8843,  0.2663],\n",
            "         [-0.2212, -0.6337, -0.8496,  ...,  0.1360,  0.0905,  0.1873],\n",
            "         ...,\n",
            "         [ 0.2514, -0.3927, -0.2670,  ...,  0.2568,  0.3627, -0.2634],\n",
            "         [-0.1293, -0.1820,  0.5785,  ...,  1.2420, -0.3475, -0.2039],\n",
            "         [-0.3908, -0.7066, -0.2163,  ...,  0.3405,  0.4511,  0.4615]],\n",
            "\n",
            "        [[-0.8022, -0.9944,  1.1772,  ..., -0.0739, -0.0947,  1.4439],\n",
            "         [-0.5821, -0.3609, -0.5386,  ...,  0.1215, -1.1517,  0.3308],\n",
            "         [-0.5760, -0.3206, -1.0060,  ..., -0.2443, -0.0244,  0.2794],\n",
            "         ...,\n",
            "         [ 0.0846, -0.4143, -0.1419,  ...,  0.0778,  0.1169,  0.0361],\n",
            "         [-0.3477,  0.0871,  0.6260,  ...,  1.2359,  0.2867, -0.0160],\n",
            "         [-0.3261, -0.2824, -0.2798,  ...,  0.3872,  0.6690,  0.4935]],\n",
            "\n",
            "        [[-0.6840, -0.1908,  0.5949,  ..., -0.8000, -0.6878,  0.7443],\n",
            "         [-0.5703,  0.0104, -1.0118,  ..., -0.4883, -1.5771, -0.1151],\n",
            "         [-0.0498, -0.4290, -1.0793,  ..., -0.7991, -0.5368, -0.2971],\n",
            "         ...,\n",
            "         [ 0.8824, -0.7205, -0.1917,  ..., -0.2900,  0.1149,  0.1437],\n",
            "         [-0.0524,  0.5635,  0.7793,  ...,  0.6918, -0.6206, -0.1962],\n",
            "         [ 0.0800, -0.1357, -0.9479,  ..., -0.9445, -0.1770, -0.4517]],\n",
            "\n",
            "        ...,\n",
            "\n",
            "        [[-0.6945, -0.7842,  0.7919,  ...,  0.1209,  0.1987,  1.1627],\n",
            "         [-0.4986, -0.3643, -0.8122,  ...,  0.1375, -0.5808,  0.2173],\n",
            "         [-0.3713, -0.7348, -1.0411,  ...,  0.1974,  0.1958,  0.0668],\n",
            "         ...,\n",
            "         [-0.0772, -0.5992, -0.2587,  ...,  0.8778,  0.5043,  0.3678],\n",
            "         [-0.3405, -0.1635,  0.5167,  ...,  1.1335,  0.1147,  0.0775],\n",
            "         [-0.5033, -0.4600, -0.4409,  ...,  0.4733,  0.4529,  0.2762]],\n",
            "\n",
            "        [[-0.8695, -0.8859,  0.9548,  ...,  0.0706,  0.0406,  1.3336],\n",
            "         [-0.5668, -0.2623, -0.7616,  ...,  0.2724, -1.0043,  0.3002],\n",
            "         [-0.3339, -0.6232, -1.0976,  ...,  0.1835,  0.1279,  0.1775],\n",
            "         ...,\n",
            "         [-0.1183, -0.2622, -0.6470,  ...,  0.1379,  0.3461,  0.0589],\n",
            "         [-0.5918,  0.4143,  0.1834,  ...,  0.3471, -0.1891, -0.2661],\n",
            "         [-0.5913,  0.0145, -1.0276,  ..., -0.4495,  0.3975, -0.1174]],\n",
            "\n",
            "        [[-0.7747, -0.9535,  0.9363,  ...,  0.1847,  0.0326,  1.2879],\n",
            "         [-0.5638, -0.4377, -0.5190,  ...,  0.2987, -0.7916,  0.3592],\n",
            "         [-0.3248, -0.6964, -0.7852,  ...,  0.3154,  0.1632,  0.3020],\n",
            "         ...,\n",
            "         [ 0.2801, -0.6077, -0.4757,  ...,  0.7251,  0.6280, -0.0069],\n",
            "         [-0.5629,  0.3800,  0.6143,  ...,  1.4526, -0.2311,  0.0646],\n",
            "         [-0.7617, -0.5448, -0.4748,  ...,  0.2130,  0.4391,  0.5093]]])\n"
          ]
        }
      ],
      "source": []
    },
    {
      "cell_type": "code",
      "execution_count": null,
      "metadata": {
        "id": "Be2zT5jgyBkn"
      },
      "outputs": [],
      "source": [
        "def image_tens():\n",
        "    # Move the model to the appropriate device (CPU or GPU)\n",
        "    device = torch.device('cuda' if torch.cuda.is_available() else 'cpu')\n",
        "    model = model.to(device)\n",
        "\n",
        "    # Forward pass to get the output tensor\n",
        "    with torch.no_grad():\n",
        "        model.eval()  # Set the model to evaluation mode (important for dropout layers)\n",
        "        input_images = input_images.to(device)\n",
        "        image_output_tensor = model(input_images)\n",
        "\n",
        "    #print(image_output_tensor.shape)  # Output should be torch.Size([10, 10, 256])\n",
        "    return(image_output_tensor)\n"
      ]
    },
    {
      "cell_type": "markdown",
      "metadata": {
        "id": "bO0fp8zt3eki"
      },
      "source": [
        "* For text = text_output_tensor\n",
        "\n",
        "\n",
        "* For images = image_output_tensor"
      ]
    },
    {
      "cell_type": "code",
      "execution_count": null,
      "metadata": {
        "id": "-uvpvB0JaCO0"
      },
      "outputs": [],
      "source": [
        "def resize_tensor(text_output_tensor):\n",
        "  x_size = text_output_tensor.size(1)\n",
        "  y_size = text_output_tensor.size(2)\n",
        "\n",
        "  z_size = x_size * y_size\n",
        "\n",
        "  text_output_tensor = text_output_tensor.view(10, z_size)\n",
        "  return text_output_tensor"
      ]
    },
    {
      "cell_type": "code",
      "execution_count": null,
      "metadata": {
        "colab": {
          "base_uri": "https://localhost:8080/"
        },
        "id": "BMTxp8x4aCLu",
        "outputId": "460899fd-133e-4d5e-edcf-a4e90f796f7e"
      },
      "outputs": [
        {
          "output_type": "stream",
          "name": "stdout",
          "text": [
            "torch.Size([10, 20, 392])\n",
            "torch.Size([10, 196, 40])\n"
          ]
        }
      ],
      "source": [
        "print(text_output_tensor.shape)\n",
        "print(image_output_tensor.shape)"
      ]
    },
    {
      "cell_type": "code",
      "execution_count": null,
      "metadata": {
        "id": "YKh0KdXeIMJk"
      },
      "outputs": [],
      "source": [
        "temp = 7840\n",
        "text_output_tensor1 = text_output_tensor.view(10, temp)\n",
        "image_output_tensor1 = image_output_tensor.view(10, temp)\n",
        "#image_output_tensor = image_output_tensor.transpose(0, 1)"
      ]
    },
    {
      "cell_type": "code",
      "execution_count": null,
      "metadata": {
        "colab": {
          "base_uri": "https://localhost:8080/"
        },
        "id": "RNc6N1Y_KAZM",
        "outputId": "0a8869b8-4124-432c-f78e-509d0ed3af48"
      },
      "outputs": [
        {
          "output_type": "stream",
          "name": "stdout",
          "text": [
            "torch.Size([10, 7840])\n",
            "torch.Size([10, 7840])\n"
          ]
        }
      ],
      "source": [
        "print(text_output_tensor1.shape)\n",
        "print(image_output_tensor1.shape)"
      ]
    },
    {
      "cell_type": "code",
      "source": [
        "text_output_tensor1"
      ],
      "metadata": {
        "colab": {
          "base_uri": "https://localhost:8080/"
        },
        "id": "qeaSgRf3-Cdl",
        "outputId": "1fba6d16-71dc-45c5-9a7d-7669cb1cdb04"
      },
      "execution_count": null,
      "outputs": [
        {
          "output_type": "execute_result",
          "data": {
            "text/plain": [
              "tensor([[ 0.4837, -0.4086,  0.1829,  ..., -0.8030, -0.1954, -0.8844],\n",
              "        [-2.9763, -0.3849, -0.3297,  ..., -0.0000, -2.2630, -0.1113],\n",
              "        [ 0.0554,  0.6807,  0.0592,  ..., -0.4407, -0.0359,  0.8325],\n",
              "        ...,\n",
              "        [ 0.8149, -0.4646,  0.9473,  ...,  3.0940,  0.0256, -2.8862],\n",
              "        [ 0.4620, -0.5134,  0.3801,  ...,  0.5175,  0.1402,  0.0000],\n",
              "        [ 0.0000,  0.5092,  0.4142,  ...,  0.5119, -0.8898,  0.7881]],\n",
              "       grad_fn=<ViewBackward0>)"
            ]
          },
          "metadata": {},
          "execution_count": 131
        }
      ]
    },
    {
      "cell_type": "code",
      "source": [
        "image_output_tensor1"
      ],
      "metadata": {
        "colab": {
          "base_uri": "https://localhost:8080/"
        },
        "id": "bQjuJ8yz-E0D",
        "outputId": "0b3c99be-a620-49d1-c305-cc6679563cac"
      },
      "execution_count": null,
      "outputs": [
        {
          "output_type": "execute_result",
          "data": {
            "text/plain": [
              "tensor([[-0.7285, -0.8557,  1.0983,  ...,  0.3405,  0.4511,  0.4615],\n",
              "        [-0.8022, -0.9944,  1.1772,  ...,  0.3872,  0.6690,  0.4935],\n",
              "        [-0.6840, -0.1908,  0.5949,  ..., -0.9445, -0.1770, -0.4517],\n",
              "        ...,\n",
              "        [-0.6945, -0.7842,  0.7919,  ...,  0.4733,  0.4529,  0.2762],\n",
              "        [-0.8695, -0.8859,  0.9548,  ..., -0.4495,  0.3975, -0.1174],\n",
              "        [-0.7747, -0.9535,  0.9363,  ...,  0.2130,  0.4391,  0.5093]])"
            ]
          },
          "metadata": {},
          "execution_count": 132
        }
      ]
    },
    {
      "cell_type": "code",
      "execution_count": null,
      "metadata": {
        "id": "smqL3BjuJjEi"
      },
      "outputs": [],
      "source": [
        "import torch\n",
        "import torch.nn as nn\n",
        "import torch.optim as optim\n",
        "import torch.nn.functional as F"
      ]
    },
    {
      "cell_type": "code",
      "execution_count": null,
      "metadata": {
        "id": "j577eFcDMPz3"
      },
      "outputs": [],
      "source": [
        "import torch\n",
        "import torch.nn as nn\n",
        "import torch.optim as optim\n",
        "import torch.nn.functional as F\n",
        "\n",
        "# Assuming you have a custom image and text encoder models\n",
        "# Replace these with your actual models\n",
        "#image_encoder = model\n",
        "#text_encoder = encoder\n",
        "\n",
        "class CLIPModel(nn.Module):\n",
        "    def __init__(self):\n",
        "        super().__init__()\n",
        "        self.image_encoder = model\n",
        "        self.text_encoder = encoder\n",
        "\n",
        "    def forward(self, input_images, input_tensor, mask):\n",
        "        # Getting Image and Text Features\n",
        "        image_features = self.image_encoder(input_images)\n",
        "        text_features = self.text_encoder(input_tensor, mask)\n",
        "\n",
        "        batch_size = input_images.size(0)\n",
        "        temp = 7840\n",
        "        text_features_flat = text_features.view(batch_size, temp)\n",
        "        image_features_flat = image_features.view(batch_size, temp)\n",
        "\n",
        "        # to trnspose\n",
        "        image_features_flat = image_features_flat.transpose(0, 1)\n",
        "\n",
        "        # Matrix multiplication\n",
        "        #predicted_matrix = torch.matmul(text_features_flat, image_features_flat)\n",
        "        #print(predicted_matrix.shape)\n",
        "        #return predicted_matrix\n",
        "        return text_features_flat, image_features_flat\n"
      ]
    },
    {
      "cell_type": "code",
      "source": [],
      "metadata": {
        "id": "MMmJ0_6a-exU"
      },
      "execution_count": null,
      "outputs": []
    },
    {
      "cell_type": "code",
      "execution_count": null,
      "metadata": {
        "id": "0IhBYZIHdcf3"
      },
      "outputs": [],
      "source": [
        "def pred_matrix(text_features_flat, image_features_flat):\n",
        "  predicted_matrix = torch.matmul(text_features_flat, image_features_flat)\n",
        "  #print(predicted_matrix)\n",
        "  return predicted_matrix"
      ]
    },
    {
      "cell_type": "code",
      "execution_count": null,
      "metadata": {
        "id": "cnxVpbkRfUm8"
      },
      "outputs": [],
      "source": [
        "my_model = CLIPModel().to(device)\n",
        "#predicted_matrix = my_model(input_images, input_tensor, mask)"
      ]
    },
    {
      "cell_type": "code",
      "execution_count": null,
      "metadata": {
        "id": "qrV_dY2xerP3"
      },
      "outputs": [],
      "source": [
        "#criterion = nn.CrossEntropyLoss()\n",
        "criterion = nn.MSELoss(size_average=None, reduce=None, reduction='mean')\n",
        "optimizer = optim.Adam(my_model.parameters(), lr=0.01)"
      ]
    },
    {
      "cell_type": "code",
      "execution_count": null,
      "metadata": {
        "id": "jdNbNt6VhoP-"
      },
      "outputs": [],
      "source": [
        "epochs = 15"
      ]
    },
    {
      "cell_type": "code",
      "source": [
        "batch_size"
      ],
      "metadata": {
        "colab": {
          "base_uri": "https://localhost:8080/"
        },
        "id": "CirPnUzB_ImI",
        "outputId": "089e1639-a042-42ee-9001-44af1e5f4e6f"
      },
      "execution_count": null,
      "outputs": [
        {
          "output_type": "execute_result",
          "data": {
            "text/plain": [
              "10"
            ]
          },
          "metadata": {},
          "execution_count": 138
        }
      ]
    },
    {
      "cell_type": "code",
      "execution_count": null,
      "metadata": {
        "id": "vEjtA0rMh5sv"
      },
      "outputs": [],
      "source": [
        "targets = 1000*torch.eye(batch_size)"
      ]
    },
    {
      "cell_type": "code",
      "execution_count": null,
      "metadata": {
        "colab": {
          "base_uri": "https://localhost:8080/"
        },
        "id": "v--nLmI870rm",
        "outputId": "236bc81e-b899-4ce8-fa3d-737b4386db0c"
      },
      "outputs": [
        {
          "output_type": "execute_result",
          "data": {
            "text/plain": [
              "tensor([[1000.,    0.,    0.,    0.,    0.,    0.,    0.,    0.,    0.,    0.],\n",
              "        [   0., 1000.,    0.,    0.,    0.,    0.,    0.,    0.,    0.,    0.],\n",
              "        [   0.,    0., 1000.,    0.,    0.,    0.,    0.,    0.,    0.,    0.],\n",
              "        [   0.,    0.,    0., 1000.,    0.,    0.,    0.,    0.,    0.,    0.],\n",
              "        [   0.,    0.,    0.,    0., 1000.,    0.,    0.,    0.,    0.,    0.],\n",
              "        [   0.,    0.,    0.,    0.,    0., 1000.,    0.,    0.,    0.,    0.],\n",
              "        [   0.,    0.,    0.,    0.,    0.,    0., 1000.,    0.,    0.,    0.],\n",
              "        [   0.,    0.,    0.,    0.,    0.,    0.,    0., 1000.,    0.,    0.],\n",
              "        [   0.,    0.,    0.,    0.,    0.,    0.,    0.,    0., 1000.,    0.],\n",
              "        [   0.,    0.,    0.,    0.,    0.,    0.,    0.,    0.,    0., 1000.]])"
            ]
          },
          "metadata": {},
          "execution_count": 140
        }
      ],
      "source": [
        "targets"
      ]
    },
    {
      "cell_type": "code",
      "execution_count": null,
      "metadata": {
        "id": "V2rkynKNiaaS"
      },
      "outputs": [],
      "source": [
        "my_data = (input_images, input_tensor, mask)"
      ]
    },
    {
      "cell_type": "code",
      "execution_count": null,
      "metadata": {
        "id": "ePOE1EEUjH3l"
      },
      "outputs": [],
      "source": [
        "device = torch.device('cuda' if torch.cuda.is_available() else 'cpu')"
      ]
    },
    {
      "cell_type": "code",
      "execution_count": null,
      "metadata": {
        "colab": {
          "base_uri": "https://localhost:8080/"
        },
        "id": "4pUOuFqE7B2X",
        "outputId": "39ade7d1-ae14-42f4-a340-4fcd38cae5c2"
      },
      "outputs": [
        {
          "output_type": "stream",
          "name": "stdout",
          "text": [
            "tensor([[-1.7129,  0.9559,  0.6576,  ..., -0.6016, -0.2351, -0.0040],\n",
            "        [-1.7129,  0.9559,  0.6576,  ..., -0.6016, -0.2351, -0.0040],\n",
            "        [-1.7129,  0.9559,  0.6576,  ..., -0.6016, -0.2351, -0.0040],\n",
            "        ...,\n",
            "        [-1.7129,  0.9559,  0.6576,  ..., -0.6016, -0.2351, -0.0040],\n",
            "        [-1.7129,  0.9559,  0.6576,  ..., -0.6016, -0.2351, -0.0040],\n",
            "        [-1.7129,  0.9559,  0.6576,  ..., -0.6016, -0.2351, -0.0040]],\n",
            "       grad_fn=<ViewBackward0>) tensor([[-0.5899, -0.5899, -0.5899,  ..., -0.5899, -0.5899, -0.5899],\n",
            "        [ 0.4548,  0.4548,  0.4548,  ...,  0.4548,  0.4548,  0.4548],\n",
            "        [-0.4351, -0.4351, -0.4351,  ..., -0.4351, -0.4351, -0.4351],\n",
            "        ...,\n",
            "        [-0.3597, -0.3597, -0.3597,  ..., -0.3597, -0.3597, -0.3597],\n",
            "        [ 0.3833,  0.3833,  0.3833,  ...,  0.3833,  0.3833,  0.3833],\n",
            "        [ 1.0119,  1.0119,  1.0119,  ...,  1.0119,  1.0119,  1.0119]],\n",
            "       grad_fn=<TransposeBackward0>)\n",
            "Epoch: 0\n",
            "tensor([[-1.9772,  0.8829,  0.8450,  ..., -0.5467, -0.1995,  0.2872],\n",
            "        [-1.9759,  0.9029,  0.8407,  ..., -0.5387, -0.1453,  0.3035],\n",
            "        [-1.8761,  0.7453,  0.8999,  ..., -0.5410, -0.1437,  0.2978],\n",
            "        ...,\n",
            "        [-1.9671,  0.7679,  0.8841,  ..., -0.5182, -0.1312,  0.0000],\n",
            "        [-1.9467,  0.8279,  0.8867,  ..., -0.5439, -0.1548,  0.2938],\n",
            "        [-0.0000,  0.8173,  0.9184,  ..., -0.5611, -0.0000,  0.3134]],\n",
            "       grad_fn=<ViewBackward0>) tensor([[-0.3324, -0.3054, -0.5975,  ..., -0.7000, -0.2578, -0.5354],\n",
            "        [ 0.4729,  0.1847,  0.2308,  ...,  0.4854, -0.2446,  0.0072],\n",
            "        [-0.2859,  0.0438,  0.0517,  ...,  0.0696,  0.1965,  0.0461],\n",
            "        ...,\n",
            "        [-1.2666, -1.2716, -1.1010,  ..., -0.7629, -1.0061, -1.2891],\n",
            "        [ 0.6134,  0.2179,  0.4977,  ...,  0.2082,  0.3126,  0.0831],\n",
            "        [ 1.0468,  0.6482,  0.5078,  ...,  1.4015,  0.8400,  0.8436]],\n",
            "       grad_fn=<TransposeBackward0>)\n",
            "Epoch: 1\n",
            "tensor([[-1.9624,  0.6552,  0.8912,  ..., -0.4410, -0.1202,  0.4408],\n",
            "        [-1.9500,  0.6271,  0.9618,  ..., -0.4407, -0.0728,  0.4347],\n",
            "        [-1.9703,  0.6065,  0.9268,  ..., -0.0000, -0.1071,  0.4532],\n",
            "        ...,\n",
            "        [-1.8803,  0.5477,  0.9907,  ..., -0.4238, -0.0000,  0.4456],\n",
            "        [-1.9628,  0.6870,  0.9156,  ..., -0.4362, -0.0815,  0.4385],\n",
            "        [-0.0000,  0.6152,  0.9279,  ..., -0.4706, -0.0000,  0.4329]],\n",
            "       grad_fn=<ViewBackward0>) tensor([[-0.3108,  0.1227, -0.2912,  ..., -0.0965,  0.1244, -0.2214],\n",
            "        [-0.2898,  0.1152,  0.4675,  ...,  0.3808, -0.1050, -0.2870],\n",
            "        [ 0.6202,  0.2165,  0.4444,  ...,  0.8221,  1.0291,  0.7482],\n",
            "        ...,\n",
            "        [-1.7159, -1.9982, -1.5464,  ..., -1.7222, -2.0766, -1.6951],\n",
            "        [ 0.0953,  0.5903, -0.2361,  ..., -0.0181,  0.4208,  0.1612],\n",
            "        [ 0.8641,  0.9553,  0.8030,  ...,  0.9970,  0.2234,  0.2214]],\n",
            "       grad_fn=<TransposeBackward0>)\n",
            "Epoch: 2\n",
            "tensor([[-1.9511,  0.4620,  0.9559,  ..., -0.3328, -0.0450,  0.5444],\n",
            "        [-1.9469,  0.4988,  0.0000,  ..., -0.3205, -0.0071,  0.5535],\n",
            "        [-1.9582,  0.0000,  0.0000,  ..., -0.3455, -0.0142,  0.5433],\n",
            "        ...,\n",
            "        [-1.9269,  0.4304,  1.0212,  ..., -0.3372, -0.0058,  0.5461],\n",
            "        [-0.0000,  0.5145,  0.9295,  ..., -0.3459, -0.0000,  0.5509],\n",
            "        [-1.9476,  0.5392,  0.9383,  ..., -0.3598, -0.0103,  0.5125]],\n",
            "       grad_fn=<ViewBackward0>) tensor([[-0.0589,  0.5889,  0.0905,  ..., -0.4095,  0.2501, -0.0045],\n",
            "        [-0.4518, -0.1765, -0.4647,  ...,  0.0382, -0.3794, -0.0624],\n",
            "        [ 1.0657,  1.0830,  1.3371,  ...,  0.6857,  1.2311,  1.1095],\n",
            "        ...,\n",
            "        [-1.5814, -2.5676, -2.6577,  ..., -2.6072, -2.2711, -2.1041],\n",
            "        [ 0.2494,  0.0879,  0.0858,  ..., -0.0584,  0.2649,  0.6214],\n",
            "        [ 0.1037,  0.2424,  0.8352,  ...,  0.3654,  0.5801,  0.5145]],\n",
            "       grad_fn=<TransposeBackward0>)\n",
            "Epoch: 3\n",
            "tensor([[-0.0000,  0.3919,  0.9866,  ..., -0.2944, -0.0291,  0.6070],\n",
            "        [-1.9413,  0.4098,  0.9748,  ..., -0.2719, -0.0515,  0.5909],\n",
            "        [-1.9503,  0.4180,  0.9664,  ..., -0.3094, -0.0323,  0.0000],\n",
            "        ...,\n",
            "        [-1.9520,  0.4010,  0.9747,  ..., -0.2960, -0.0396,  0.6078],\n",
            "        [-1.9469,  0.4087,  0.9568,  ..., -0.2853, -0.0339,  0.6103],\n",
            "        [-1.9297,  0.3715,  1.0006,  ..., -0.3123, -0.0496,  0.5979]],\n",
            "       grad_fn=<ViewBackward0>) tensor([[ 0.9668,  0.6606,  0.4049,  ...,  0.8070,  0.7679,  0.4364],\n",
            "        [-0.3137, -0.6445, -0.2910,  ..., -0.5469, -0.7036, -0.4613],\n",
            "        [ 1.1822,  1.9461,  1.7659,  ...,  1.3941,  1.3502,  1.5955],\n",
            "        ...,\n",
            "        [-3.3620, -3.2270, -3.1706,  ..., -2.9620, -3.0218, -3.0914],\n",
            "        [ 0.1657,  0.0747,  0.2016,  ...,  0.2781, -0.3038, -0.0130],\n",
            "        [ 0.4270, -0.0436,  0.3201,  ...,  0.8487,  0.9307, -0.0737]],\n",
            "       grad_fn=<TransposeBackward0>)\n",
            "Epoch: 4\n"
          ]
        },
        {
          "output_type": "execute_result",
          "data": {
            "text/plain": [
              "CLIPModel(\n",
              "  (image_encoder): VisionTransformer(\n",
              "    (patch_embedding): PatchEmbedding(\n",
              "      (projection): Conv2d(3, 256, kernel_size=(16, 16), stride=(16, 16))\n",
              "    )\n",
              "    (position_embedding): Embedding(197, 256)\n",
              "    (layers): ModuleList(\n",
              "      (0-5): 6 x TransformerBlock(\n",
              "        (attention): SelfAttention(\n",
              "          (values): Linear(in_features=256, out_features=256, bias=True)\n",
              "          (keys): Linear(in_features=256, out_features=256, bias=True)\n",
              "          (queries): Linear(in_features=256, out_features=256, bias=True)\n",
              "          (fc_out): Linear(in_features=256, out_features=256, bias=True)\n",
              "        )\n",
              "        (norm1): LayerNorm((256,), eps=1e-05, elementwise_affine=True)\n",
              "        (norm2): LayerNorm((256,), eps=1e-05, elementwise_affine=True)\n",
              "        (feed_forward): Sequential(\n",
              "          (0): Linear(in_features=256, out_features=1024, bias=True)\n",
              "          (1): ReLU()\n",
              "          (2): Linear(in_features=1024, out_features=256, bias=True)\n",
              "        )\n",
              "        (dropout): Dropout(p=0.1, inplace=False)\n",
              "      )\n",
              "    )\n",
              "    (classification_head): Linear(in_features=256, out_features=40, bias=True)\n",
              "    (dropout): Dropout(p=0.1, inplace=False)\n",
              "  )\n",
              "  (text_encoder): Encoder(\n",
              "    (word_embedding): Embedding(1000, 392)\n",
              "    (position_embedding): Embedding(150, 392)\n",
              "    (layers): ModuleList(\n",
              "      (0-5): 6 x TransformerBlock(\n",
              "        (attention): SelfAttention(\n",
              "          (values): Linear(in_features=392, out_features=392, bias=True)\n",
              "          (keys): Linear(in_features=392, out_features=392, bias=True)\n",
              "          (queries): Linear(in_features=392, out_features=392, bias=True)\n",
              "          (fc_out): Linear(in_features=392, out_features=392, bias=True)\n",
              "        )\n",
              "        (norm1): LayerNorm((392,), eps=1e-05, elementwise_affine=True)\n",
              "        (norm2): LayerNorm((392,), eps=1e-05, elementwise_affine=True)\n",
              "        (feed_forward): Sequential(\n",
              "          (0): Linear(in_features=392, out_features=1568, bias=True)\n",
              "          (1): ReLU()\n",
              "          (2): Linear(in_features=1568, out_features=392, bias=True)\n",
              "        )\n",
              "        (dropout): Dropout(p=0.1, inplace=False)\n",
              "      )\n",
              "    )\n",
              "    (dropout): Dropout(p=0.1, inplace=False)\n",
              "  )\n",
              ")"
            ]
          },
          "metadata": {},
          "execution_count": 145
        }
      ],
      "source": [
        "import torch\n",
        "import torch.nn as nn\n",
        "import torch.optim as optim\n",
        "\n",
        "\n",
        "# Define your cross_entropy function\n",
        "def cross_entropy(preds, targets, reduction='mean'):\n",
        "    log_softmax = nn.LogSoftmax(dim=-1)\n",
        "    loss = (-targets * log_softmax(preds)).sum(1)\n",
        "    if reduction == \"mean\":\n",
        "        return loss.mean()\n",
        "    elif reduction == \"sum\":\n",
        "        return loss.sum()\n",
        "    else:\n",
        "        return loss\n",
        "\n",
        "criterion = nn.MSELoss()\n",
        "\n",
        "# Assuming you have a training loop\n",
        "epochs = 5\n",
        "device = torch.device('cuda' if torch.cuda.is_available() else 'cpu')\n",
        "my_model.to(device)\n",
        "\n",
        "for epoch in range(epochs):\n",
        "        #my_model.train()  # Set the model to training mode\n",
        "    #for batch_idx, (input_images, input_tensor, mask, targets) in enumerate(train_loader):\n",
        "        # Move data to the device\n",
        "        input_images = input_images.to(device)\n",
        "        input_tensor = input_tensor.to(device)\n",
        "        mask = mask.to(device)\n",
        "        targets = targets.to(device)\n",
        "\n",
        "        # Forward pass to get predictions\n",
        "        a, b = my_model(input_images, input_tensor, mask)\n",
        "        print(a,b)\n",
        "        scores = pred_matrix(a, b)\n",
        "\n",
        "        ground_truth_matrix = 1000*torch.eye(10)  # Identity matrix of size (10, 10)\n",
        "\n",
        "        # Calculate the mean squared error loss\n",
        "        #loss = F.mse_loss(scores, ground_truth_matrix)\n",
        "        # Compute the cross-entropy loss\n",
        "        loss = cross_entropy(scores, targets, reduction='mean')\n",
        "        #loss = criterion(scores, targets)\n",
        "        #print(loss.item())  # Print the loss for each batch\n",
        "\n",
        "\n",
        "        # Perform backpropagation and update model parameters\n",
        "        optimizer.zero_grad()\n",
        "        loss.backward()\n",
        "        optimizer.step()\n",
        "\n",
        "        print('Epoch:', epoch)\n",
        "        #print(scores)\n",
        "        my_model.train()\n",
        "\n",
        "# After training, you can switch the model to evaluation mode before making predictions.\n",
        "my_model.eval()\n"
      ]
    },
    {
      "cell_type": "code",
      "execution_count": null,
      "metadata": {
        "colab": {
          "base_uri": "https://localhost:8080/"
        },
        "id": "WyCEq-r67v62",
        "outputId": "62fa0e81-9349-40ac-92e9-0a6857afc454"
      },
      "outputs": [
        {
          "output_type": "stream",
          "name": "stdout",
          "text": [
            "tensor([[1330.4524, 1274.8289, 1288.9905, 1289.8621, 1301.0552, 1252.7659,\n",
            "         1291.7332, 1276.0105, 1264.9371, 1336.3562],\n",
            "        [1344.9308, 1281.1897, 1283.5940, 1287.3844, 1304.9342, 1247.2356,\n",
            "         1301.3933, 1285.5803, 1267.9680, 1366.5996],\n",
            "        [1319.8713, 1259.2062, 1264.8359, 1249.7379, 1276.5583, 1212.7511,\n",
            "         1263.3159, 1259.3708, 1257.9832, 1323.8003],\n",
            "        [1335.0276, 1250.8412, 1257.6436, 1256.4061, 1280.3801, 1199.5854,\n",
            "         1277.3486, 1236.6224, 1244.0259, 1319.3960],\n",
            "        [1344.1985, 1272.7249, 1294.4536, 1287.6489, 1313.3770, 1252.3737,\n",
            "         1305.6685, 1269.3167, 1273.0503, 1351.0890],\n",
            "        [1332.3577, 1269.3467, 1283.8257, 1277.3861, 1306.1401, 1251.7676,\n",
            "         1314.3220, 1266.4905, 1270.1614, 1347.3773],\n",
            "        [1346.6340, 1284.2849, 1295.5767, 1301.6548, 1312.4468, 1268.9785,\n",
            "         1302.6438, 1293.2473, 1283.9990, 1361.3018],\n",
            "        [1345.8276, 1286.3767, 1293.3661, 1291.6174, 1302.1572, 1259.0327,\n",
            "         1283.1123, 1273.8168, 1281.8311, 1359.6604],\n",
            "        [1289.0317, 1240.5302, 1256.6151, 1232.6497, 1267.3722, 1194.9106,\n",
            "         1268.1046, 1224.6877, 1238.5276, 1315.7744],\n",
            "        [1389.7498, 1316.6180, 1325.9254, 1327.0950, 1332.3433, 1284.7424,\n",
            "         1326.1130, 1300.9832, 1297.7642, 1381.2085]], grad_fn=<MmBackward0>)\n"
          ]
        }
      ],
      "source": [
        "print(scores)"
      ]
    },
    {
      "cell_type": "code",
      "execution_count": null,
      "metadata": {
        "id": "DFQPlnky6XZ0"
      },
      "outputs": [],
      "source": [
        "def cross_entropy(preds, targets, reduction='none'):\n",
        "    log_softmax = nn.LogSoftmax(dim=-1)\n",
        "    loss = (-targets * log_softmax(preds)).sum(1)\n",
        "    if reduction == \"none\":\n",
        "        return loss\n",
        "    elif reduction == \"mean\":\n",
        "        return loss.mean()"
      ]
    },
    {
      "cell_type": "code",
      "source": [
        "mask.shape"
      ],
      "metadata": {
        "colab": {
          "base_uri": "https://localhost:8080/"
        },
        "id": "v28fKwV-RGYf",
        "outputId": "411fbc57-d2d3-42fe-a7e9-e93d0709ca62"
      },
      "execution_count": null,
      "outputs": [
        {
          "output_type": "execute_result",
          "data": {
            "text/plain": [
              "torch.Size([10, 1, 1, 20])"
            ]
          },
          "metadata": {},
          "execution_count": 65
        }
      ]
    },
    {
      "cell_type": "code",
      "source": [
        "a"
      ],
      "metadata": {
        "colab": {
          "base_uri": "https://localhost:8080/"
        },
        "id": "RCZBqu-PFVYj",
        "outputId": "6066938d-f37a-443a-a7a4-41c4d7c701fe"
      },
      "execution_count": null,
      "outputs": [
        {
          "output_type": "execute_result",
          "data": {
            "text/plain": [
              "tensor([[-2.1907, -0.1324,  0.0000,  ..., -1.8535, -0.2541,  2.1599],\n",
              "        [-2.1869, -0.1375,  0.4212,  ..., -1.8523, -0.2542,  2.1615],\n",
              "        [-2.1863, -0.1328,  0.4226,  ..., -1.8506, -0.2522,  2.1628],\n",
              "        ...,\n",
              "        [-2.1891, -0.1362,  0.4219,  ..., -1.8543, -0.2541,  2.1592],\n",
              "        [-2.1907, -0.1296,  0.0000,  ..., -0.0000, -0.2437,  2.1611],\n",
              "        [-2.1868, -0.1295,  0.4134,  ..., -1.8474, -0.2528,  2.1578]],\n",
              "       grad_fn=<ViewBackward0>)"
            ]
          },
          "metadata": {},
          "execution_count": 66
        }
      ]
    },
    {
      "cell_type": "code",
      "execution_count": null,
      "metadata": {
        "id": "3DmCPfPPhkBX"
      },
      "outputs": [],
      "source": [
        "a, b = my_model(input_images, input_tensor, mask)"
      ]
    },
    {
      "cell_type": "code",
      "execution_count": null,
      "metadata": {
        "id": "B6NUaE00hkEB",
        "colab": {
          "base_uri": "https://localhost:8080/"
        },
        "outputId": "eaaed593-a8a2-4cfc-c1e9-35c5f7fb9b9d"
      },
      "outputs": [
        {
          "output_type": "execute_result",
          "data": {
            "text/plain": [
              "tensor([[-1.9789, -0.3080,  0.5120,  ..., -1.5675, -0.0826,  1.9187],\n",
              "        [-1.9789, -0.3080,  0.5120,  ..., -1.5675, -0.0826,  1.9187],\n",
              "        [-1.9789, -0.3080,  0.5120,  ..., -1.5675, -0.0826,  1.9187],\n",
              "        ...,\n",
              "        [-1.9789, -0.3080,  0.5120,  ..., -1.5675, -0.0826,  1.9187],\n",
              "        [-1.9789, -0.3080,  0.5120,  ..., -1.5675, -0.0826,  1.9187],\n",
              "        [-1.9789, -0.3080,  0.5120,  ..., -1.5675, -0.0826,  1.9187]],\n",
              "       grad_fn=<ViewBackward0>)"
            ]
          },
          "metadata": {},
          "execution_count": 77
        }
      ],
      "source": [
        "a"
      ]
    },
    {
      "cell_type": "code",
      "source": [
        "print(c[1])"
      ],
      "metadata": {
        "colab": {
          "base_uri": "https://localhost:8080/",
          "height": 166
        },
        "id": "sM1dWUqTEkN0",
        "outputId": "1f050794-a8ae-4701-9f70-b22e05e2c0f2"
      },
      "execution_count": null,
      "outputs": [
        {
          "output_type": "error",
          "ename": "NameError",
          "evalue": "ignored",
          "traceback": [
            "\u001b[0;31m---------------------------------------------------------------------------\u001b[0m",
            "\u001b[0;31mNameError\u001b[0m                                 Traceback (most recent call last)",
            "\u001b[0;32m<ipython-input-69-8a21c57dcc0d>\u001b[0m in \u001b[0;36m<cell line: 1>\u001b[0;34m()\u001b[0m\n\u001b[0;32m----> 1\u001b[0;31m \u001b[0mprint\u001b[0m\u001b[0;34m(\u001b[0m\u001b[0mc\u001b[0m\u001b[0;34m[\u001b[0m\u001b[0;36m1\u001b[0m\u001b[0;34m]\u001b[0m\u001b[0;34m)\u001b[0m\u001b[0;34m\u001b[0m\u001b[0;34m\u001b[0m\u001b[0m\n\u001b[0m",
            "\u001b[0;31mNameError\u001b[0m: name 'c' is not defined"
          ]
        }
      ]
    },
    {
      "cell_type": "code",
      "source": [
        "input_images[0]"
      ],
      "metadata": {
        "id": "EYALnd1T8Juy"
      },
      "execution_count": null,
      "outputs": []
    },
    {
      "cell_type": "code",
      "execution_count": null,
      "metadata": {
        "id": "SimN2wTghkKo"
      },
      "outputs": [],
      "source": [
        " temp"
      ]
    },
    {
      "cell_type": "code",
      "execution_count": null,
      "metadata": {
        "id": "IOqE2G_HhaHQ"
      },
      "outputs": [],
      "source": []
    },
    {
      "cell_type": "code",
      "execution_count": null,
      "metadata": {
        "id": "gLsH9TKDhaLB"
      },
      "outputs": [],
      "source": []
    },
    {
      "cell_type": "code",
      "execution_count": null,
      "metadata": {
        "id": "OCTAO5EZVOl6"
      },
      "outputs": [],
      "source": [
        "first_batch = input_images[:1, :, :, :]"
      ]
    },
    {
      "cell_type": "code",
      "execution_count": null,
      "metadata": {
        "id": "ciTcZQBXVOoU"
      },
      "outputs": [],
      "source": [
        "first_batch.shape"
      ]
    },
    {
      "cell_type": "code",
      "execution_count": null,
      "metadata": {
        "id": "DLZin-LmVOvu",
        "colab": {
          "base_uri": "https://localhost:8080/"
        },
        "outputId": "c207f1e6-aedb-4db5-84f4-08e0f8d7c313"
      },
      "outputs": [
        {
          "output_type": "execute_result",
          "data": {
            "text/plain": [
              "tensor([[[[ 2.0092,  2.0777,  1.9064,  ...,  1.3070,  1.2385,  1.2728],\n",
              "          [ 1.8037,  1.9064,  1.8379,  ...,  1.1872,  1.2385,  1.2385],\n",
              "          [ 1.6495,  1.7865,  1.7865,  ...,  1.2214,  1.2385,  1.2043],\n",
              "          ...,\n",
              "          [ 1.6838,  1.5125,  1.3755,  ...,  2.0605,  2.0605,  2.0605],\n",
              "          [ 1.7523,  1.6838,  1.6495,  ...,  2.0605,  2.0605,  2.0605],\n",
              "          [ 1.8893,  1.8379,  1.7865,  ...,  2.0605,  2.0605,  2.0605]],\n",
              "\n",
              "         [[ 2.1835,  2.2185,  2.0084,  ...,  1.3081,  1.2381,  1.2556],\n",
              "          [ 1.9909,  2.0434,  1.9384,  ...,  1.1681,  1.2381,  1.2381],\n",
              "          [ 1.7983,  1.9034,  1.8683,  ...,  1.1856,  1.2031,  1.1506],\n",
              "          ...,\n",
              "          [ 1.9209,  1.7458,  1.6232,  ...,  2.2360,  2.2360,  2.2360],\n",
              "          [ 2.0084,  1.9384,  1.9034,  ...,  2.2360,  2.2360,  2.2360],\n",
              "          [ 2.1310,  2.0784,  2.0259,  ...,  2.2360,  2.2360,  2.2360]],\n",
              "\n",
              "         [[ 2.2391,  2.2740,  2.0474,  ...,  1.2457,  1.1934,  1.2282],\n",
              "          [ 2.0474,  2.0997,  1.9951,  ...,  1.0888,  1.1759,  1.1934],\n",
              "          [ 1.8905,  1.9951,  1.9254,  ...,  1.1062,  1.1237,  1.0888],\n",
              "          ...,\n",
              "          [ 2.2914,  2.1171,  1.9777,  ...,  2.4483,  2.4483,  2.4483],\n",
              "          [ 2.3088,  2.2566,  2.2217,  ...,  2.4483,  2.4483,  2.4483],\n",
              "          [ 2.4134,  2.3786,  2.3088,  ...,  2.4483,  2.4483,  2.4483]]],\n",
              "\n",
              "\n",
              "        [[[ 1.2043,  1.2043,  1.1872,  ...,  0.9988,  1.0331,  0.9988],\n",
              "          [ 1.1358,  1.1358,  1.1358,  ...,  0.9988,  1.0502,  1.0673],\n",
              "          [ 1.1187,  1.1358,  1.1529,  ...,  0.9817,  1.0159,  1.0331],\n",
              "          ...,\n",
              "          [ 1.0159,  0.1426,  0.4508,  ...,  1.8379,  1.4783,  0.9474],\n",
              "          [ 1.3242,  0.3481,  0.1426,  ...,  1.7523,  1.4612,  1.0502],\n",
              "          [ 1.6838,  1.3584,  0.8961,  ...,  1.5297,  1.5297,  1.4783]],\n",
              "\n",
              "         [[ 1.3256,  1.3256,  1.3256,  ...,  1.1331,  1.1856,  1.1681],\n",
              "          [ 1.3081,  1.3081,  1.3081,  ...,  1.1331,  1.1506,  1.1506],\n",
              "          [ 1.3606,  1.3606,  1.3606,  ...,  1.1155,  1.1331,  1.1681],\n",
              "          ...,\n",
              "          [ 1.2206,  0.3102,  0.6078,  ...,  1.7108,  1.4132,  0.8880],\n",
              "          [ 1.4482,  0.4678,  0.2577,  ...,  1.5532,  1.2906,  0.9055],\n",
              "          [ 1.6583,  1.3431,  0.8704,  ...,  1.2381,  1.2381,  1.2031]],\n",
              "\n",
              "         [[ 1.1759,  1.1759,  1.1759,  ...,  0.8274,  0.8622,  0.8274],\n",
              "          [ 1.1759,  1.1759,  1.1585,  ...,  0.8448,  0.8797,  0.8797],\n",
              "          [ 1.2108,  1.2108,  1.2108,  ...,  0.8622,  0.8971,  0.9319],\n",
              "          ...,\n",
              "          [ 1.2805,  0.4614,  0.8797,  ...,  0.8622,  0.6879,  0.2522],\n",
              "          [ 1.4200,  0.4265,  0.3045,  ...,  0.5311,  0.3045, -0.0441],\n",
              "          [ 1.3328,  0.9145,  0.4962,  ...,  0.1825,  0.1651,  0.1825]]],\n",
              "\n",
              "\n",
              "        [[[-1.1418, -1.0390, -1.0390,  ..., -1.1760, -1.2617, -1.4500],\n",
              "          [-1.0219, -0.9534, -0.9534,  ..., -1.1589, -1.2274, -1.3987],\n",
              "          [-0.9020, -0.8507, -0.8335,  ..., -1.1418, -1.2103, -1.3473],\n",
              "          ...,\n",
              "          [-0.7137, -0.5596, -0.4397,  ..., -0.7993, -0.9877, -1.2959],\n",
              "          [-0.7650, -0.5767, -0.4054,  ..., -0.7137, -0.9192, -1.2959],\n",
              "          [-0.8164, -0.6109, -0.3712,  ..., -0.6281, -0.8335, -1.2445]],\n",
              "\n",
              "         [[-1.5630, -1.4580, -1.4755,  ..., -1.6681, -1.7031, -1.8782],\n",
              "          [-1.4405, -1.3704, -1.3880,  ..., -1.6331, -1.6681, -1.8256],\n",
              "          [-1.3179, -1.2654, -1.2829,  ..., -1.6155, -1.6681, -1.7731],\n",
              "          ...,\n",
              "          [-1.3354, -1.1604, -1.0728,  ..., -1.3704, -1.5280, -1.8081],\n",
              "          [-1.3880, -1.1779, -1.0378,  ..., -1.2654, -1.4580, -1.8081],\n",
              "          [-1.4405, -1.2129, -1.0203,  ..., -1.1604, -1.3704, -1.7731]],\n",
              "\n",
              "         [[-1.7522, -1.6476, -1.6824,  ..., -1.6302, -1.6650, -1.8044],\n",
              "          [-1.6302, -1.5604, -1.5953,  ..., -1.6127, -1.6302, -1.7522],\n",
              "          [-1.5081, -1.4559, -1.4733,  ..., -1.5953, -1.6302, -1.7173],\n",
              "          ...,\n",
              "          [-1.5430, -1.4036, -1.3164,  ..., -1.4907, -1.5953, -1.7870],\n",
              "          [-1.5953, -1.4210, -1.2816,  ..., -1.3687, -1.5256, -1.8044],\n",
              "          [-1.6476, -1.4559, -1.2641,  ..., -1.2641, -1.4384, -1.8044]]],\n",
              "\n",
              "\n",
              "        ...,\n",
              "\n",
              "\n",
              "        [[[ 2.2318,  2.2318,  2.2318,  ...,  1.2557,  1.2557,  1.2214],\n",
              "          [ 2.2318,  2.2318,  2.2318,  ...,  1.2557,  1.2557,  1.2214],\n",
              "          [ 2.2318,  2.2318,  2.2318,  ...,  1.2557,  1.2557,  1.2385],\n",
              "          ...,\n",
              "          [ 2.2147,  2.2147,  2.2318,  ...,  1.3584,  1.3584,  1.3242],\n",
              "          [ 2.2147,  2.2147,  2.2318,  ...,  1.3755,  1.3584,  1.3242],\n",
              "          [ 2.2147,  2.2147,  2.2318,  ...,  1.3755,  1.3584,  1.3242]],\n",
              "\n",
              "         [[ 2.4111,  2.4111,  2.4111,  ...,  2.0084,  2.0609,  2.0959],\n",
              "          [ 2.4111,  2.4111,  2.4111,  ...,  2.0084,  2.0609,  2.0959],\n",
              "          [ 2.4111,  2.4111,  2.4111,  ...,  2.0084,  2.0609,  2.0959],\n",
              "          ...,\n",
              "          [ 2.3936,  2.4111,  2.3936,  ...,  2.0434,  2.0959,  2.1134],\n",
              "          [ 2.3936,  2.4111,  2.3936,  ...,  2.0609,  2.0959,  2.1134],\n",
              "          [ 2.3936,  2.4111,  2.3936,  ...,  2.0609,  2.0959,  2.1134]],\n",
              "\n",
              "         [[ 2.6226,  2.6226,  2.6226,  ...,  2.6400,  2.6400,  2.6400],\n",
              "          [ 2.6226,  2.6226,  2.6226,  ...,  2.6400,  2.6400,  2.6400],\n",
              "          [ 2.6226,  2.6226,  2.6226,  ...,  2.6400,  2.6400,  2.6400],\n",
              "          ...,\n",
              "          [ 2.6400,  2.6400,  2.6400,  ...,  2.5180,  2.5529,  2.5703],\n",
              "          [ 2.6400,  2.6400,  2.6400,  ...,  2.5354,  2.5703,  2.5703],\n",
              "          [ 2.6400,  2.6400,  2.6400,  ...,  2.5529,  2.5703,  2.5703]]],\n",
              "\n",
              "\n",
              "        [[[ 1.3242,  1.2899,  1.2899,  ...,  1.3584,  1.3584,  1.3755],\n",
              "          [ 1.2728,  1.2728,  1.2728,  ...,  1.3413,  1.3413,  1.3413],\n",
              "          [ 1.2728,  1.2728,  1.2557,  ...,  1.3242,  1.3413,  1.3413],\n",
              "          ...,\n",
              "          [-1.8610, -1.8610, -1.8610,  ..., -1.8610, -1.8610, -1.8610],\n",
              "          [-1.8610, -1.8610, -1.8610,  ..., -1.8610, -1.8610, -1.8610],\n",
              "          [-1.8610, -1.8610, -1.8610,  ..., -1.8610, -1.8610, -1.8610]],\n",
              "\n",
              "         [[ 1.3081,  1.2731,  1.2731,  ...,  1.5182,  1.5182,  1.5357],\n",
              "          [ 1.2556,  1.2556,  1.2556,  ...,  1.5007,  1.5007,  1.5007],\n",
              "          [ 1.2556,  1.2556,  1.2381,  ...,  1.4832,  1.5007,  1.5007],\n",
              "          ...,\n",
              "          [ 0.0476,  0.0476,  0.0476,  ...,  0.0476,  0.0476,  0.0476],\n",
              "          [ 0.0476,  0.0476,  0.0476,  ...,  0.0476,  0.0476,  0.0476],\n",
              "          [ 0.0476,  0.0476,  0.0476,  ...,  0.0476,  0.0476,  0.0476]],\n",
              "\n",
              "         [[ 1.3502,  1.3154,  1.3154,  ...,  1.5942,  1.5942,  1.6117],\n",
              "          [ 1.2980,  1.2980,  1.2980,  ...,  1.5768,  1.5768,  1.5768],\n",
              "          [ 1.2980,  1.2980,  1.2805,  ...,  1.5594,  1.5768,  1.5768],\n",
              "          ...,\n",
              "          [ 1.2282,  1.2282,  1.2282,  ...,  1.2282,  1.2282,  1.2282],\n",
              "          [ 1.2282,  1.2282,  1.2282,  ...,  1.2282,  1.2282,  1.2282],\n",
              "          [ 1.2282,  1.2282,  1.2282,  ...,  1.2282,  1.2282,  1.2282]]],\n",
              "\n",
              "\n",
              "        [[[ 1.9235,  1.9407,  1.9749,  ...,  1.6667,  1.7009,  1.7009],\n",
              "          [ 1.9920,  1.8893,  2.0092,  ...,  1.7352,  1.6667,  1.7523],\n",
              "          [ 1.9407,  1.8037,  1.9578,  ...,  1.7694,  1.6324,  1.6838],\n",
              "          ...,\n",
              "          [ 1.9749,  1.9749,  1.9749,  ...,  1.8893,  1.9064,  1.9064],\n",
              "          [ 1.9407,  1.9407,  1.9407,  ...,  1.8893,  1.9064,  1.9064],\n",
              "          [ 1.9578,  1.9578,  1.9578,  ...,  1.8893,  1.9064,  1.9064]],\n",
              "\n",
              "         [[ 1.9909,  2.0084,  2.0084,  ...,  1.7108,  1.6232,  1.7633],\n",
              "          [ 2.0609,  1.8859,  2.0434,  ...,  1.7458,  1.6057,  1.8333],\n",
              "          [ 1.9384,  1.7458,  2.1134,  ...,  1.6933,  1.6758,  1.7458],\n",
              "          ...,\n",
              "          [ 2.1134,  2.1134,  2.1134,  ...,  2.0259,  2.0434,  2.0434],\n",
              "          [ 2.0784,  2.0784,  2.0784,  ...,  2.0259,  2.0434,  2.0434],\n",
              "          [ 2.0959,  2.0959,  2.0959,  ...,  2.0259,  2.0434,  2.0434]],\n",
              "\n",
              "         [[ 2.1346,  2.1171,  2.2566,  ...,  1.8034,  1.6117,  1.8034],\n",
              "          [ 2.1868,  2.0300,  2.2914,  ...,  1.8731,  1.6640,  1.9603],\n",
              "          [ 2.1171,  1.9080,  2.3263,  ...,  1.7860,  1.8034,  1.8731],\n",
              "          ...,\n",
              "          [ 2.3437,  2.3437,  2.3437,  ...,  2.2566,  2.2740,  2.2740],\n",
              "          [ 2.3088,  2.3088,  2.3088,  ...,  2.2566,  2.2740,  2.2740],\n",
              "          [ 2.3263,  2.3263,  2.3263,  ...,  2.2566,  2.2740,  2.2740]]]])"
            ]
          },
          "metadata": {},
          "execution_count": 148
        }
      ],
      "source": [
        "input_images"
      ]
    },
    {
      "cell_type": "code",
      "execution_count": null,
      "metadata": {
        "id": "NK6k4W4SVOxk"
      },
      "outputs": [],
      "source": [
        "x = model(input_images)"
      ]
    },
    {
      "cell_type": "code",
      "execution_count": null,
      "metadata": {
        "id": "rqY5Q1GbVOz3",
        "colab": {
          "base_uri": "https://localhost:8080/"
        },
        "outputId": "4ff03d41-9bec-4a18-f0ba-9a5cd4716ab8"
      },
      "outputs": [
        {
          "output_type": "execute_result",
          "data": {
            "text/plain": [
              "tensor([[[ 0.9269, -0.8635,  2.1012,  ..., -3.6619, -0.0741,  0.1758],\n",
              "         [ 0.9269, -0.8635,  2.1012,  ..., -3.6619, -0.0741,  0.1758],\n",
              "         [ 0.9269, -0.8635,  2.1012,  ..., -3.6619, -0.0741,  0.1758],\n",
              "         ...,\n",
              "         [ 0.9269, -0.8635,  2.1012,  ..., -3.6619, -0.0741,  0.1758],\n",
              "         [ 0.9269, -0.8635,  2.1012,  ..., -3.6619, -0.0741,  0.1758],\n",
              "         [ 0.9269, -0.8635,  2.1012,  ..., -3.6619, -0.0741,  0.1758]],\n",
              "\n",
              "        [[ 0.9269, -0.8635,  2.1012,  ..., -3.6619, -0.0741,  0.1758],\n",
              "         [ 0.9269, -0.8635,  2.1012,  ..., -3.6619, -0.0741,  0.1758],\n",
              "         [ 0.9269, -0.8635,  2.1012,  ..., -3.6619, -0.0741,  0.1758],\n",
              "         ...,\n",
              "         [ 0.9269, -0.8635,  2.1012,  ..., -3.6619, -0.0741,  0.1758],\n",
              "         [ 0.9269, -0.8635,  2.1012,  ..., -3.6619, -0.0741,  0.1758],\n",
              "         [ 0.9269, -0.8635,  2.1012,  ..., -3.6619, -0.0741,  0.1758]],\n",
              "\n",
              "        [[ 0.9269, -0.8635,  2.1012,  ..., -3.6619, -0.0741,  0.1758],\n",
              "         [ 0.9269, -0.8635,  2.1012,  ..., -3.6619, -0.0741,  0.1758],\n",
              "         [ 0.9269, -0.8635,  2.1012,  ..., -3.6619, -0.0741,  0.1758],\n",
              "         ...,\n",
              "         [ 0.9269, -0.8635,  2.1012,  ..., -3.6619, -0.0741,  0.1758],\n",
              "         [ 0.9269, -0.8635,  2.1012,  ..., -3.6619, -0.0741,  0.1758],\n",
              "         [ 0.9269, -0.8635,  2.1012,  ..., -3.6619, -0.0741,  0.1758]],\n",
              "\n",
              "        ...,\n",
              "\n",
              "        [[ 0.9269, -0.8635,  2.1012,  ..., -3.6619, -0.0741,  0.1758],\n",
              "         [ 0.9269, -0.8635,  2.1012,  ..., -3.6619, -0.0741,  0.1758],\n",
              "         [ 0.9269, -0.8635,  2.1012,  ..., -3.6619, -0.0741,  0.1758],\n",
              "         ...,\n",
              "         [ 0.9269, -0.8635,  2.1012,  ..., -3.6619, -0.0741,  0.1758],\n",
              "         [ 0.9269, -0.8635,  2.1012,  ..., -3.6619, -0.0741,  0.1758],\n",
              "         [ 0.9269, -0.8635,  2.1012,  ..., -3.6619, -0.0741,  0.1758]],\n",
              "\n",
              "        [[ 0.9269, -0.8635,  2.1012,  ..., -3.6619, -0.0741,  0.1758],\n",
              "         [ 0.9269, -0.8635,  2.1012,  ..., -3.6619, -0.0741,  0.1758],\n",
              "         [ 0.9269, -0.8635,  2.1012,  ..., -3.6619, -0.0741,  0.1758],\n",
              "         ...,\n",
              "         [ 0.9269, -0.8635,  2.1012,  ..., -3.6619, -0.0741,  0.1758],\n",
              "         [ 0.9269, -0.8635,  2.1012,  ..., -3.6619, -0.0741,  0.1758],\n",
              "         [ 0.9269, -0.8635,  2.1012,  ..., -3.6619, -0.0741,  0.1758]],\n",
              "\n",
              "        [[ 0.9269, -0.8635,  2.1012,  ..., -3.6619, -0.0741,  0.1758],\n",
              "         [ 0.9269, -0.8635,  2.1012,  ..., -3.6619, -0.0741,  0.1758],\n",
              "         [ 0.9269, -0.8635,  2.1012,  ..., -3.6619, -0.0741,  0.1758],\n",
              "         ...,\n",
              "         [ 0.9269, -0.8635,  2.1012,  ..., -3.6619, -0.0741,  0.1758],\n",
              "         [ 0.9269, -0.8635,  2.1012,  ..., -3.6619, -0.0741,  0.1758],\n",
              "         [ 0.9269, -0.8635,  2.1012,  ..., -3.6619, -0.0741,  0.1758]]],\n",
              "       grad_fn=<ViewBackward0>)"
            ]
          },
          "metadata": {},
          "execution_count": 152
        }
      ],
      "source": [
        "x"
      ]
    },
    {
      "cell_type": "code",
      "execution_count": null,
      "metadata": {
        "id": "PEeRMYKTVO3R"
      },
      "outputs": [],
      "source": []
    },
    {
      "cell_type": "code",
      "execution_count": null,
      "metadata": {
        "id": "XeIZVpBlVO5b"
      },
      "outputs": [],
      "source": []
    },
    {
      "cell_type": "code",
      "execution_count": null,
      "metadata": {
        "id": "zyPPP32QVO8b"
      },
      "outputs": [],
      "source": []
    },
    {
      "cell_type": "code",
      "execution_count": null,
      "metadata": {
        "id": "FXQpxl_Mew9o"
      },
      "outputs": [],
      "source": []
    },
    {
      "cell_type": "code",
      "execution_count": null,
      "metadata": {
        "id": "ChndVNfDMP32"
      },
      "outputs": [],
      "source": []
    },
    {
      "cell_type": "code",
      "execution_count": null,
      "metadata": {
        "id": "LzZEQoTDMP-A"
      },
      "outputs": [],
      "source": []
    },
    {
      "cell_type": "code",
      "execution_count": null,
      "metadata": {
        "id": "aSFwek4BNocs"
      },
      "outputs": [],
      "source": []
    },
    {
      "cell_type": "code",
      "execution_count": null,
      "metadata": {
        "id": "zcZj8h9INofV"
      },
      "outputs": [],
      "source": []
    },
    {
      "cell_type": "code",
      "execution_count": null,
      "metadata": {
        "id": "RtmKQ-qaNoiI"
      },
      "outputs": [],
      "source": []
    },
    {
      "cell_type": "code",
      "execution_count": null,
      "metadata": {
        "id": "Eh-C6jXHNoke"
      },
      "outputs": [],
      "source": []
    },
    {
      "cell_type": "code",
      "execution_count": null,
      "metadata": {
        "id": "eld0KpPxNonX"
      },
      "outputs": [],
      "source": []
    },
    {
      "cell_type": "code",
      "execution_count": null,
      "metadata": {
        "id": "jUJuWxn8NoqH"
      },
      "outputs": [],
      "source": []
    },
    {
      "cell_type": "code",
      "execution_count": null,
      "metadata": {
        "id": "ix0cAMSeNosK"
      },
      "outputs": [],
      "source": []
    },
    {
      "cell_type": "code",
      "execution_count": null,
      "metadata": {
        "id": "aBy1GDEXNo0V"
      },
      "outputs": [],
      "source": []
    },
    {
      "cell_type": "code",
      "execution_count": null,
      "metadata": {
        "id": "cyADl1lsNo4X"
      },
      "outputs": [],
      "source": []
    },
    {
      "cell_type": "code",
      "execution_count": null,
      "metadata": {
        "id": "poVpp3EDNo6o"
      },
      "outputs": [],
      "source": []
    },
    {
      "cell_type": "code",
      "execution_count": null,
      "metadata": {
        "id": "w-SLDrV0No9X"
      },
      "outputs": [],
      "source": []
    },
    {
      "cell_type": "code",
      "execution_count": null,
      "metadata": {
        "id": "GnFVCpD5No_b"
      },
      "outputs": [],
      "source": []
    },
    {
      "cell_type": "code",
      "execution_count": null,
      "metadata": {
        "id": "eisOfRzANpBu"
      },
      "outputs": [],
      "source": []
    },
    {
      "cell_type": "code",
      "execution_count": null,
      "metadata": {
        "id": "iihgOmvbTFxw"
      },
      "outputs": [],
      "source": []
    },
    {
      "cell_type": "code",
      "execution_count": null,
      "metadata": {
        "id": "MlsPmSu2TFz4"
      },
      "outputs": [],
      "source": []
    },
    {
      "cell_type": "code",
      "execution_count": null,
      "metadata": {
        "id": "RbafvPnMTF12"
      },
      "outputs": [],
      "source": []
    },
    {
      "cell_type": "code",
      "execution_count": null,
      "metadata": {
        "id": "-X_O9tuJTF5a"
      },
      "outputs": [],
      "source": []
    },
    {
      "cell_type": "code",
      "execution_count": null,
      "metadata": {
        "id": "CFYhaij3TGHR"
      },
      "outputs": [],
      "source": [
        "len(input_tensor)"
      ]
    },
    {
      "cell_type": "code",
      "execution_count": null,
      "metadata": {
        "id": "aZ44vkZE0Pxo"
      },
      "outputs": [],
      "source": [
        "c, d = my_model(input_images, input_tensor, mask)"
      ]
    },
    {
      "cell_type": "code",
      "execution_count": null,
      "metadata": {
        "id": "WNUxwnnOKj3A"
      },
      "outputs": [],
      "source": []
    },
    {
      "cell_type": "code",
      "execution_count": null,
      "metadata": {
        "id": "-CtKwrREKkil"
      },
      "outputs": [],
      "source": []
    },
    {
      "cell_type": "code",
      "execution_count": null,
      "metadata": {
        "colab": {
          "base_uri": "https://localhost:8080/"
        },
        "id": "Bht2sKyj0P1Z",
        "outputId": "72ff6466-254c-4b4d-a94c-7c237c8347f6"
      },
      "outputs": [
        {
          "output_type": "stream",
          "name": "stdout",
          "text": [
            "Parameter 'patch_embedding.projection.weight' is unfrozen.\n",
            "Parameter 'patch_embedding.projection.bias' is unfrozen.\n",
            "Parameter 'position_embedding.weight' is unfrozen.\n",
            "Parameter 'layers.0.attention.values.weight' is unfrozen.\n",
            "Parameter 'layers.0.attention.values.bias' is unfrozen.\n",
            "Parameter 'layers.0.attention.keys.weight' is unfrozen.\n",
            "Parameter 'layers.0.attention.keys.bias' is unfrozen.\n",
            "Parameter 'layers.0.attention.queries.weight' is unfrozen.\n",
            "Parameter 'layers.0.attention.queries.bias' is unfrozen.\n",
            "Parameter 'layers.0.attention.fc_out.weight' is unfrozen.\n",
            "Parameter 'layers.0.attention.fc_out.bias' is unfrozen.\n",
            "Parameter 'layers.0.norm1.weight' is unfrozen.\n",
            "Parameter 'layers.0.norm1.bias' is unfrozen.\n",
            "Parameter 'layers.0.norm2.weight' is unfrozen.\n",
            "Parameter 'layers.0.norm2.bias' is unfrozen.\n",
            "Parameter 'layers.0.feed_forward.0.weight' is unfrozen.\n",
            "Parameter 'layers.0.feed_forward.0.bias' is unfrozen.\n",
            "Parameter 'layers.0.feed_forward.2.weight' is unfrozen.\n",
            "Parameter 'layers.0.feed_forward.2.bias' is unfrozen.\n",
            "Parameter 'layers.1.attention.values.weight' is unfrozen.\n",
            "Parameter 'layers.1.attention.values.bias' is unfrozen.\n",
            "Parameter 'layers.1.attention.keys.weight' is unfrozen.\n",
            "Parameter 'layers.1.attention.keys.bias' is unfrozen.\n",
            "Parameter 'layers.1.attention.queries.weight' is unfrozen.\n",
            "Parameter 'layers.1.attention.queries.bias' is unfrozen.\n",
            "Parameter 'layers.1.attention.fc_out.weight' is unfrozen.\n",
            "Parameter 'layers.1.attention.fc_out.bias' is unfrozen.\n",
            "Parameter 'layers.1.norm1.weight' is unfrozen.\n",
            "Parameter 'layers.1.norm1.bias' is unfrozen.\n",
            "Parameter 'layers.1.norm2.weight' is unfrozen.\n",
            "Parameter 'layers.1.norm2.bias' is unfrozen.\n",
            "Parameter 'layers.1.feed_forward.0.weight' is unfrozen.\n",
            "Parameter 'layers.1.feed_forward.0.bias' is unfrozen.\n",
            "Parameter 'layers.1.feed_forward.2.weight' is unfrozen.\n",
            "Parameter 'layers.1.feed_forward.2.bias' is unfrozen.\n",
            "Parameter 'layers.2.attention.values.weight' is unfrozen.\n",
            "Parameter 'layers.2.attention.values.bias' is unfrozen.\n",
            "Parameter 'layers.2.attention.keys.weight' is unfrozen.\n",
            "Parameter 'layers.2.attention.keys.bias' is unfrozen.\n",
            "Parameter 'layers.2.attention.queries.weight' is unfrozen.\n",
            "Parameter 'layers.2.attention.queries.bias' is unfrozen.\n",
            "Parameter 'layers.2.attention.fc_out.weight' is unfrozen.\n",
            "Parameter 'layers.2.attention.fc_out.bias' is unfrozen.\n",
            "Parameter 'layers.2.norm1.weight' is unfrozen.\n",
            "Parameter 'layers.2.norm1.bias' is unfrozen.\n",
            "Parameter 'layers.2.norm2.weight' is unfrozen.\n",
            "Parameter 'layers.2.norm2.bias' is unfrozen.\n",
            "Parameter 'layers.2.feed_forward.0.weight' is unfrozen.\n",
            "Parameter 'layers.2.feed_forward.0.bias' is unfrozen.\n",
            "Parameter 'layers.2.feed_forward.2.weight' is unfrozen.\n",
            "Parameter 'layers.2.feed_forward.2.bias' is unfrozen.\n",
            "Parameter 'layers.3.attention.values.weight' is unfrozen.\n",
            "Parameter 'layers.3.attention.values.bias' is unfrozen.\n",
            "Parameter 'layers.3.attention.keys.weight' is unfrozen.\n",
            "Parameter 'layers.3.attention.keys.bias' is unfrozen.\n",
            "Parameter 'layers.3.attention.queries.weight' is unfrozen.\n",
            "Parameter 'layers.3.attention.queries.bias' is unfrozen.\n",
            "Parameter 'layers.3.attention.fc_out.weight' is unfrozen.\n",
            "Parameter 'layers.3.attention.fc_out.bias' is unfrozen.\n",
            "Parameter 'layers.3.norm1.weight' is unfrozen.\n",
            "Parameter 'layers.3.norm1.bias' is unfrozen.\n",
            "Parameter 'layers.3.norm2.weight' is unfrozen.\n",
            "Parameter 'layers.3.norm2.bias' is unfrozen.\n",
            "Parameter 'layers.3.feed_forward.0.weight' is unfrozen.\n",
            "Parameter 'layers.3.feed_forward.0.bias' is unfrozen.\n",
            "Parameter 'layers.3.feed_forward.2.weight' is unfrozen.\n",
            "Parameter 'layers.3.feed_forward.2.bias' is unfrozen.\n",
            "Parameter 'layers.4.attention.values.weight' is unfrozen.\n",
            "Parameter 'layers.4.attention.values.bias' is unfrozen.\n",
            "Parameter 'layers.4.attention.keys.weight' is unfrozen.\n",
            "Parameter 'layers.4.attention.keys.bias' is unfrozen.\n",
            "Parameter 'layers.4.attention.queries.weight' is unfrozen.\n",
            "Parameter 'layers.4.attention.queries.bias' is unfrozen.\n",
            "Parameter 'layers.4.attention.fc_out.weight' is unfrozen.\n",
            "Parameter 'layers.4.attention.fc_out.bias' is unfrozen.\n",
            "Parameter 'layers.4.norm1.weight' is unfrozen.\n",
            "Parameter 'layers.4.norm1.bias' is unfrozen.\n",
            "Parameter 'layers.4.norm2.weight' is unfrozen.\n",
            "Parameter 'layers.4.norm2.bias' is unfrozen.\n",
            "Parameter 'layers.4.feed_forward.0.weight' is unfrozen.\n",
            "Parameter 'layers.4.feed_forward.0.bias' is unfrozen.\n",
            "Parameter 'layers.4.feed_forward.2.weight' is unfrozen.\n",
            "Parameter 'layers.4.feed_forward.2.bias' is unfrozen.\n",
            "Parameter 'layers.5.attention.values.weight' is unfrozen.\n",
            "Parameter 'layers.5.attention.values.bias' is unfrozen.\n",
            "Parameter 'layers.5.attention.keys.weight' is unfrozen.\n",
            "Parameter 'layers.5.attention.keys.bias' is unfrozen.\n",
            "Parameter 'layers.5.attention.queries.weight' is unfrozen.\n",
            "Parameter 'layers.5.attention.queries.bias' is unfrozen.\n",
            "Parameter 'layers.5.attention.fc_out.weight' is unfrozen.\n",
            "Parameter 'layers.5.attention.fc_out.bias' is unfrozen.\n",
            "Parameter 'layers.5.norm1.weight' is unfrozen.\n",
            "Parameter 'layers.5.norm1.bias' is unfrozen.\n",
            "Parameter 'layers.5.norm2.weight' is unfrozen.\n",
            "Parameter 'layers.5.norm2.bias' is unfrozen.\n",
            "Parameter 'layers.5.feed_forward.0.weight' is unfrozen.\n",
            "Parameter 'layers.5.feed_forward.0.bias' is unfrozen.\n",
            "Parameter 'layers.5.feed_forward.2.weight' is unfrozen.\n",
            "Parameter 'layers.5.feed_forward.2.bias' is unfrozen.\n",
            "Parameter 'classification_head.weight' is unfrozen.\n",
            "Parameter 'classification_head.bias' is unfrozen.\n"
          ]
        }
      ],
      "source": [
        "import torch\n",
        "import torchvision.models as models\n",
        "\n",
        "#model =my_model\n",
        "def are_params_unfrozen(model):\n",
        "    for name, param in model.named_parameters():\n",
        "        if param.requires_grad:\n",
        "            print(f\"Parameter '{name}' is unfrozen.\")\n",
        "        else:\n",
        "            print(f\"Parameter '{name}' is frozen.\")\n",
        "\n",
        "are_params_unfrozen(model)"
      ]
    },
    {
      "cell_type": "code",
      "source": [],
      "metadata": {
        "id": "bDNQhyC5L0Sp"
      },
      "execution_count": null,
      "outputs": []
    }
  ],
  "metadata": {
    "colab": {
      "provenance": []
    },
    "kernelspec": {
      "display_name": "Python 3",
      "name": "python3"
    },
    "language_info": {
      "name": "python"
    }
  },
  "nbformat": 4,
  "nbformat_minor": 0
}